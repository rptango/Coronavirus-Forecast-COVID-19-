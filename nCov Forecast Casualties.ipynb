{
 "cells": [
  {
   "cell_type": "markdown",
   "metadata": {},
   "source": [
    "![RP Tango](./dataset/Tango_Management_logo.png \"RP Tango\")"
   ]
  },
  {
   "cell_type": "markdown",
   "metadata": {},
   "source": [
    "***\n",
    "# Coronavirus COVID-19 Forecast\n",
    "### Predicting Confirmed and Death cases\n",
    "\n",
    "**Last Update : 2/17/2020** <br>\n",
    "***"
   ]
  },
  {
   "cell_type": "code",
   "execution_count": 56,
   "metadata": {},
   "outputs": [
    {
     "data": {
      "text/html": [
       "        <script type=\"text/javascript\">\n",
       "        window.PlotlyConfig = {MathJaxConfig: 'local'};\n",
       "        if (window.MathJax) {MathJax.Hub.Config({SVG: {font: \"STIX-Web\"}});}\n",
       "        if (typeof require !== 'undefined') {\n",
       "        require.undef(\"plotly\");\n",
       "        requirejs.config({\n",
       "            paths: {\n",
       "                'plotly': ['https://cdn.plot.ly/plotly-latest.min']\n",
       "            }\n",
       "        });\n",
       "        require(['plotly'], function(Plotly) {\n",
       "            window._Plotly = Plotly;\n",
       "        });\n",
       "        }\n",
       "        </script>\n",
       "        "
      ]
     },
     "metadata": {},
     "output_type": "display_data"
    }
   ],
   "source": [
    "import numpy as np\n",
    "import pandas as pd \n",
    "import matplotlib.pyplot as plt\n",
    "import plotly.graph_objects as go \n",
    "import seaborn as sns\n",
    "import plotly\n",
    "import plotly.express as px\n",
    "from fbprophet.plot import plot_plotly\n",
    "from fbprophet import Prophet\n",
    "from plotly.offline import download_plotlyjs, init_notebook_mode, plot, iplot, plot_mpl\n",
    "import plotly.offline as py\n",
    "init_notebook_mode(connected=True)"
   ]
  },
  {
   "cell_type": "markdown",
   "metadata": {},
   "source": [
    "## 1. Data Exploration/Preparation"
   ]
  },
  {
   "cell_type": "code",
   "execution_count": 68,
   "metadata": {},
   "outputs": [
    {
     "data": {
      "text/html": [
       "<div>\n",
       "<style scoped>\n",
       "    .dataframe tbody tr th:only-of-type {\n",
       "        vertical-align: middle;\n",
       "    }\n",
       "\n",
       "    .dataframe tbody tr th {\n",
       "        vertical-align: top;\n",
       "    }\n",
       "\n",
       "    .dataframe thead th {\n",
       "        text-align: right;\n",
       "    }\n",
       "</style>\n",
       "<table border=\"1\" class=\"dataframe\">\n",
       "  <thead>\n",
       "    <tr style=\"text-align: right;\">\n",
       "      <th></th>\n",
       "      <th>Sno</th>\n",
       "      <th>Date</th>\n",
       "      <th>Province/State</th>\n",
       "      <th>Country</th>\n",
       "      <th>Last Update</th>\n",
       "      <th>Confirmed</th>\n",
       "      <th>Deaths</th>\n",
       "      <th>Recovered</th>\n",
       "    </tr>\n",
       "  </thead>\n",
       "  <tbody>\n",
       "    <tr>\n",
       "      <th>1564</th>\n",
       "      <td>1565</td>\n",
       "      <td>02/15/2020 22:00:00</td>\n",
       "      <td>Madison, WI</td>\n",
       "      <td>US</td>\n",
       "      <td>2020-02-05T21:53:02</td>\n",
       "      <td>1.0</td>\n",
       "      <td>0.0</td>\n",
       "      <td>0.0</td>\n",
       "    </tr>\n",
       "    <tr>\n",
       "      <th>1565</th>\n",
       "      <td>1566</td>\n",
       "      <td>02/15/2020 22:00:00</td>\n",
       "      <td>Orange, CA</td>\n",
       "      <td>US</td>\n",
       "      <td>2020-02-01T19:53:03</td>\n",
       "      <td>1.0</td>\n",
       "      <td>0.0</td>\n",
       "      <td>0.0</td>\n",
       "    </tr>\n",
       "    <tr>\n",
       "      <th>1566</th>\n",
       "      <td>1567</td>\n",
       "      <td>02/15/2020 22:00:00</td>\n",
       "      <td>San Antonio, TX</td>\n",
       "      <td>US</td>\n",
       "      <td>2020-02-13T18:53:02</td>\n",
       "      <td>1.0</td>\n",
       "      <td>0.0</td>\n",
       "      <td>0.0</td>\n",
       "    </tr>\n",
       "    <tr>\n",
       "      <th>1567</th>\n",
       "      <td>1568</td>\n",
       "      <td>02/15/2020 22:00:00</td>\n",
       "      <td>Seattle, WA</td>\n",
       "      <td>US</td>\n",
       "      <td>2020-02-09T07:03:04</td>\n",
       "      <td>1.0</td>\n",
       "      <td>0.0</td>\n",
       "      <td>1.0</td>\n",
       "    </tr>\n",
       "    <tr>\n",
       "      <th>1568</th>\n",
       "      <td>1569</td>\n",
       "      <td>02/15/2020 22:00:00</td>\n",
       "      <td>Tempe, AZ</td>\n",
       "      <td>US</td>\n",
       "      <td>2020-02-01T19:43:03</td>\n",
       "      <td>1.0</td>\n",
       "      <td>0.0</td>\n",
       "      <td>0.0</td>\n",
       "    </tr>\n",
       "  </tbody>\n",
       "</table>\n",
       "</div>"
      ],
      "text/plain": [
       "       Sno                 Date   Province/State Country          Last Update  \\\n",
       "1564  1565  02/15/2020 22:00:00      Madison, WI      US  2020-02-05T21:53:02   \n",
       "1565  1566  02/15/2020 22:00:00       Orange, CA      US  2020-02-01T19:53:03   \n",
       "1566  1567  02/15/2020 22:00:00  San Antonio, TX      US  2020-02-13T18:53:02   \n",
       "1567  1568  02/15/2020 22:00:00      Seattle, WA      US  2020-02-09T07:03:04   \n",
       "1568  1569  02/15/2020 22:00:00        Tempe, AZ      US  2020-02-01T19:43:03   \n",
       "\n",
       "      Confirmed  Deaths  Recovered  \n",
       "1564        1.0     0.0        0.0  \n",
       "1565        1.0     0.0        0.0  \n",
       "1566        1.0     0.0        0.0  \n",
       "1567        1.0     0.0        1.0  \n",
       "1568        1.0     0.0        0.0  "
      ]
     },
     "execution_count": 68,
     "metadata": {},
     "output_type": "execute_result"
    }
   ],
   "source": [
    "dataset = pd.read_csv('./dataset/2019_nCoV_data.csv')\n",
    "dataset.tail()"
   ]
  },
  {
   "cell_type": "code",
   "execution_count": 70,
   "metadata": {},
   "outputs": [
    {
     "data": {
      "text/plain": [
       "Sno                 0\n",
       "Date                0\n",
       "Province/State    418\n",
       "Country             0\n",
       "Last Update         0\n",
       "Confirmed           0\n",
       "Deaths              0\n",
       "Recovered           0\n",
       "dtype: int64"
      ]
     },
     "execution_count": 70,
     "metadata": {},
     "output_type": "execute_result"
    }
   ],
   "source": [
    "dataset.isnull().sum()"
   ]
  },
  {
   "cell_type": "code",
   "execution_count": 73,
   "metadata": {},
   "outputs": [
    {
     "name": "stdout",
     "output_type": "stream",
     "text": [
      "# of rows in the dataset: 1569\n",
      "# of Columns in the dataset: 8\n"
     ]
    }
   ],
   "source": [
    "print(\"# of rows in the dataset: {}\".format(dataset.shape[0]))\n",
    "print(\"# of Columns in the dataset: {}\".format(dataset.shape[1]))"
   ]
  },
  {
   "cell_type": "markdown",
   "metadata": {},
   "source": [
    "## 2. Training Dataset Separation"
   ]
  },
  {
   "cell_type": "code",
   "execution_count": 21,
   "metadata": {},
   "outputs": [],
   "source": [
    "confirmed_training_dataset = pd.DataFrame(dataset.groupby('Date')['Confirmed'].sum().reset_index()).rename(columns={'Date': 'ds', 'Confirmed': 'y'})\n",
    "death_training_dataset = pd.DataFrame(dataset.groupby('Date')['Deaths'].sum().reset_index()).rename(columns={'Date': 'ds', 'Deaths': 'y'})"
   ]
  },
  {
   "cell_type": "markdown",
   "metadata": {},
   "source": [
    "## 3. Model/Prophet  setup"
   ]
  },
  {
   "cell_type": "code",
   "execution_count": 53,
   "metadata": {},
   "outputs": [
    {
     "name": "stderr",
     "output_type": "stream",
     "text": [
      "INFO:fbprophet:Disabling yearly seasonality. Run prophet with yearly_seasonality=True to override this.\n",
      "INFO:fbprophet:n_changepoints greater than number of observations.Using 19.\n"
     ]
    }
   ],
   "source": [
    "# Prophet Model for Confirmed Cases\n",
    "prophetc = Prophet()\n",
    "prophetc.fit(confirmed_training_dataset)\n",
    "futurec = prophetc.make_future_dataframe(periods=7)\n",
    "confirmed_forecast = prophetc.predict(futurec)\n",
    "\n",
    "# Prophet Model for Death Cases\n",
    "prophetd = Prophet(\n",
    "    changepoint_range=0.90,\n",
    "    changepoint_prior_scale=20,\n",
    "    n_changepoints=17,\n",
    "    yearly_seasonality=False,\n",
    "    weekly_seasonality = False,\n",
    "    daily_seasonality = False,\n",
    "    seasonality_mode = 'additive')\n",
    "prophetd.fit(death_training_dataset)\n",
    "futured = prophetd.make_future_dataframe(periods=7)\n",
    "deaths_forecast = prophetd.predict(futured)"
   ]
  },
  {
   "cell_type": "markdown",
   "metadata": {},
   "source": [
    "## 4. Confirmed & Death Cases Visualisation"
   ]
  },
  {
   "cell_type": "code",
   "execution_count": 81,
   "metadata": {},
   "outputs": [
    {
     "data": {
      "application/vnd.plotly.v1+json": {
       "config": {
        "plotlyServerURL": "https://plot.ly"
       },
       "data": [
        {
         "marker": {
          "color": "black",
          "size": 4
         },
         "mode": "markers",
         "name": "Actual",
         "type": "scatter",
         "x": [
          "2020-01-22T12:00:00",
          "2020-01-23T12:00:00",
          "2020-01-24T12:00:00",
          "2020-01-25T22:00:00",
          "2020-01-26T23:00:00",
          "2020-01-27T20:30:00",
          "2020-01-28T23:00:00",
          "2020-01-29T21:00:00",
          "2020-01-30T21:30:00",
          "2020-01-31T19:00:00",
          "2020-02-01T23:00:00",
          "2020-02-02T21:00:00",
          "2020-02-03T21:40:00",
          "2020-02-04T22:00:00",
          "2020-02-05T12:20:00",
          "2020-02-06T20:05:00",
          "2020-02-07T20:24:00",
          "2020-02-08T23:04:00",
          "2020-02-09T23:20:00",
          "2020-02-10T19:30:00",
          "2020-02-11T20:44:00",
          "2020-02-12T22:00:00",
          "2020-02-13T21:15:00",
          "2020-02-14T22:00:00",
          "2020-02-15T22:00:00"
         ],
         "y": [
          555,
          653,
          941,
          2019,
          2794,
          4473,
          6057,
          7783,
          9776,
          11374,
          14549,
          17295,
          20588,
          24503,
          24630,
          30806,
          31532,
          37549,
          40536,
          42767,
          45117,
          60328,
          64422,
          66887,
          69032
         ]
        },
        {
         "hoverinfo": "skip",
         "line": {
          "width": 0
         },
         "mode": "lines",
         "type": "scatter",
         "x": [
          "2020-01-22T12:00:00",
          "2020-01-23T12:00:00",
          "2020-01-24T12:00:00",
          "2020-01-25T22:00:00",
          "2020-01-26T23:00:00",
          "2020-01-27T20:30:00",
          "2020-01-28T23:00:00",
          "2020-01-29T21:00:00",
          "2020-01-30T21:30:00",
          "2020-01-31T19:00:00",
          "2020-02-01T23:00:00",
          "2020-02-02T21:00:00",
          "2020-02-03T21:40:00",
          "2020-02-04T22:00:00",
          "2020-02-05T12:20:00",
          "2020-02-06T20:05:00",
          "2020-02-07T20:24:00",
          "2020-02-08T23:04:00",
          "2020-02-09T23:20:00",
          "2020-02-10T19:30:00",
          "2020-02-11T20:44:00",
          "2020-02-12T22:00:00",
          "2020-02-13T21:15:00",
          "2020-02-14T22:00:00",
          "2020-02-15T22:00:00",
          "2020-02-16T22:00:00",
          "2020-02-17T22:00:00",
          "2020-02-18T22:00:00",
          "2020-02-19T22:00:00",
          "2020-02-20T22:00:00",
          "2020-02-21T22:00:00",
          "2020-02-22T22:00:00"
         ],
         "y": [
          -3897.697038703366,
          -15.080537903472829,
          259.89347327019976,
          -1156.66562552619,
          1643.8427052538186,
          -300.2390642053702,
          2827.84563159937,
          7431.385636777711,
          10752.581270109646,
          8981.503512592231,
          12880.450117831922,
          15339.539685557618,
          19394.229273264096,
          22533.193279646694,
          22597.808061546442,
          27360.79337286249,
          30650.30060102455,
          36516.86680300516,
          38331.65810104842,
          42216.00768610256,
          45338.557068348106,
          58629.451690657224,
          58465.56315243602,
          64124.53890951218,
          66918.08746709126,
          73148.10344767096,
          76224.17429715999,
          78239.52257712574,
          86294.49300089254,
          89140.01568899855,
          91671.55642098775,
          94365.47842542795
         ]
        },
        {
         "fill": "tonexty",
         "fillcolor": "rgba(0, 114, 178, 0.2)",
         "line": {
          "color": "#0072B2",
          "width": 2
         },
         "mode": "lines",
         "name": "Predicted",
         "type": "scatter",
         "x": [
          "2020-01-22T12:00:00",
          "2020-01-23T12:00:00",
          "2020-01-24T12:00:00",
          "2020-01-25T22:00:00",
          "2020-01-26T23:00:00",
          "2020-01-27T20:30:00",
          "2020-01-28T23:00:00",
          "2020-01-29T21:00:00",
          "2020-01-30T21:30:00",
          "2020-01-31T19:00:00",
          "2020-02-01T23:00:00",
          "2020-02-02T21:00:00",
          "2020-02-03T21:40:00",
          "2020-02-04T22:00:00",
          "2020-02-05T12:20:00",
          "2020-02-06T20:05:00",
          "2020-02-07T20:24:00",
          "2020-02-08T23:04:00",
          "2020-02-09T23:20:00",
          "2020-02-10T19:30:00",
          "2020-02-11T20:44:00",
          "2020-02-12T22:00:00",
          "2020-02-13T21:15:00",
          "2020-02-14T22:00:00",
          "2020-02-15T22:00:00",
          "2020-02-16T22:00:00",
          "2020-02-17T22:00:00",
          "2020-02-18T22:00:00",
          "2020-02-19T22:00:00",
          "2020-02-20T22:00:00",
          "2020-02-21T22:00:00",
          "2020-02-22T22:00:00"
         ],
         "y": [
          -1978.5182744486556,
          1959.599558986789,
          2157.6367651397813,
          759.869934826238,
          3517.07328471027,
          1608.410227964836,
          5006.381517567228,
          9404.772647652615,
          12710.924982465862,
          10912.611849415145,
          14769.730791859562,
          17322.7086041905,
          21451.626046730926,
          24508.302565508136,
          24640.597491346143,
          29440.273834861542,
          32553.41713072016,
          38452.00675202462,
          40098.92805429804,
          44185.23958149851,
          47387.47643929394,
          60532.06786883758,
          60560.438086914284,
          66046.0341206623,
          68958.38744862542,
          75235.95325231226,
          78291.3566133296,
          80119.62866287962,
          88344.01875701442,
          91288.01713964305,
          93857.9849994012,
          96770.3383367897
         ]
        },
        {
         "fill": "tonexty",
         "fillcolor": "rgba(0, 114, 178, 0.2)",
         "hoverinfo": "skip",
         "line": {
          "width": 0
         },
         "mode": "lines",
         "type": "scatter",
         "x": [
          "2020-01-22T12:00:00",
          "2020-01-23T12:00:00",
          "2020-01-24T12:00:00",
          "2020-01-25T22:00:00",
          "2020-01-26T23:00:00",
          "2020-01-27T20:30:00",
          "2020-01-28T23:00:00",
          "2020-01-29T21:00:00",
          "2020-01-30T21:30:00",
          "2020-01-31T19:00:00",
          "2020-02-01T23:00:00",
          "2020-02-02T21:00:00",
          "2020-02-03T21:40:00",
          "2020-02-04T22:00:00",
          "2020-02-05T12:20:00",
          "2020-02-06T20:05:00",
          "2020-02-07T20:24:00",
          "2020-02-08T23:04:00",
          "2020-02-09T23:20:00",
          "2020-02-10T19:30:00",
          "2020-02-11T20:44:00",
          "2020-02-12T22:00:00",
          "2020-02-13T21:15:00",
          "2020-02-14T22:00:00",
          "2020-02-15T22:00:00",
          "2020-02-16T22:00:00",
          "2020-02-17T22:00:00",
          "2020-02-18T22:00:00",
          "2020-02-19T22:00:00",
          "2020-02-20T22:00:00",
          "2020-02-21T22:00:00",
          "2020-02-22T22:00:00"
         ],
         "y": [
          116.3581923993888,
          4068.622571506256,
          4163.270412012492,
          2718.0936736364097,
          5647.789253120217,
          3497.9020776233865,
          6958.183991838874,
          11247.108576984163,
          14704.842286380492,
          12818.940079946136,
          16776.810260775106,
          19302.687715956923,
          23311.81013944212,
          26449.951467933075,
          26744.187799256593,
          31358.885211027708,
          34639.839120991535,
          40507.058052852226,
          42211.17074181841,
          46020.011438115835,
          49424.764954024366,
          62390.582702625245,
          62512.53821265664,
          67995.50323974992,
          71013.77295420472,
          77252.1906397014,
          80290.8267826708,
          82281.73407990014,
          90555.83923160059,
          93434.19098300498,
          96286.63664095718,
          99324.91420890903
         ]
        }
       ],
       "layout": {
        "annotations": [
         {
          "font": {
           "color": "rgb(37,37,37)",
           "family": "Arial",
           "size": 22
          },
          "showarrow": false,
          "text": "Predictions of Confirmed Cases",
          "x": 0,
          "xanchor": "left",
          "xref": "paper",
          "y": 1.15,
          "yanchor": "bottom",
          "yref": "paper"
         }
        ],
        "height": 600,
        "showlegend": false,
        "template": {
         "data": {
          "bar": [
           {
            "error_x": {
             "color": "#2a3f5f"
            },
            "error_y": {
             "color": "#2a3f5f"
            },
            "marker": {
             "line": {
              "color": "#E5ECF6",
              "width": 0.5
             }
            },
            "type": "bar"
           }
          ],
          "barpolar": [
           {
            "marker": {
             "line": {
              "color": "#E5ECF6",
              "width": 0.5
             }
            },
            "type": "barpolar"
           }
          ],
          "carpet": [
           {
            "aaxis": {
             "endlinecolor": "#2a3f5f",
             "gridcolor": "white",
             "linecolor": "white",
             "minorgridcolor": "white",
             "startlinecolor": "#2a3f5f"
            },
            "baxis": {
             "endlinecolor": "#2a3f5f",
             "gridcolor": "white",
             "linecolor": "white",
             "minorgridcolor": "white",
             "startlinecolor": "#2a3f5f"
            },
            "type": "carpet"
           }
          ],
          "choropleth": [
           {
            "colorbar": {
             "outlinewidth": 0,
             "ticks": ""
            },
            "type": "choropleth"
           }
          ],
          "contour": [
           {
            "colorbar": {
             "outlinewidth": 0,
             "ticks": ""
            },
            "colorscale": [
             [
              0,
              "#0d0887"
             ],
             [
              0.1111111111111111,
              "#46039f"
             ],
             [
              0.2222222222222222,
              "#7201a8"
             ],
             [
              0.3333333333333333,
              "#9c179e"
             ],
             [
              0.4444444444444444,
              "#bd3786"
             ],
             [
              0.5555555555555556,
              "#d8576b"
             ],
             [
              0.6666666666666666,
              "#ed7953"
             ],
             [
              0.7777777777777778,
              "#fb9f3a"
             ],
             [
              0.8888888888888888,
              "#fdca26"
             ],
             [
              1,
              "#f0f921"
             ]
            ],
            "type": "contour"
           }
          ],
          "contourcarpet": [
           {
            "colorbar": {
             "outlinewidth": 0,
             "ticks": ""
            },
            "type": "contourcarpet"
           }
          ],
          "heatmap": [
           {
            "colorbar": {
             "outlinewidth": 0,
             "ticks": ""
            },
            "colorscale": [
             [
              0,
              "#0d0887"
             ],
             [
              0.1111111111111111,
              "#46039f"
             ],
             [
              0.2222222222222222,
              "#7201a8"
             ],
             [
              0.3333333333333333,
              "#9c179e"
             ],
             [
              0.4444444444444444,
              "#bd3786"
             ],
             [
              0.5555555555555556,
              "#d8576b"
             ],
             [
              0.6666666666666666,
              "#ed7953"
             ],
             [
              0.7777777777777778,
              "#fb9f3a"
             ],
             [
              0.8888888888888888,
              "#fdca26"
             ],
             [
              1,
              "#f0f921"
             ]
            ],
            "type": "heatmap"
           }
          ],
          "heatmapgl": [
           {
            "colorbar": {
             "outlinewidth": 0,
             "ticks": ""
            },
            "colorscale": [
             [
              0,
              "#0d0887"
             ],
             [
              0.1111111111111111,
              "#46039f"
             ],
             [
              0.2222222222222222,
              "#7201a8"
             ],
             [
              0.3333333333333333,
              "#9c179e"
             ],
             [
              0.4444444444444444,
              "#bd3786"
             ],
             [
              0.5555555555555556,
              "#d8576b"
             ],
             [
              0.6666666666666666,
              "#ed7953"
             ],
             [
              0.7777777777777778,
              "#fb9f3a"
             ],
             [
              0.8888888888888888,
              "#fdca26"
             ],
             [
              1,
              "#f0f921"
             ]
            ],
            "type": "heatmapgl"
           }
          ],
          "histogram": [
           {
            "marker": {
             "colorbar": {
              "outlinewidth": 0,
              "ticks": ""
             }
            },
            "type": "histogram"
           }
          ],
          "histogram2d": [
           {
            "colorbar": {
             "outlinewidth": 0,
             "ticks": ""
            },
            "colorscale": [
             [
              0,
              "#0d0887"
             ],
             [
              0.1111111111111111,
              "#46039f"
             ],
             [
              0.2222222222222222,
              "#7201a8"
             ],
             [
              0.3333333333333333,
              "#9c179e"
             ],
             [
              0.4444444444444444,
              "#bd3786"
             ],
             [
              0.5555555555555556,
              "#d8576b"
             ],
             [
              0.6666666666666666,
              "#ed7953"
             ],
             [
              0.7777777777777778,
              "#fb9f3a"
             ],
             [
              0.8888888888888888,
              "#fdca26"
             ],
             [
              1,
              "#f0f921"
             ]
            ],
            "type": "histogram2d"
           }
          ],
          "histogram2dcontour": [
           {
            "colorbar": {
             "outlinewidth": 0,
             "ticks": ""
            },
            "colorscale": [
             [
              0,
              "#0d0887"
             ],
             [
              0.1111111111111111,
              "#46039f"
             ],
             [
              0.2222222222222222,
              "#7201a8"
             ],
             [
              0.3333333333333333,
              "#9c179e"
             ],
             [
              0.4444444444444444,
              "#bd3786"
             ],
             [
              0.5555555555555556,
              "#d8576b"
             ],
             [
              0.6666666666666666,
              "#ed7953"
             ],
             [
              0.7777777777777778,
              "#fb9f3a"
             ],
             [
              0.8888888888888888,
              "#fdca26"
             ],
             [
              1,
              "#f0f921"
             ]
            ],
            "type": "histogram2dcontour"
           }
          ],
          "mesh3d": [
           {
            "colorbar": {
             "outlinewidth": 0,
             "ticks": ""
            },
            "type": "mesh3d"
           }
          ],
          "parcoords": [
           {
            "line": {
             "colorbar": {
              "outlinewidth": 0,
              "ticks": ""
             }
            },
            "type": "parcoords"
           }
          ],
          "scatter": [
           {
            "marker": {
             "colorbar": {
              "outlinewidth": 0,
              "ticks": ""
             }
            },
            "type": "scatter"
           }
          ],
          "scatter3d": [
           {
            "line": {
             "colorbar": {
              "outlinewidth": 0,
              "ticks": ""
             }
            },
            "marker": {
             "colorbar": {
              "outlinewidth": 0,
              "ticks": ""
             }
            },
            "type": "scatter3d"
           }
          ],
          "scattercarpet": [
           {
            "marker": {
             "colorbar": {
              "outlinewidth": 0,
              "ticks": ""
             }
            },
            "type": "scattercarpet"
           }
          ],
          "scattergeo": [
           {
            "marker": {
             "colorbar": {
              "outlinewidth": 0,
              "ticks": ""
             }
            },
            "type": "scattergeo"
           }
          ],
          "scattergl": [
           {
            "marker": {
             "colorbar": {
              "outlinewidth": 0,
              "ticks": ""
             }
            },
            "type": "scattergl"
           }
          ],
          "scattermapbox": [
           {
            "marker": {
             "colorbar": {
              "outlinewidth": 0,
              "ticks": ""
             }
            },
            "type": "scattermapbox"
           }
          ],
          "scatterpolar": [
           {
            "marker": {
             "colorbar": {
              "outlinewidth": 0,
              "ticks": ""
             }
            },
            "type": "scatterpolar"
           }
          ],
          "scatterpolargl": [
           {
            "marker": {
             "colorbar": {
              "outlinewidth": 0,
              "ticks": ""
             }
            },
            "type": "scatterpolargl"
           }
          ],
          "scatterternary": [
           {
            "marker": {
             "colorbar": {
              "outlinewidth": 0,
              "ticks": ""
             }
            },
            "type": "scatterternary"
           }
          ],
          "surface": [
           {
            "colorbar": {
             "outlinewidth": 0,
             "ticks": ""
            },
            "colorscale": [
             [
              0,
              "#0d0887"
             ],
             [
              0.1111111111111111,
              "#46039f"
             ],
             [
              0.2222222222222222,
              "#7201a8"
             ],
             [
              0.3333333333333333,
              "#9c179e"
             ],
             [
              0.4444444444444444,
              "#bd3786"
             ],
             [
              0.5555555555555556,
              "#d8576b"
             ],
             [
              0.6666666666666666,
              "#ed7953"
             ],
             [
              0.7777777777777778,
              "#fb9f3a"
             ],
             [
              0.8888888888888888,
              "#fdca26"
             ],
             [
              1,
              "#f0f921"
             ]
            ],
            "type": "surface"
           }
          ],
          "table": [
           {
            "cells": {
             "fill": {
              "color": "#EBF0F8"
             },
             "line": {
              "color": "white"
             }
            },
            "header": {
             "fill": {
              "color": "#C8D4E3"
             },
             "line": {
              "color": "white"
             }
            },
            "type": "table"
           }
          ]
         },
         "layout": {
          "annotationdefaults": {
           "arrowcolor": "#2a3f5f",
           "arrowhead": 0,
           "arrowwidth": 1
          },
          "colorscale": {
           "diverging": [
            [
             0,
             "#8e0152"
            ],
            [
             0.1,
             "#c51b7d"
            ],
            [
             0.2,
             "#de77ae"
            ],
            [
             0.3,
             "#f1b6da"
            ],
            [
             0.4,
             "#fde0ef"
            ],
            [
             0.5,
             "#f7f7f7"
            ],
            [
             0.6,
             "#e6f5d0"
            ],
            [
             0.7,
             "#b8e186"
            ],
            [
             0.8,
             "#7fbc41"
            ],
            [
             0.9,
             "#4d9221"
            ],
            [
             1,
             "#276419"
            ]
           ],
           "sequential": [
            [
             0,
             "#0d0887"
            ],
            [
             0.1111111111111111,
             "#46039f"
            ],
            [
             0.2222222222222222,
             "#7201a8"
            ],
            [
             0.3333333333333333,
             "#9c179e"
            ],
            [
             0.4444444444444444,
             "#bd3786"
            ],
            [
             0.5555555555555556,
             "#d8576b"
            ],
            [
             0.6666666666666666,
             "#ed7953"
            ],
            [
             0.7777777777777778,
             "#fb9f3a"
            ],
            [
             0.8888888888888888,
             "#fdca26"
            ],
            [
             1,
             "#f0f921"
            ]
           ],
           "sequentialminus": [
            [
             0,
             "#0d0887"
            ],
            [
             0.1111111111111111,
             "#46039f"
            ],
            [
             0.2222222222222222,
             "#7201a8"
            ],
            [
             0.3333333333333333,
             "#9c179e"
            ],
            [
             0.4444444444444444,
             "#bd3786"
            ],
            [
             0.5555555555555556,
             "#d8576b"
            ],
            [
             0.6666666666666666,
             "#ed7953"
            ],
            [
             0.7777777777777778,
             "#fb9f3a"
            ],
            [
             0.8888888888888888,
             "#fdca26"
            ],
            [
             1,
             "#f0f921"
            ]
           ]
          },
          "colorway": [
           "#636efa",
           "#EF553B",
           "#00cc96",
           "#ab63fa",
           "#FFA15A",
           "#19d3f3",
           "#FF6692",
           "#B6E880",
           "#FF97FF",
           "#FECB52"
          ],
          "font": {
           "color": "#2a3f5f"
          },
          "geo": {
           "bgcolor": "white",
           "lakecolor": "white",
           "landcolor": "#E5ECF6",
           "showlakes": true,
           "showland": true,
           "subunitcolor": "white"
          },
          "hoverlabel": {
           "align": "left"
          },
          "hovermode": "closest",
          "mapbox": {
           "style": "light"
          },
          "paper_bgcolor": "white",
          "plot_bgcolor": "#E5ECF6",
          "polar": {
           "angularaxis": {
            "gridcolor": "white",
            "linecolor": "white",
            "ticks": ""
           },
           "bgcolor": "#E5ECF6",
           "radialaxis": {
            "gridcolor": "white",
            "linecolor": "white",
            "ticks": ""
           }
          },
          "scene": {
           "xaxis": {
            "backgroundcolor": "#E5ECF6",
            "gridcolor": "white",
            "gridwidth": 2,
            "linecolor": "white",
            "showbackground": true,
            "ticks": "",
            "zerolinecolor": "white"
           },
           "yaxis": {
            "backgroundcolor": "#E5ECF6",
            "gridcolor": "white",
            "gridwidth": 2,
            "linecolor": "white",
            "showbackground": true,
            "ticks": "",
            "zerolinecolor": "white"
           },
           "zaxis": {
            "backgroundcolor": "#E5ECF6",
            "gridcolor": "white",
            "gridwidth": 2,
            "linecolor": "white",
            "showbackground": true,
            "ticks": "",
            "zerolinecolor": "white"
           }
          },
          "shapedefaults": {
           "line": {
            "color": "#2a3f5f"
           }
          },
          "ternary": {
           "aaxis": {
            "gridcolor": "white",
            "linecolor": "white",
            "ticks": ""
           },
           "baxis": {
            "gridcolor": "white",
            "linecolor": "white",
            "ticks": ""
           },
           "bgcolor": "#E5ECF6",
           "caxis": {
            "gridcolor": "white",
            "linecolor": "white",
            "ticks": ""
           }
          },
          "title": {
           "x": 0.05
          },
          "xaxis": {
           "automargin": true,
           "gridcolor": "white",
           "linecolor": "white",
           "ticks": "",
           "zerolinecolor": "white",
           "zerolinewidth": 2
          },
          "yaxis": {
           "automargin": true,
           "gridcolor": "white",
           "linecolor": "white",
           "ticks": "",
           "zerolinecolor": "white",
           "zerolinewidth": 2
          }
         }
        },
        "width": 900,
        "xaxis": {
         "rangeselector": {
          "buttons": [
           {
            "count": 7,
            "label": "1w",
            "step": "day",
            "stepmode": "backward"
           },
           {
            "count": 1,
            "label": "1m",
            "step": "month",
            "stepmode": "backward"
           },
           {
            "count": 6,
            "label": "6m",
            "step": "month",
            "stepmode": "backward"
           },
           {
            "count": 1,
            "label": "1y",
            "step": "year",
            "stepmode": "backward"
           },
           {
            "step": "all"
           }
          ]
         },
         "rangeslider": {
          "visible": true
         },
         "title": {
          "text": "ds"
         },
         "type": "date"
        },
        "yaxis": {
         "title": {
          "text": "y"
         }
        }
       }
      },
      "text/html": [
       "<div>\n",
       "        \n",
       "        \n",
       "            <div id=\"bc2f77a1-9924-4fa0-9a9d-a2358d875f5f\" class=\"plotly-graph-div\" style=\"height:600px; width:900px;\"></div>\n",
       "            <script type=\"text/javascript\">\n",
       "                require([\"plotly\"], function(Plotly) {\n",
       "                    window.PLOTLYENV=window.PLOTLYENV || {};\n",
       "                    \n",
       "                if (document.getElementById(\"bc2f77a1-9924-4fa0-9a9d-a2358d875f5f\")) {\n",
       "                    Plotly.newPlot(\n",
       "                        'bc2f77a1-9924-4fa0-9a9d-a2358d875f5f',\n",
       "                        [{\"marker\": {\"color\": \"black\", \"size\": 4}, \"mode\": \"markers\", \"name\": \"Actual\", \"type\": \"scatter\", \"x\": [\"2020-01-22T12:00:00\", \"2020-01-23T12:00:00\", \"2020-01-24T12:00:00\", \"2020-01-25T22:00:00\", \"2020-01-26T23:00:00\", \"2020-01-27T20:30:00\", \"2020-01-28T23:00:00\", \"2020-01-29T21:00:00\", \"2020-01-30T21:30:00\", \"2020-01-31T19:00:00\", \"2020-02-01T23:00:00\", \"2020-02-02T21:00:00\", \"2020-02-03T21:40:00\", \"2020-02-04T22:00:00\", \"2020-02-05T12:20:00\", \"2020-02-06T20:05:00\", \"2020-02-07T20:24:00\", \"2020-02-08T23:04:00\", \"2020-02-09T23:20:00\", \"2020-02-10T19:30:00\", \"2020-02-11T20:44:00\", \"2020-02-12T22:00:00\", \"2020-02-13T21:15:00\", \"2020-02-14T22:00:00\", \"2020-02-15T22:00:00\"], \"y\": [555.0, 653.0, 941.0, 2019.0, 2794.0, 4473.0, 6057.0, 7783.0, 9776.0, 11374.0, 14549.0, 17295.0, 20588.0, 24503.0, 24630.0, 30806.0, 31532.0, 37549.0, 40536.0, 42767.0, 45117.0, 60328.0, 64422.0, 66887.0, 69032.0]}, {\"hoverinfo\": \"skip\", \"line\": {\"width\": 0}, \"mode\": \"lines\", \"type\": \"scatter\", \"x\": [\"2020-01-22T12:00:00\", \"2020-01-23T12:00:00\", \"2020-01-24T12:00:00\", \"2020-01-25T22:00:00\", \"2020-01-26T23:00:00\", \"2020-01-27T20:30:00\", \"2020-01-28T23:00:00\", \"2020-01-29T21:00:00\", \"2020-01-30T21:30:00\", \"2020-01-31T19:00:00\", \"2020-02-01T23:00:00\", \"2020-02-02T21:00:00\", \"2020-02-03T21:40:00\", \"2020-02-04T22:00:00\", \"2020-02-05T12:20:00\", \"2020-02-06T20:05:00\", \"2020-02-07T20:24:00\", \"2020-02-08T23:04:00\", \"2020-02-09T23:20:00\", \"2020-02-10T19:30:00\", \"2020-02-11T20:44:00\", \"2020-02-12T22:00:00\", \"2020-02-13T21:15:00\", \"2020-02-14T22:00:00\", \"2020-02-15T22:00:00\", \"2020-02-16T22:00:00\", \"2020-02-17T22:00:00\", \"2020-02-18T22:00:00\", \"2020-02-19T22:00:00\", \"2020-02-20T22:00:00\", \"2020-02-21T22:00:00\", \"2020-02-22T22:00:00\"], \"y\": [-3897.697038703366, -15.080537903472829, 259.89347327019976, -1156.66562552619, 1643.8427052538186, -300.2390642053702, 2827.84563159937, 7431.385636777711, 10752.581270109646, 8981.503512592231, 12880.450117831922, 15339.539685557618, 19394.229273264096, 22533.193279646694, 22597.808061546442, 27360.79337286249, 30650.30060102455, 36516.86680300516, 38331.65810104842, 42216.00768610256, 45338.557068348106, 58629.451690657224, 58465.56315243602, 64124.53890951218, 66918.08746709126, 73148.10344767096, 76224.17429715999, 78239.52257712574, 86294.49300089254, 89140.01568899855, 91671.55642098775, 94365.47842542795]}, {\"fill\": \"tonexty\", \"fillcolor\": \"rgba(0, 114, 178, 0.2)\", \"line\": {\"color\": \"#0072B2\", \"width\": 2}, \"mode\": \"lines\", \"name\": \"Predicted\", \"type\": \"scatter\", \"x\": [\"2020-01-22T12:00:00\", \"2020-01-23T12:00:00\", \"2020-01-24T12:00:00\", \"2020-01-25T22:00:00\", \"2020-01-26T23:00:00\", \"2020-01-27T20:30:00\", \"2020-01-28T23:00:00\", \"2020-01-29T21:00:00\", \"2020-01-30T21:30:00\", \"2020-01-31T19:00:00\", \"2020-02-01T23:00:00\", \"2020-02-02T21:00:00\", \"2020-02-03T21:40:00\", \"2020-02-04T22:00:00\", \"2020-02-05T12:20:00\", \"2020-02-06T20:05:00\", \"2020-02-07T20:24:00\", \"2020-02-08T23:04:00\", \"2020-02-09T23:20:00\", \"2020-02-10T19:30:00\", \"2020-02-11T20:44:00\", \"2020-02-12T22:00:00\", \"2020-02-13T21:15:00\", \"2020-02-14T22:00:00\", \"2020-02-15T22:00:00\", \"2020-02-16T22:00:00\", \"2020-02-17T22:00:00\", \"2020-02-18T22:00:00\", \"2020-02-19T22:00:00\", \"2020-02-20T22:00:00\", \"2020-02-21T22:00:00\", \"2020-02-22T22:00:00\"], \"y\": [-1978.5182744486556, 1959.599558986789, 2157.6367651397813, 759.869934826238, 3517.07328471027, 1608.410227964836, 5006.381517567228, 9404.772647652615, 12710.924982465862, 10912.611849415145, 14769.730791859562, 17322.7086041905, 21451.626046730926, 24508.302565508136, 24640.597491346143, 29440.273834861542, 32553.41713072016, 38452.00675202462, 40098.92805429804, 44185.23958149851, 47387.47643929394, 60532.06786883758, 60560.438086914284, 66046.0341206623, 68958.38744862542, 75235.95325231226, 78291.3566133296, 80119.62866287962, 88344.01875701442, 91288.01713964305, 93857.9849994012, 96770.3383367897]}, {\"fill\": \"tonexty\", \"fillcolor\": \"rgba(0, 114, 178, 0.2)\", \"hoverinfo\": \"skip\", \"line\": {\"width\": 0}, \"mode\": \"lines\", \"type\": \"scatter\", \"x\": [\"2020-01-22T12:00:00\", \"2020-01-23T12:00:00\", \"2020-01-24T12:00:00\", \"2020-01-25T22:00:00\", \"2020-01-26T23:00:00\", \"2020-01-27T20:30:00\", \"2020-01-28T23:00:00\", \"2020-01-29T21:00:00\", \"2020-01-30T21:30:00\", \"2020-01-31T19:00:00\", \"2020-02-01T23:00:00\", \"2020-02-02T21:00:00\", \"2020-02-03T21:40:00\", \"2020-02-04T22:00:00\", \"2020-02-05T12:20:00\", \"2020-02-06T20:05:00\", \"2020-02-07T20:24:00\", \"2020-02-08T23:04:00\", \"2020-02-09T23:20:00\", \"2020-02-10T19:30:00\", \"2020-02-11T20:44:00\", \"2020-02-12T22:00:00\", \"2020-02-13T21:15:00\", \"2020-02-14T22:00:00\", \"2020-02-15T22:00:00\", \"2020-02-16T22:00:00\", \"2020-02-17T22:00:00\", \"2020-02-18T22:00:00\", \"2020-02-19T22:00:00\", \"2020-02-20T22:00:00\", \"2020-02-21T22:00:00\", \"2020-02-22T22:00:00\"], \"y\": [116.3581923993888, 4068.622571506256, 4163.270412012492, 2718.0936736364097, 5647.789253120217, 3497.9020776233865, 6958.183991838874, 11247.108576984163, 14704.842286380492, 12818.940079946136, 16776.810260775106, 19302.687715956923, 23311.81013944212, 26449.951467933075, 26744.187799256593, 31358.885211027708, 34639.839120991535, 40507.058052852226, 42211.17074181841, 46020.011438115835, 49424.764954024366, 62390.582702625245, 62512.53821265664, 67995.50323974992, 71013.77295420472, 77252.1906397014, 80290.8267826708, 82281.73407990014, 90555.83923160059, 93434.19098300498, 96286.63664095718, 99324.91420890903]}],\n",
       "                        {\"annotations\": [{\"font\": {\"color\": \"rgb(37,37,37)\", \"family\": \"Arial\", \"size\": 22}, \"showarrow\": false, \"text\": \"Predictions of Confirmed Cases\", \"x\": 0, \"xanchor\": \"left\", \"xref\": \"paper\", \"y\": 1.15, \"yanchor\": \"bottom\", \"yref\": \"paper\"}], \"height\": 600, \"showlegend\": false, \"template\": {\"data\": {\"bar\": [{\"error_x\": {\"color\": \"#2a3f5f\"}, \"error_y\": {\"color\": \"#2a3f5f\"}, \"marker\": {\"line\": {\"color\": \"#E5ECF6\", \"width\": 0.5}}, \"type\": \"bar\"}], \"barpolar\": [{\"marker\": {\"line\": {\"color\": \"#E5ECF6\", \"width\": 0.5}}, \"type\": \"barpolar\"}], \"carpet\": [{\"aaxis\": {\"endlinecolor\": \"#2a3f5f\", \"gridcolor\": \"white\", \"linecolor\": \"white\", \"minorgridcolor\": \"white\", \"startlinecolor\": \"#2a3f5f\"}, \"baxis\": {\"endlinecolor\": \"#2a3f5f\", \"gridcolor\": \"white\", \"linecolor\": \"white\", \"minorgridcolor\": \"white\", \"startlinecolor\": \"#2a3f5f\"}, \"type\": \"carpet\"}], \"choropleth\": [{\"colorbar\": {\"outlinewidth\": 0, \"ticks\": \"\"}, \"type\": \"choropleth\"}], \"contour\": [{\"colorbar\": {\"outlinewidth\": 0, \"ticks\": \"\"}, \"colorscale\": [[0.0, \"#0d0887\"], [0.1111111111111111, \"#46039f\"], [0.2222222222222222, \"#7201a8\"], [0.3333333333333333, \"#9c179e\"], [0.4444444444444444, \"#bd3786\"], [0.5555555555555556, \"#d8576b\"], [0.6666666666666666, \"#ed7953\"], [0.7777777777777778, \"#fb9f3a\"], [0.8888888888888888, \"#fdca26\"], [1.0, \"#f0f921\"]], \"type\": \"contour\"}], \"contourcarpet\": [{\"colorbar\": {\"outlinewidth\": 0, \"ticks\": \"\"}, \"type\": \"contourcarpet\"}], \"heatmap\": [{\"colorbar\": {\"outlinewidth\": 0, \"ticks\": \"\"}, \"colorscale\": [[0.0, \"#0d0887\"], [0.1111111111111111, \"#46039f\"], [0.2222222222222222, \"#7201a8\"], [0.3333333333333333, \"#9c179e\"], [0.4444444444444444, \"#bd3786\"], [0.5555555555555556, \"#d8576b\"], [0.6666666666666666, \"#ed7953\"], [0.7777777777777778, \"#fb9f3a\"], [0.8888888888888888, \"#fdca26\"], [1.0, \"#f0f921\"]], \"type\": \"heatmap\"}], \"heatmapgl\": [{\"colorbar\": {\"outlinewidth\": 0, \"ticks\": \"\"}, \"colorscale\": [[0.0, \"#0d0887\"], [0.1111111111111111, \"#46039f\"], [0.2222222222222222, \"#7201a8\"], [0.3333333333333333, \"#9c179e\"], [0.4444444444444444, \"#bd3786\"], [0.5555555555555556, \"#d8576b\"], [0.6666666666666666, \"#ed7953\"], [0.7777777777777778, \"#fb9f3a\"], [0.8888888888888888, \"#fdca26\"], [1.0, \"#f0f921\"]], \"type\": \"heatmapgl\"}], \"histogram\": [{\"marker\": {\"colorbar\": {\"outlinewidth\": 0, \"ticks\": \"\"}}, \"type\": \"histogram\"}], \"histogram2d\": [{\"colorbar\": {\"outlinewidth\": 0, \"ticks\": \"\"}, \"colorscale\": [[0.0, \"#0d0887\"], [0.1111111111111111, \"#46039f\"], [0.2222222222222222, \"#7201a8\"], [0.3333333333333333, \"#9c179e\"], [0.4444444444444444, \"#bd3786\"], [0.5555555555555556, \"#d8576b\"], [0.6666666666666666, \"#ed7953\"], [0.7777777777777778, \"#fb9f3a\"], [0.8888888888888888, \"#fdca26\"], [1.0, \"#f0f921\"]], \"type\": \"histogram2d\"}], \"histogram2dcontour\": [{\"colorbar\": {\"outlinewidth\": 0, \"ticks\": \"\"}, \"colorscale\": [[0.0, \"#0d0887\"], [0.1111111111111111, \"#46039f\"], [0.2222222222222222, \"#7201a8\"], [0.3333333333333333, \"#9c179e\"], [0.4444444444444444, \"#bd3786\"], [0.5555555555555556, \"#d8576b\"], [0.6666666666666666, \"#ed7953\"], [0.7777777777777778, \"#fb9f3a\"], [0.8888888888888888, \"#fdca26\"], [1.0, \"#f0f921\"]], \"type\": \"histogram2dcontour\"}], \"mesh3d\": [{\"colorbar\": {\"outlinewidth\": 0, \"ticks\": \"\"}, \"type\": \"mesh3d\"}], \"parcoords\": [{\"line\": {\"colorbar\": {\"outlinewidth\": 0, \"ticks\": \"\"}}, \"type\": \"parcoords\"}], \"scatter\": [{\"marker\": {\"colorbar\": {\"outlinewidth\": 0, \"ticks\": \"\"}}, \"type\": \"scatter\"}], \"scatter3d\": [{\"line\": {\"colorbar\": {\"outlinewidth\": 0, \"ticks\": \"\"}}, \"marker\": {\"colorbar\": {\"outlinewidth\": 0, \"ticks\": \"\"}}, \"type\": \"scatter3d\"}], \"scattercarpet\": [{\"marker\": {\"colorbar\": {\"outlinewidth\": 0, \"ticks\": \"\"}}, \"type\": \"scattercarpet\"}], \"scattergeo\": [{\"marker\": {\"colorbar\": {\"outlinewidth\": 0, \"ticks\": \"\"}}, \"type\": \"scattergeo\"}], \"scattergl\": [{\"marker\": {\"colorbar\": {\"outlinewidth\": 0, \"ticks\": \"\"}}, \"type\": \"scattergl\"}], \"scattermapbox\": [{\"marker\": {\"colorbar\": {\"outlinewidth\": 0, \"ticks\": \"\"}}, \"type\": \"scattermapbox\"}], \"scatterpolar\": [{\"marker\": {\"colorbar\": {\"outlinewidth\": 0, \"ticks\": \"\"}}, \"type\": \"scatterpolar\"}], \"scatterpolargl\": [{\"marker\": {\"colorbar\": {\"outlinewidth\": 0, \"ticks\": \"\"}}, \"type\": \"scatterpolargl\"}], \"scatterternary\": [{\"marker\": {\"colorbar\": {\"outlinewidth\": 0, \"ticks\": \"\"}}, \"type\": \"scatterternary\"}], \"surface\": [{\"colorbar\": {\"outlinewidth\": 0, \"ticks\": \"\"}, \"colorscale\": [[0.0, \"#0d0887\"], [0.1111111111111111, \"#46039f\"], [0.2222222222222222, \"#7201a8\"], [0.3333333333333333, \"#9c179e\"], [0.4444444444444444, \"#bd3786\"], [0.5555555555555556, \"#d8576b\"], [0.6666666666666666, \"#ed7953\"], [0.7777777777777778, \"#fb9f3a\"], [0.8888888888888888, \"#fdca26\"], [1.0, \"#f0f921\"]], \"type\": \"surface\"}], \"table\": [{\"cells\": {\"fill\": {\"color\": \"#EBF0F8\"}, \"line\": {\"color\": \"white\"}}, \"header\": {\"fill\": {\"color\": \"#C8D4E3\"}, \"line\": {\"color\": \"white\"}}, \"type\": \"table\"}]}, \"layout\": {\"annotationdefaults\": {\"arrowcolor\": \"#2a3f5f\", \"arrowhead\": 0, \"arrowwidth\": 1}, \"colorscale\": {\"diverging\": [[0, \"#8e0152\"], [0.1, \"#c51b7d\"], [0.2, \"#de77ae\"], [0.3, \"#f1b6da\"], [0.4, \"#fde0ef\"], [0.5, \"#f7f7f7\"], [0.6, \"#e6f5d0\"], [0.7, \"#b8e186\"], [0.8, \"#7fbc41\"], [0.9, \"#4d9221\"], [1, \"#276419\"]], \"sequential\": [[0.0, \"#0d0887\"], [0.1111111111111111, \"#46039f\"], [0.2222222222222222, \"#7201a8\"], [0.3333333333333333, \"#9c179e\"], [0.4444444444444444, \"#bd3786\"], [0.5555555555555556, \"#d8576b\"], [0.6666666666666666, \"#ed7953\"], [0.7777777777777778, \"#fb9f3a\"], [0.8888888888888888, \"#fdca26\"], [1.0, \"#f0f921\"]], \"sequentialminus\": [[0.0, \"#0d0887\"], [0.1111111111111111, \"#46039f\"], [0.2222222222222222, \"#7201a8\"], [0.3333333333333333, \"#9c179e\"], [0.4444444444444444, \"#bd3786\"], [0.5555555555555556, \"#d8576b\"], [0.6666666666666666, \"#ed7953\"], [0.7777777777777778, \"#fb9f3a\"], [0.8888888888888888, \"#fdca26\"], [1.0, \"#f0f921\"]]}, \"colorway\": [\"#636efa\", \"#EF553B\", \"#00cc96\", \"#ab63fa\", \"#FFA15A\", \"#19d3f3\", \"#FF6692\", \"#B6E880\", \"#FF97FF\", \"#FECB52\"], \"font\": {\"color\": \"#2a3f5f\"}, \"geo\": {\"bgcolor\": \"white\", \"lakecolor\": \"white\", \"landcolor\": \"#E5ECF6\", \"showlakes\": true, \"showland\": true, \"subunitcolor\": \"white\"}, \"hoverlabel\": {\"align\": \"left\"}, \"hovermode\": \"closest\", \"mapbox\": {\"style\": \"light\"}, \"paper_bgcolor\": \"white\", \"plot_bgcolor\": \"#E5ECF6\", \"polar\": {\"angularaxis\": {\"gridcolor\": \"white\", \"linecolor\": \"white\", \"ticks\": \"\"}, \"bgcolor\": \"#E5ECF6\", \"radialaxis\": {\"gridcolor\": \"white\", \"linecolor\": \"white\", \"ticks\": \"\"}}, \"scene\": {\"xaxis\": {\"backgroundcolor\": \"#E5ECF6\", \"gridcolor\": \"white\", \"gridwidth\": 2, \"linecolor\": \"white\", \"showbackground\": true, \"ticks\": \"\", \"zerolinecolor\": \"white\"}, \"yaxis\": {\"backgroundcolor\": \"#E5ECF6\", \"gridcolor\": \"white\", \"gridwidth\": 2, \"linecolor\": \"white\", \"showbackground\": true, \"ticks\": \"\", \"zerolinecolor\": \"white\"}, \"zaxis\": {\"backgroundcolor\": \"#E5ECF6\", \"gridcolor\": \"white\", \"gridwidth\": 2, \"linecolor\": \"white\", \"showbackground\": true, \"ticks\": \"\", \"zerolinecolor\": \"white\"}}, \"shapedefaults\": {\"line\": {\"color\": \"#2a3f5f\"}}, \"ternary\": {\"aaxis\": {\"gridcolor\": \"white\", \"linecolor\": \"white\", \"ticks\": \"\"}, \"baxis\": {\"gridcolor\": \"white\", \"linecolor\": \"white\", \"ticks\": \"\"}, \"bgcolor\": \"#E5ECF6\", \"caxis\": {\"gridcolor\": \"white\", \"linecolor\": \"white\", \"ticks\": \"\"}}, \"title\": {\"x\": 0.05}, \"xaxis\": {\"automargin\": true, \"gridcolor\": \"white\", \"linecolor\": \"white\", \"ticks\": \"\", \"zerolinecolor\": \"white\", \"zerolinewidth\": 2}, \"yaxis\": {\"automargin\": true, \"gridcolor\": \"white\", \"linecolor\": \"white\", \"ticks\": \"\", \"zerolinecolor\": \"white\", \"zerolinewidth\": 2}}}, \"width\": 900, \"xaxis\": {\"rangeselector\": {\"buttons\": [{\"count\": 7, \"label\": \"1w\", \"step\": \"day\", \"stepmode\": \"backward\"}, {\"count\": 1, \"label\": \"1m\", \"step\": \"month\", \"stepmode\": \"backward\"}, {\"count\": 6, \"label\": \"6m\", \"step\": \"month\", \"stepmode\": \"backward\"}, {\"count\": 1, \"label\": \"1y\", \"step\": \"year\", \"stepmode\": \"backward\"}, {\"step\": \"all\"}]}, \"rangeslider\": {\"visible\": true}, \"title\": {\"text\": \"ds\"}, \"type\": \"date\"}, \"yaxis\": {\"title\": {\"text\": \"y\"}}},\n",
       "                        {\"responsive\": true}\n",
       "                    ).then(function(){\n",
       "                            \n",
       "var gd = document.getElementById('bc2f77a1-9924-4fa0-9a9d-a2358d875f5f');\n",
       "var x = new MutationObserver(function (mutations, observer) {{\n",
       "        var display = window.getComputedStyle(gd).display;\n",
       "        if (!display || display === 'none') {{\n",
       "            console.log([gd, 'removed!']);\n",
       "            Plotly.purge(gd);\n",
       "            observer.disconnect();\n",
       "        }}\n",
       "}});\n",
       "\n",
       "// Listen for the removal of the full notebook cells\n",
       "var notebookContainer = gd.closest('#notebook-container');\n",
       "if (notebookContainer) {{\n",
       "    x.observe(notebookContainer, {childList: true});\n",
       "}}\n",
       "\n",
       "// Listen for the clearing of the current output cell\n",
       "var outputEl = gd.closest('.output');\n",
       "if (outputEl) {{\n",
       "    x.observe(outputEl, {childList: true});\n",
       "}}\n",
       "\n",
       "                        })\n",
       "                };\n",
       "                });\n",
       "            </script>\n",
       "        </div>"
      ]
     },
     "metadata": {},
     "output_type": "display_data"
    },
    {
     "data": {
      "text/plain": [
       "'confirmed_forecast.html'"
      ]
     },
     "execution_count": 81,
     "metadata": {},
     "output_type": "execute_result"
    }
   ],
   "source": [
    "fig = plot_plotly(prophetc, confirmed_forecast)  \n",
    "annotations = []\n",
    "annotations.append(dict(xref='paper', yref='paper', x=0, y=1.15,\n",
    "                              xanchor='left', yanchor='bottom',\n",
    "                              text='Predictions of Confirmed Cases',\n",
    "                              font=dict(family='Arial', size=22,color='rgb(37,37,37)'),showarrow=False))\n",
    "fig.update_layout(annotations=annotations)\n",
    "fig.show()\n",
    "py.plot(fig, filename='confirmed_forecast.html')"
   ]
  },
  {
   "cell_type": "code",
   "execution_count": 80,
   "metadata": {},
   "outputs": [
    {
     "data": {
      "application/vnd.plotly.v1+json": {
       "config": {
        "plotlyServerURL": "https://plot.ly"
       },
       "data": [
        {
         "marker": {
          "color": "black",
          "size": 4
         },
         "mode": "markers",
         "name": "Actual",
         "type": "scatter",
         "x": [
          "2020-01-22T12:00:00",
          "2020-01-23T12:00:00",
          "2020-01-24T12:00:00",
          "2020-01-25T22:00:00",
          "2020-01-26T23:00:00",
          "2020-01-27T20:30:00",
          "2020-01-28T23:00:00",
          "2020-01-29T21:00:00",
          "2020-01-30T21:30:00",
          "2020-01-31T19:00:00",
          "2020-02-01T23:00:00",
          "2020-02-02T21:00:00",
          "2020-02-03T21:40:00",
          "2020-02-04T22:00:00",
          "2020-02-05T12:20:00",
          "2020-02-06T20:05:00",
          "2020-02-07T20:24:00",
          "2020-02-08T23:04:00",
          "2020-02-09T23:20:00",
          "2020-02-10T19:30:00",
          "2020-02-11T20:44:00",
          "2020-02-12T22:00:00",
          "2020-02-13T21:15:00",
          "2020-02-14T22:00:00",
          "2020-02-15T22:00:00"
         ],
         "y": [
          0,
          18,
          26,
          56,
          80,
          107,
          132,
          170,
          213,
          259,
          305,
          362,
          426,
          492,
          494,
          634,
          638,
          813,
          910,
          1013,
          1115,
          1368,
          1491,
          1523,
          1666
         ]
        },
        {
         "hoverinfo": "skip",
         "line": {
          "width": 0
         },
         "mode": "lines",
         "type": "scatter",
         "x": [
          "2020-01-22T12:00:00",
          "2020-01-23T12:00:00",
          "2020-01-24T12:00:00",
          "2020-01-25T22:00:00",
          "2020-01-26T23:00:00",
          "2020-01-27T20:30:00",
          "2020-01-28T23:00:00",
          "2020-01-29T21:00:00",
          "2020-01-30T21:30:00",
          "2020-01-31T19:00:00",
          "2020-02-01T23:00:00",
          "2020-02-02T21:00:00",
          "2020-02-03T21:40:00",
          "2020-02-04T22:00:00",
          "2020-02-05T12:20:00",
          "2020-02-06T20:05:00",
          "2020-02-07T20:24:00",
          "2020-02-08T23:04:00",
          "2020-02-09T23:20:00",
          "2020-02-10T19:30:00",
          "2020-02-11T20:44:00",
          "2020-02-12T22:00:00",
          "2020-02-13T21:15:00",
          "2020-02-14T22:00:00",
          "2020-02-15T22:00:00",
          "2020-02-16T22:00:00",
          "2020-02-17T22:00:00",
          "2020-02-18T22:00:00",
          "2020-02-19T22:00:00",
          "2020-02-20T22:00:00",
          "2020-02-21T22:00:00",
          "2020-02-22T22:00:00"
         ],
         "y": [
          -13.155614770562037,
          4.716187130033042,
          11.330432949980928,
          43.71703400447291,
          66.51965999177614,
          93.36992356108799,
          118.42719652373827,
          155.34468982998374,
          202.6754925529961,
          242.89555609969253,
          291.7218312598829,
          348.7437426244284,
          418.2965125284869,
          463.52374044814786,
          491.3741437929883,
          620.306079252675,
          623.5894239872727,
          795.8950315870558,
          905.3606152368657,
          993.8704836624756,
          1102.06203441196,
          1360.790381374862,
          1450.2838740147895,
          1546.5141123333722,
          1637.2713874246247,
          1717.5342165679526,
          1749.0588713279662,
          1753.7868736519215,
          1738.7972525121343,
          1717.6988806781276,
          1685.1616035839959,
          1616.9001833434713
         ]
        },
        {
         "fill": "tonexty",
         "fillcolor": "rgba(0, 114, 178, 0.2)",
         "line": {
          "color": "#0072B2",
          "width": 2
         },
         "mode": "lines",
         "name": "Predicted",
         "type": "scatter",
         "x": [
          "2020-01-22T12:00:00",
          "2020-01-23T12:00:00",
          "2020-01-24T12:00:00",
          "2020-01-25T22:00:00",
          "2020-01-26T23:00:00",
          "2020-01-27T20:30:00",
          "2020-01-28T23:00:00",
          "2020-01-29T21:00:00",
          "2020-01-30T21:30:00",
          "2020-01-31T19:00:00",
          "2020-02-01T23:00:00",
          "2020-02-02T21:00:00",
          "2020-02-03T21:40:00",
          "2020-02-04T22:00:00",
          "2020-02-05T12:20:00",
          "2020-02-06T20:05:00",
          "2020-02-07T20:24:00",
          "2020-02-08T23:04:00",
          "2020-02-09T23:20:00",
          "2020-02-10T19:30:00",
          "2020-02-11T20:44:00",
          "2020-02-12T22:00:00",
          "2020-02-13T21:15:00",
          "2020-02-14T22:00:00",
          "2020-02-15T22:00:00",
          "2020-02-16T22:00:00",
          "2020-02-17T22:00:00",
          "2020-02-18T22:00:00",
          "2020-02-19T22:00:00",
          "2020-02-20T22:00:00",
          "2020-02-21T22:00:00",
          "2020-02-22T22:00:00"
         ],
         "y": [
          0.0975275804356118,
          17.74085369004866,
          25.799687458716274,
          56.854106057826215,
          79.68823738070118,
          106.67315092532026,
          132.146372259416,
          168.7395399250905,
          215.87781339974833,
          257.2440533877134,
          305.1387228458166,
          362.1573857965549,
          431.34137747351025,
          476.8952131817971,
          503.728294489418,
          633.7182270047213,
          638.3050023465646,
          809.2105596987409,
          918.0287317868934,
          1008.4614160085039,
          1115.3073848110669,
          1374.3768241271987,
          1463.6988958966913,
          1558.783681973892,
          1650.9871108972388,
          1743.190539820585,
          1835.3939687439322,
          1927.5973976672788,
          2019.800826590625,
          2112.004255513971,
          2204.207684437318,
          2296.411113360665
         ]
        },
        {
         "fill": "tonexty",
         "fillcolor": "rgba(0, 114, 178, 0.2)",
         "hoverinfo": "skip",
         "line": {
          "width": 0
         },
         "mode": "lines",
         "type": "scatter",
         "x": [
          "2020-01-22T12:00:00",
          "2020-01-23T12:00:00",
          "2020-01-24T12:00:00",
          "2020-01-25T22:00:00",
          "2020-01-26T23:00:00",
          "2020-01-27T20:30:00",
          "2020-01-28T23:00:00",
          "2020-01-29T21:00:00",
          "2020-01-30T21:30:00",
          "2020-01-31T19:00:00",
          "2020-02-01T23:00:00",
          "2020-02-02T21:00:00",
          "2020-02-03T21:40:00",
          "2020-02-04T22:00:00",
          "2020-02-05T12:20:00",
          "2020-02-06T20:05:00",
          "2020-02-07T20:24:00",
          "2020-02-08T23:04:00",
          "2020-02-09T23:20:00",
          "2020-02-10T19:30:00",
          "2020-02-11T20:44:00",
          "2020-02-12T22:00:00",
          "2020-02-13T21:15:00",
          "2020-02-14T22:00:00",
          "2020-02-15T22:00:00",
          "2020-02-16T22:00:00",
          "2020-02-17T22:00:00",
          "2020-02-18T22:00:00",
          "2020-02-19T22:00:00",
          "2020-02-20T22:00:00",
          "2020-02-21T22:00:00",
          "2020-02-22T22:00:00"
         ],
         "y": [
          13.76402843184664,
          31.523076996460695,
          40.22819440737268,
          70.11381701747057,
          92.72646442261474,
          119.99602975102361,
          146.129998659232,
          181.96732245285602,
          229.57945398523555,
          269.5251180679807,
          318.76057050193356,
          375.5704535583395,
          444.99985626468793,
          490.0040486183281,
          516.8117799192465,
          647.0845064771274,
          651.5883742601236,
          822.3541681823277,
          931.7861494595278,
          1021.4217365915766,
          1128.697242876593,
          1388.5052252707299,
          1476.7135842375212,
          1572.2672715167785,
          1664.0933610533682,
          1769.1757531896774,
          1923.587269616727,
          2096.8625208370977,
          2289.6007328613996,
          2500.646591921919,
          2731.7750493854005,
          2949.2121260826634
         ]
        }
       ],
       "layout": {
        "annotations": [
         {
          "font": {
           "color": "rgb(37,37,37)",
           "family": "Arial",
           "size": 22
          },
          "showarrow": false,
          "text": "Predictions of Deaths",
          "x": 0,
          "xanchor": "left",
          "xref": "paper",
          "y": 1.25,
          "yanchor": "top",
          "yref": "paper"
         }
        ],
        "height": 600,
        "showlegend": false,
        "template": {
         "data": {
          "bar": [
           {
            "error_x": {
             "color": "#2a3f5f"
            },
            "error_y": {
             "color": "#2a3f5f"
            },
            "marker": {
             "line": {
              "color": "#E5ECF6",
              "width": 0.5
             }
            },
            "type": "bar"
           }
          ],
          "barpolar": [
           {
            "marker": {
             "line": {
              "color": "#E5ECF6",
              "width": 0.5
             }
            },
            "type": "barpolar"
           }
          ],
          "carpet": [
           {
            "aaxis": {
             "endlinecolor": "#2a3f5f",
             "gridcolor": "white",
             "linecolor": "white",
             "minorgridcolor": "white",
             "startlinecolor": "#2a3f5f"
            },
            "baxis": {
             "endlinecolor": "#2a3f5f",
             "gridcolor": "white",
             "linecolor": "white",
             "minorgridcolor": "white",
             "startlinecolor": "#2a3f5f"
            },
            "type": "carpet"
           }
          ],
          "choropleth": [
           {
            "colorbar": {
             "outlinewidth": 0,
             "ticks": ""
            },
            "type": "choropleth"
           }
          ],
          "contour": [
           {
            "colorbar": {
             "outlinewidth": 0,
             "ticks": ""
            },
            "colorscale": [
             [
              0,
              "#0d0887"
             ],
             [
              0.1111111111111111,
              "#46039f"
             ],
             [
              0.2222222222222222,
              "#7201a8"
             ],
             [
              0.3333333333333333,
              "#9c179e"
             ],
             [
              0.4444444444444444,
              "#bd3786"
             ],
             [
              0.5555555555555556,
              "#d8576b"
             ],
             [
              0.6666666666666666,
              "#ed7953"
             ],
             [
              0.7777777777777778,
              "#fb9f3a"
             ],
             [
              0.8888888888888888,
              "#fdca26"
             ],
             [
              1,
              "#f0f921"
             ]
            ],
            "type": "contour"
           }
          ],
          "contourcarpet": [
           {
            "colorbar": {
             "outlinewidth": 0,
             "ticks": ""
            },
            "type": "contourcarpet"
           }
          ],
          "heatmap": [
           {
            "colorbar": {
             "outlinewidth": 0,
             "ticks": ""
            },
            "colorscale": [
             [
              0,
              "#0d0887"
             ],
             [
              0.1111111111111111,
              "#46039f"
             ],
             [
              0.2222222222222222,
              "#7201a8"
             ],
             [
              0.3333333333333333,
              "#9c179e"
             ],
             [
              0.4444444444444444,
              "#bd3786"
             ],
             [
              0.5555555555555556,
              "#d8576b"
             ],
             [
              0.6666666666666666,
              "#ed7953"
             ],
             [
              0.7777777777777778,
              "#fb9f3a"
             ],
             [
              0.8888888888888888,
              "#fdca26"
             ],
             [
              1,
              "#f0f921"
             ]
            ],
            "type": "heatmap"
           }
          ],
          "heatmapgl": [
           {
            "colorbar": {
             "outlinewidth": 0,
             "ticks": ""
            },
            "colorscale": [
             [
              0,
              "#0d0887"
             ],
             [
              0.1111111111111111,
              "#46039f"
             ],
             [
              0.2222222222222222,
              "#7201a8"
             ],
             [
              0.3333333333333333,
              "#9c179e"
             ],
             [
              0.4444444444444444,
              "#bd3786"
             ],
             [
              0.5555555555555556,
              "#d8576b"
             ],
             [
              0.6666666666666666,
              "#ed7953"
             ],
             [
              0.7777777777777778,
              "#fb9f3a"
             ],
             [
              0.8888888888888888,
              "#fdca26"
             ],
             [
              1,
              "#f0f921"
             ]
            ],
            "type": "heatmapgl"
           }
          ],
          "histogram": [
           {
            "marker": {
             "colorbar": {
              "outlinewidth": 0,
              "ticks": ""
             }
            },
            "type": "histogram"
           }
          ],
          "histogram2d": [
           {
            "colorbar": {
             "outlinewidth": 0,
             "ticks": ""
            },
            "colorscale": [
             [
              0,
              "#0d0887"
             ],
             [
              0.1111111111111111,
              "#46039f"
             ],
             [
              0.2222222222222222,
              "#7201a8"
             ],
             [
              0.3333333333333333,
              "#9c179e"
             ],
             [
              0.4444444444444444,
              "#bd3786"
             ],
             [
              0.5555555555555556,
              "#d8576b"
             ],
             [
              0.6666666666666666,
              "#ed7953"
             ],
             [
              0.7777777777777778,
              "#fb9f3a"
             ],
             [
              0.8888888888888888,
              "#fdca26"
             ],
             [
              1,
              "#f0f921"
             ]
            ],
            "type": "histogram2d"
           }
          ],
          "histogram2dcontour": [
           {
            "colorbar": {
             "outlinewidth": 0,
             "ticks": ""
            },
            "colorscale": [
             [
              0,
              "#0d0887"
             ],
             [
              0.1111111111111111,
              "#46039f"
             ],
             [
              0.2222222222222222,
              "#7201a8"
             ],
             [
              0.3333333333333333,
              "#9c179e"
             ],
             [
              0.4444444444444444,
              "#bd3786"
             ],
             [
              0.5555555555555556,
              "#d8576b"
             ],
             [
              0.6666666666666666,
              "#ed7953"
             ],
             [
              0.7777777777777778,
              "#fb9f3a"
             ],
             [
              0.8888888888888888,
              "#fdca26"
             ],
             [
              1,
              "#f0f921"
             ]
            ],
            "type": "histogram2dcontour"
           }
          ],
          "mesh3d": [
           {
            "colorbar": {
             "outlinewidth": 0,
             "ticks": ""
            },
            "type": "mesh3d"
           }
          ],
          "parcoords": [
           {
            "line": {
             "colorbar": {
              "outlinewidth": 0,
              "ticks": ""
             }
            },
            "type": "parcoords"
           }
          ],
          "scatter": [
           {
            "marker": {
             "colorbar": {
              "outlinewidth": 0,
              "ticks": ""
             }
            },
            "type": "scatter"
           }
          ],
          "scatter3d": [
           {
            "line": {
             "colorbar": {
              "outlinewidth": 0,
              "ticks": ""
             }
            },
            "marker": {
             "colorbar": {
              "outlinewidth": 0,
              "ticks": ""
             }
            },
            "type": "scatter3d"
           }
          ],
          "scattercarpet": [
           {
            "marker": {
             "colorbar": {
              "outlinewidth": 0,
              "ticks": ""
             }
            },
            "type": "scattercarpet"
           }
          ],
          "scattergeo": [
           {
            "marker": {
             "colorbar": {
              "outlinewidth": 0,
              "ticks": ""
             }
            },
            "type": "scattergeo"
           }
          ],
          "scattergl": [
           {
            "marker": {
             "colorbar": {
              "outlinewidth": 0,
              "ticks": ""
             }
            },
            "type": "scattergl"
           }
          ],
          "scattermapbox": [
           {
            "marker": {
             "colorbar": {
              "outlinewidth": 0,
              "ticks": ""
             }
            },
            "type": "scattermapbox"
           }
          ],
          "scatterpolar": [
           {
            "marker": {
             "colorbar": {
              "outlinewidth": 0,
              "ticks": ""
             }
            },
            "type": "scatterpolar"
           }
          ],
          "scatterpolargl": [
           {
            "marker": {
             "colorbar": {
              "outlinewidth": 0,
              "ticks": ""
             }
            },
            "type": "scatterpolargl"
           }
          ],
          "scatterternary": [
           {
            "marker": {
             "colorbar": {
              "outlinewidth": 0,
              "ticks": ""
             }
            },
            "type": "scatterternary"
           }
          ],
          "surface": [
           {
            "colorbar": {
             "outlinewidth": 0,
             "ticks": ""
            },
            "colorscale": [
             [
              0,
              "#0d0887"
             ],
             [
              0.1111111111111111,
              "#46039f"
             ],
             [
              0.2222222222222222,
              "#7201a8"
             ],
             [
              0.3333333333333333,
              "#9c179e"
             ],
             [
              0.4444444444444444,
              "#bd3786"
             ],
             [
              0.5555555555555556,
              "#d8576b"
             ],
             [
              0.6666666666666666,
              "#ed7953"
             ],
             [
              0.7777777777777778,
              "#fb9f3a"
             ],
             [
              0.8888888888888888,
              "#fdca26"
             ],
             [
              1,
              "#f0f921"
             ]
            ],
            "type": "surface"
           }
          ],
          "table": [
           {
            "cells": {
             "fill": {
              "color": "#EBF0F8"
             },
             "line": {
              "color": "white"
             }
            },
            "header": {
             "fill": {
              "color": "#C8D4E3"
             },
             "line": {
              "color": "white"
             }
            },
            "type": "table"
           }
          ]
         },
         "layout": {
          "annotationdefaults": {
           "arrowcolor": "#2a3f5f",
           "arrowhead": 0,
           "arrowwidth": 1
          },
          "colorscale": {
           "diverging": [
            [
             0,
             "#8e0152"
            ],
            [
             0.1,
             "#c51b7d"
            ],
            [
             0.2,
             "#de77ae"
            ],
            [
             0.3,
             "#f1b6da"
            ],
            [
             0.4,
             "#fde0ef"
            ],
            [
             0.5,
             "#f7f7f7"
            ],
            [
             0.6,
             "#e6f5d0"
            ],
            [
             0.7,
             "#b8e186"
            ],
            [
             0.8,
             "#7fbc41"
            ],
            [
             0.9,
             "#4d9221"
            ],
            [
             1,
             "#276419"
            ]
           ],
           "sequential": [
            [
             0,
             "#0d0887"
            ],
            [
             0.1111111111111111,
             "#46039f"
            ],
            [
             0.2222222222222222,
             "#7201a8"
            ],
            [
             0.3333333333333333,
             "#9c179e"
            ],
            [
             0.4444444444444444,
             "#bd3786"
            ],
            [
             0.5555555555555556,
             "#d8576b"
            ],
            [
             0.6666666666666666,
             "#ed7953"
            ],
            [
             0.7777777777777778,
             "#fb9f3a"
            ],
            [
             0.8888888888888888,
             "#fdca26"
            ],
            [
             1,
             "#f0f921"
            ]
           ],
           "sequentialminus": [
            [
             0,
             "#0d0887"
            ],
            [
             0.1111111111111111,
             "#46039f"
            ],
            [
             0.2222222222222222,
             "#7201a8"
            ],
            [
             0.3333333333333333,
             "#9c179e"
            ],
            [
             0.4444444444444444,
             "#bd3786"
            ],
            [
             0.5555555555555556,
             "#d8576b"
            ],
            [
             0.6666666666666666,
             "#ed7953"
            ],
            [
             0.7777777777777778,
             "#fb9f3a"
            ],
            [
             0.8888888888888888,
             "#fdca26"
            ],
            [
             1,
             "#f0f921"
            ]
           ]
          },
          "colorway": [
           "#636efa",
           "#EF553B",
           "#00cc96",
           "#ab63fa",
           "#FFA15A",
           "#19d3f3",
           "#FF6692",
           "#B6E880",
           "#FF97FF",
           "#FECB52"
          ],
          "font": {
           "color": "#2a3f5f"
          },
          "geo": {
           "bgcolor": "white",
           "lakecolor": "white",
           "landcolor": "#E5ECF6",
           "showlakes": true,
           "showland": true,
           "subunitcolor": "white"
          },
          "hoverlabel": {
           "align": "left"
          },
          "hovermode": "closest",
          "mapbox": {
           "style": "light"
          },
          "paper_bgcolor": "white",
          "plot_bgcolor": "#E5ECF6",
          "polar": {
           "angularaxis": {
            "gridcolor": "white",
            "linecolor": "white",
            "ticks": ""
           },
           "bgcolor": "#E5ECF6",
           "radialaxis": {
            "gridcolor": "white",
            "linecolor": "white",
            "ticks": ""
           }
          },
          "scene": {
           "xaxis": {
            "backgroundcolor": "#E5ECF6",
            "gridcolor": "white",
            "gridwidth": 2,
            "linecolor": "white",
            "showbackground": true,
            "ticks": "",
            "zerolinecolor": "white"
           },
           "yaxis": {
            "backgroundcolor": "#E5ECF6",
            "gridcolor": "white",
            "gridwidth": 2,
            "linecolor": "white",
            "showbackground": true,
            "ticks": "",
            "zerolinecolor": "white"
           },
           "zaxis": {
            "backgroundcolor": "#E5ECF6",
            "gridcolor": "white",
            "gridwidth": 2,
            "linecolor": "white",
            "showbackground": true,
            "ticks": "",
            "zerolinecolor": "white"
           }
          },
          "shapedefaults": {
           "line": {
            "color": "#2a3f5f"
           }
          },
          "ternary": {
           "aaxis": {
            "gridcolor": "white",
            "linecolor": "white",
            "ticks": ""
           },
           "baxis": {
            "gridcolor": "white",
            "linecolor": "white",
            "ticks": ""
           },
           "bgcolor": "#E5ECF6",
           "caxis": {
            "gridcolor": "white",
            "linecolor": "white",
            "ticks": ""
           }
          },
          "title": {
           "x": 0.05
          },
          "xaxis": {
           "automargin": true,
           "gridcolor": "white",
           "linecolor": "white",
           "ticks": "",
           "zerolinecolor": "white",
           "zerolinewidth": 2
          },
          "yaxis": {
           "automargin": true,
           "gridcolor": "white",
           "linecolor": "white",
           "ticks": "",
           "zerolinecolor": "white",
           "zerolinewidth": 2
          }
         }
        },
        "width": 900,
        "xaxis": {
         "rangeselector": {
          "buttons": [
           {
            "count": 7,
            "label": "1w",
            "step": "day",
            "stepmode": "backward"
           },
           {
            "count": 1,
            "label": "1m",
            "step": "month",
            "stepmode": "backward"
           },
           {
            "count": 6,
            "label": "6m",
            "step": "month",
            "stepmode": "backward"
           },
           {
            "count": 1,
            "label": "1y",
            "step": "year",
            "stepmode": "backward"
           },
           {
            "step": "all"
           }
          ]
         },
         "rangeslider": {
          "visible": true
         },
         "title": {
          "text": "ds"
         },
         "type": "date"
        },
        "yaxis": {
         "title": {
          "text": "y"
         }
        }
       }
      },
      "text/html": [
       "<div>\n",
       "        \n",
       "        \n",
       "            <div id=\"4c3030fb-fbe6-4f56-a32c-9c6505de496a\" class=\"plotly-graph-div\" style=\"height:600px; width:900px;\"></div>\n",
       "            <script type=\"text/javascript\">\n",
       "                require([\"plotly\"], function(Plotly) {\n",
       "                    window.PLOTLYENV=window.PLOTLYENV || {};\n",
       "                    \n",
       "                if (document.getElementById(\"4c3030fb-fbe6-4f56-a32c-9c6505de496a\")) {\n",
       "                    Plotly.newPlot(\n",
       "                        '4c3030fb-fbe6-4f56-a32c-9c6505de496a',\n",
       "                        [{\"marker\": {\"color\": \"black\", \"size\": 4}, \"mode\": \"markers\", \"name\": \"Actual\", \"type\": \"scatter\", \"x\": [\"2020-01-22T12:00:00\", \"2020-01-23T12:00:00\", \"2020-01-24T12:00:00\", \"2020-01-25T22:00:00\", \"2020-01-26T23:00:00\", \"2020-01-27T20:30:00\", \"2020-01-28T23:00:00\", \"2020-01-29T21:00:00\", \"2020-01-30T21:30:00\", \"2020-01-31T19:00:00\", \"2020-02-01T23:00:00\", \"2020-02-02T21:00:00\", \"2020-02-03T21:40:00\", \"2020-02-04T22:00:00\", \"2020-02-05T12:20:00\", \"2020-02-06T20:05:00\", \"2020-02-07T20:24:00\", \"2020-02-08T23:04:00\", \"2020-02-09T23:20:00\", \"2020-02-10T19:30:00\", \"2020-02-11T20:44:00\", \"2020-02-12T22:00:00\", \"2020-02-13T21:15:00\", \"2020-02-14T22:00:00\", \"2020-02-15T22:00:00\"], \"y\": [0.0, 18.0, 26.0, 56.0, 80.0, 107.0, 132.0, 170.0, 213.0, 259.0, 305.0, 362.0, 426.0, 492.0, 494.0, 634.0, 638.0, 813.0, 910.0, 1013.0, 1115.0, 1368.0, 1491.0, 1523.0, 1666.0]}, {\"hoverinfo\": \"skip\", \"line\": {\"width\": 0}, \"mode\": \"lines\", \"type\": \"scatter\", \"x\": [\"2020-01-22T12:00:00\", \"2020-01-23T12:00:00\", \"2020-01-24T12:00:00\", \"2020-01-25T22:00:00\", \"2020-01-26T23:00:00\", \"2020-01-27T20:30:00\", \"2020-01-28T23:00:00\", \"2020-01-29T21:00:00\", \"2020-01-30T21:30:00\", \"2020-01-31T19:00:00\", \"2020-02-01T23:00:00\", \"2020-02-02T21:00:00\", \"2020-02-03T21:40:00\", \"2020-02-04T22:00:00\", \"2020-02-05T12:20:00\", \"2020-02-06T20:05:00\", \"2020-02-07T20:24:00\", \"2020-02-08T23:04:00\", \"2020-02-09T23:20:00\", \"2020-02-10T19:30:00\", \"2020-02-11T20:44:00\", \"2020-02-12T22:00:00\", \"2020-02-13T21:15:00\", \"2020-02-14T22:00:00\", \"2020-02-15T22:00:00\", \"2020-02-16T22:00:00\", \"2020-02-17T22:00:00\", \"2020-02-18T22:00:00\", \"2020-02-19T22:00:00\", \"2020-02-20T22:00:00\", \"2020-02-21T22:00:00\", \"2020-02-22T22:00:00\"], \"y\": [-13.155614770562037, 4.716187130033042, 11.330432949980928, 43.71703400447291, 66.51965999177614, 93.36992356108799, 118.42719652373827, 155.34468982998374, 202.6754925529961, 242.89555609969253, 291.7218312598829, 348.7437426244284, 418.2965125284869, 463.52374044814786, 491.3741437929883, 620.306079252675, 623.5894239872727, 795.8950315870558, 905.3606152368657, 993.8704836624756, 1102.06203441196, 1360.790381374862, 1450.2838740147895, 1546.5141123333722, 1637.2713874246247, 1717.5342165679526, 1749.0588713279662, 1753.7868736519215, 1738.7972525121343, 1717.6988806781276, 1685.1616035839959, 1616.9001833434713]}, {\"fill\": \"tonexty\", \"fillcolor\": \"rgba(0, 114, 178, 0.2)\", \"line\": {\"color\": \"#0072B2\", \"width\": 2}, \"mode\": \"lines\", \"name\": \"Predicted\", \"type\": \"scatter\", \"x\": [\"2020-01-22T12:00:00\", \"2020-01-23T12:00:00\", \"2020-01-24T12:00:00\", \"2020-01-25T22:00:00\", \"2020-01-26T23:00:00\", \"2020-01-27T20:30:00\", \"2020-01-28T23:00:00\", \"2020-01-29T21:00:00\", \"2020-01-30T21:30:00\", \"2020-01-31T19:00:00\", \"2020-02-01T23:00:00\", \"2020-02-02T21:00:00\", \"2020-02-03T21:40:00\", \"2020-02-04T22:00:00\", \"2020-02-05T12:20:00\", \"2020-02-06T20:05:00\", \"2020-02-07T20:24:00\", \"2020-02-08T23:04:00\", \"2020-02-09T23:20:00\", \"2020-02-10T19:30:00\", \"2020-02-11T20:44:00\", \"2020-02-12T22:00:00\", \"2020-02-13T21:15:00\", \"2020-02-14T22:00:00\", \"2020-02-15T22:00:00\", \"2020-02-16T22:00:00\", \"2020-02-17T22:00:00\", \"2020-02-18T22:00:00\", \"2020-02-19T22:00:00\", \"2020-02-20T22:00:00\", \"2020-02-21T22:00:00\", \"2020-02-22T22:00:00\"], \"y\": [0.0975275804356118, 17.74085369004866, 25.799687458716274, 56.854106057826215, 79.68823738070118, 106.67315092532026, 132.146372259416, 168.7395399250905, 215.87781339974833, 257.2440533877134, 305.1387228458166, 362.1573857965549, 431.34137747351025, 476.8952131817971, 503.728294489418, 633.7182270047213, 638.3050023465646, 809.2105596987409, 918.0287317868934, 1008.4614160085039, 1115.3073848110669, 1374.3768241271987, 1463.6988958966913, 1558.783681973892, 1650.9871108972388, 1743.190539820585, 1835.3939687439322, 1927.5973976672788, 2019.800826590625, 2112.004255513971, 2204.207684437318, 2296.411113360665]}, {\"fill\": \"tonexty\", \"fillcolor\": \"rgba(0, 114, 178, 0.2)\", \"hoverinfo\": \"skip\", \"line\": {\"width\": 0}, \"mode\": \"lines\", \"type\": \"scatter\", \"x\": [\"2020-01-22T12:00:00\", \"2020-01-23T12:00:00\", \"2020-01-24T12:00:00\", \"2020-01-25T22:00:00\", \"2020-01-26T23:00:00\", \"2020-01-27T20:30:00\", \"2020-01-28T23:00:00\", \"2020-01-29T21:00:00\", \"2020-01-30T21:30:00\", \"2020-01-31T19:00:00\", \"2020-02-01T23:00:00\", \"2020-02-02T21:00:00\", \"2020-02-03T21:40:00\", \"2020-02-04T22:00:00\", \"2020-02-05T12:20:00\", \"2020-02-06T20:05:00\", \"2020-02-07T20:24:00\", \"2020-02-08T23:04:00\", \"2020-02-09T23:20:00\", \"2020-02-10T19:30:00\", \"2020-02-11T20:44:00\", \"2020-02-12T22:00:00\", \"2020-02-13T21:15:00\", \"2020-02-14T22:00:00\", \"2020-02-15T22:00:00\", \"2020-02-16T22:00:00\", \"2020-02-17T22:00:00\", \"2020-02-18T22:00:00\", \"2020-02-19T22:00:00\", \"2020-02-20T22:00:00\", \"2020-02-21T22:00:00\", \"2020-02-22T22:00:00\"], \"y\": [13.76402843184664, 31.523076996460695, 40.22819440737268, 70.11381701747057, 92.72646442261474, 119.99602975102361, 146.129998659232, 181.96732245285602, 229.57945398523555, 269.5251180679807, 318.76057050193356, 375.5704535583395, 444.99985626468793, 490.0040486183281, 516.8117799192465, 647.0845064771274, 651.5883742601236, 822.3541681823277, 931.7861494595278, 1021.4217365915766, 1128.697242876593, 1388.5052252707299, 1476.7135842375212, 1572.2672715167785, 1664.0933610533682, 1769.1757531896774, 1923.587269616727, 2096.8625208370977, 2289.6007328613996, 2500.646591921919, 2731.7750493854005, 2949.2121260826634]}],\n",
       "                        {\"annotations\": [{\"font\": {\"color\": \"rgb(37,37,37)\", \"family\": \"Arial\", \"size\": 22}, \"showarrow\": false, \"text\": \"Predictions of Deaths\", \"x\": 0, \"xanchor\": \"left\", \"xref\": \"paper\", \"y\": 1.25, \"yanchor\": \"top\", \"yref\": \"paper\"}], \"height\": 600, \"showlegend\": false, \"template\": {\"data\": {\"bar\": [{\"error_x\": {\"color\": \"#2a3f5f\"}, \"error_y\": {\"color\": \"#2a3f5f\"}, \"marker\": {\"line\": {\"color\": \"#E5ECF6\", \"width\": 0.5}}, \"type\": \"bar\"}], \"barpolar\": [{\"marker\": {\"line\": {\"color\": \"#E5ECF6\", \"width\": 0.5}}, \"type\": \"barpolar\"}], \"carpet\": [{\"aaxis\": {\"endlinecolor\": \"#2a3f5f\", \"gridcolor\": \"white\", \"linecolor\": \"white\", \"minorgridcolor\": \"white\", \"startlinecolor\": \"#2a3f5f\"}, \"baxis\": {\"endlinecolor\": \"#2a3f5f\", \"gridcolor\": \"white\", \"linecolor\": \"white\", \"minorgridcolor\": \"white\", \"startlinecolor\": \"#2a3f5f\"}, \"type\": \"carpet\"}], \"choropleth\": [{\"colorbar\": {\"outlinewidth\": 0, \"ticks\": \"\"}, \"type\": \"choropleth\"}], \"contour\": [{\"colorbar\": {\"outlinewidth\": 0, \"ticks\": \"\"}, \"colorscale\": [[0.0, \"#0d0887\"], [0.1111111111111111, \"#46039f\"], [0.2222222222222222, \"#7201a8\"], [0.3333333333333333, \"#9c179e\"], [0.4444444444444444, \"#bd3786\"], [0.5555555555555556, \"#d8576b\"], [0.6666666666666666, \"#ed7953\"], [0.7777777777777778, \"#fb9f3a\"], [0.8888888888888888, \"#fdca26\"], [1.0, \"#f0f921\"]], \"type\": \"contour\"}], \"contourcarpet\": [{\"colorbar\": {\"outlinewidth\": 0, \"ticks\": \"\"}, \"type\": \"contourcarpet\"}], \"heatmap\": [{\"colorbar\": {\"outlinewidth\": 0, \"ticks\": \"\"}, \"colorscale\": [[0.0, \"#0d0887\"], [0.1111111111111111, \"#46039f\"], [0.2222222222222222, \"#7201a8\"], [0.3333333333333333, \"#9c179e\"], [0.4444444444444444, \"#bd3786\"], [0.5555555555555556, \"#d8576b\"], [0.6666666666666666, \"#ed7953\"], [0.7777777777777778, \"#fb9f3a\"], [0.8888888888888888, \"#fdca26\"], [1.0, \"#f0f921\"]], \"type\": \"heatmap\"}], \"heatmapgl\": [{\"colorbar\": {\"outlinewidth\": 0, \"ticks\": \"\"}, \"colorscale\": [[0.0, \"#0d0887\"], [0.1111111111111111, \"#46039f\"], [0.2222222222222222, \"#7201a8\"], [0.3333333333333333, \"#9c179e\"], [0.4444444444444444, \"#bd3786\"], [0.5555555555555556, \"#d8576b\"], [0.6666666666666666, \"#ed7953\"], [0.7777777777777778, \"#fb9f3a\"], [0.8888888888888888, \"#fdca26\"], [1.0, \"#f0f921\"]], \"type\": \"heatmapgl\"}], \"histogram\": [{\"marker\": {\"colorbar\": {\"outlinewidth\": 0, \"ticks\": \"\"}}, \"type\": \"histogram\"}], \"histogram2d\": [{\"colorbar\": {\"outlinewidth\": 0, \"ticks\": \"\"}, \"colorscale\": [[0.0, \"#0d0887\"], [0.1111111111111111, \"#46039f\"], [0.2222222222222222, \"#7201a8\"], [0.3333333333333333, \"#9c179e\"], [0.4444444444444444, \"#bd3786\"], [0.5555555555555556, \"#d8576b\"], [0.6666666666666666, \"#ed7953\"], [0.7777777777777778, \"#fb9f3a\"], [0.8888888888888888, \"#fdca26\"], [1.0, \"#f0f921\"]], \"type\": \"histogram2d\"}], \"histogram2dcontour\": [{\"colorbar\": {\"outlinewidth\": 0, \"ticks\": \"\"}, \"colorscale\": [[0.0, \"#0d0887\"], [0.1111111111111111, \"#46039f\"], [0.2222222222222222, \"#7201a8\"], [0.3333333333333333, \"#9c179e\"], [0.4444444444444444, \"#bd3786\"], [0.5555555555555556, \"#d8576b\"], [0.6666666666666666, \"#ed7953\"], [0.7777777777777778, \"#fb9f3a\"], [0.8888888888888888, \"#fdca26\"], [1.0, \"#f0f921\"]], \"type\": \"histogram2dcontour\"}], \"mesh3d\": [{\"colorbar\": {\"outlinewidth\": 0, \"ticks\": \"\"}, \"type\": \"mesh3d\"}], \"parcoords\": [{\"line\": {\"colorbar\": {\"outlinewidth\": 0, \"ticks\": \"\"}}, \"type\": \"parcoords\"}], \"scatter\": [{\"marker\": {\"colorbar\": {\"outlinewidth\": 0, \"ticks\": \"\"}}, \"type\": \"scatter\"}], \"scatter3d\": [{\"line\": {\"colorbar\": {\"outlinewidth\": 0, \"ticks\": \"\"}}, \"marker\": {\"colorbar\": {\"outlinewidth\": 0, \"ticks\": \"\"}}, \"type\": \"scatter3d\"}], \"scattercarpet\": [{\"marker\": {\"colorbar\": {\"outlinewidth\": 0, \"ticks\": \"\"}}, \"type\": \"scattercarpet\"}], \"scattergeo\": [{\"marker\": {\"colorbar\": {\"outlinewidth\": 0, \"ticks\": \"\"}}, \"type\": \"scattergeo\"}], \"scattergl\": [{\"marker\": {\"colorbar\": {\"outlinewidth\": 0, \"ticks\": \"\"}}, \"type\": \"scattergl\"}], \"scattermapbox\": [{\"marker\": {\"colorbar\": {\"outlinewidth\": 0, \"ticks\": \"\"}}, \"type\": \"scattermapbox\"}], \"scatterpolar\": [{\"marker\": {\"colorbar\": {\"outlinewidth\": 0, \"ticks\": \"\"}}, \"type\": \"scatterpolar\"}], \"scatterpolargl\": [{\"marker\": {\"colorbar\": {\"outlinewidth\": 0, \"ticks\": \"\"}}, \"type\": \"scatterpolargl\"}], \"scatterternary\": [{\"marker\": {\"colorbar\": {\"outlinewidth\": 0, \"ticks\": \"\"}}, \"type\": \"scatterternary\"}], \"surface\": [{\"colorbar\": {\"outlinewidth\": 0, \"ticks\": \"\"}, \"colorscale\": [[0.0, \"#0d0887\"], [0.1111111111111111, \"#46039f\"], [0.2222222222222222, \"#7201a8\"], [0.3333333333333333, \"#9c179e\"], [0.4444444444444444, \"#bd3786\"], [0.5555555555555556, \"#d8576b\"], [0.6666666666666666, \"#ed7953\"], [0.7777777777777778, \"#fb9f3a\"], [0.8888888888888888, \"#fdca26\"], [1.0, \"#f0f921\"]], \"type\": \"surface\"}], \"table\": [{\"cells\": {\"fill\": {\"color\": \"#EBF0F8\"}, \"line\": {\"color\": \"white\"}}, \"header\": {\"fill\": {\"color\": \"#C8D4E3\"}, \"line\": {\"color\": \"white\"}}, \"type\": \"table\"}]}, \"layout\": {\"annotationdefaults\": {\"arrowcolor\": \"#2a3f5f\", \"arrowhead\": 0, \"arrowwidth\": 1}, \"colorscale\": {\"diverging\": [[0, \"#8e0152\"], [0.1, \"#c51b7d\"], [0.2, \"#de77ae\"], [0.3, \"#f1b6da\"], [0.4, \"#fde0ef\"], [0.5, \"#f7f7f7\"], [0.6, \"#e6f5d0\"], [0.7, \"#b8e186\"], [0.8, \"#7fbc41\"], [0.9, \"#4d9221\"], [1, \"#276419\"]], \"sequential\": [[0.0, \"#0d0887\"], [0.1111111111111111, \"#46039f\"], [0.2222222222222222, \"#7201a8\"], [0.3333333333333333, \"#9c179e\"], [0.4444444444444444, \"#bd3786\"], [0.5555555555555556, \"#d8576b\"], [0.6666666666666666, \"#ed7953\"], [0.7777777777777778, \"#fb9f3a\"], [0.8888888888888888, \"#fdca26\"], [1.0, \"#f0f921\"]], \"sequentialminus\": [[0.0, \"#0d0887\"], [0.1111111111111111, \"#46039f\"], [0.2222222222222222, \"#7201a8\"], [0.3333333333333333, \"#9c179e\"], [0.4444444444444444, \"#bd3786\"], [0.5555555555555556, \"#d8576b\"], [0.6666666666666666, \"#ed7953\"], [0.7777777777777778, \"#fb9f3a\"], [0.8888888888888888, \"#fdca26\"], [1.0, \"#f0f921\"]]}, \"colorway\": [\"#636efa\", \"#EF553B\", \"#00cc96\", \"#ab63fa\", \"#FFA15A\", \"#19d3f3\", \"#FF6692\", \"#B6E880\", \"#FF97FF\", \"#FECB52\"], \"font\": {\"color\": \"#2a3f5f\"}, \"geo\": {\"bgcolor\": \"white\", \"lakecolor\": \"white\", \"landcolor\": \"#E5ECF6\", \"showlakes\": true, \"showland\": true, \"subunitcolor\": \"white\"}, \"hoverlabel\": {\"align\": \"left\"}, \"hovermode\": \"closest\", \"mapbox\": {\"style\": \"light\"}, \"paper_bgcolor\": \"white\", \"plot_bgcolor\": \"#E5ECF6\", \"polar\": {\"angularaxis\": {\"gridcolor\": \"white\", \"linecolor\": \"white\", \"ticks\": \"\"}, \"bgcolor\": \"#E5ECF6\", \"radialaxis\": {\"gridcolor\": \"white\", \"linecolor\": \"white\", \"ticks\": \"\"}}, \"scene\": {\"xaxis\": {\"backgroundcolor\": \"#E5ECF6\", \"gridcolor\": \"white\", \"gridwidth\": 2, \"linecolor\": \"white\", \"showbackground\": true, \"ticks\": \"\", \"zerolinecolor\": \"white\"}, \"yaxis\": {\"backgroundcolor\": \"#E5ECF6\", \"gridcolor\": \"white\", \"gridwidth\": 2, \"linecolor\": \"white\", \"showbackground\": true, \"ticks\": \"\", \"zerolinecolor\": \"white\"}, \"zaxis\": {\"backgroundcolor\": \"#E5ECF6\", \"gridcolor\": \"white\", \"gridwidth\": 2, \"linecolor\": \"white\", \"showbackground\": true, \"ticks\": \"\", \"zerolinecolor\": \"white\"}}, \"shapedefaults\": {\"line\": {\"color\": \"#2a3f5f\"}}, \"ternary\": {\"aaxis\": {\"gridcolor\": \"white\", \"linecolor\": \"white\", \"ticks\": \"\"}, \"baxis\": {\"gridcolor\": \"white\", \"linecolor\": \"white\", \"ticks\": \"\"}, \"bgcolor\": \"#E5ECF6\", \"caxis\": {\"gridcolor\": \"white\", \"linecolor\": \"white\", \"ticks\": \"\"}}, \"title\": {\"x\": 0.05}, \"xaxis\": {\"automargin\": true, \"gridcolor\": \"white\", \"linecolor\": \"white\", \"ticks\": \"\", \"zerolinecolor\": \"white\", \"zerolinewidth\": 2}, \"yaxis\": {\"automargin\": true, \"gridcolor\": \"white\", \"linecolor\": \"white\", \"ticks\": \"\", \"zerolinecolor\": \"white\", \"zerolinewidth\": 2}}}, \"width\": 900, \"xaxis\": {\"rangeselector\": {\"buttons\": [{\"count\": 7, \"label\": \"1w\", \"step\": \"day\", \"stepmode\": \"backward\"}, {\"count\": 1, \"label\": \"1m\", \"step\": \"month\", \"stepmode\": \"backward\"}, {\"count\": 6, \"label\": \"6m\", \"step\": \"month\", \"stepmode\": \"backward\"}, {\"count\": 1, \"label\": \"1y\", \"step\": \"year\", \"stepmode\": \"backward\"}, {\"step\": \"all\"}]}, \"rangeslider\": {\"visible\": true}, \"title\": {\"text\": \"ds\"}, \"type\": \"date\"}, \"yaxis\": {\"title\": {\"text\": \"y\"}}},\n",
       "                        {\"responsive\": true}\n",
       "                    ).then(function(){\n",
       "                            \n",
       "var gd = document.getElementById('4c3030fb-fbe6-4f56-a32c-9c6505de496a');\n",
       "var x = new MutationObserver(function (mutations, observer) {{\n",
       "        var display = window.getComputedStyle(gd).display;\n",
       "        if (!display || display === 'none') {{\n",
       "            console.log([gd, 'removed!']);\n",
       "            Plotly.purge(gd);\n",
       "            observer.disconnect();\n",
       "        }}\n",
       "}});\n",
       "\n",
       "// Listen for the removal of the full notebook cells\n",
       "var notebookContainer = gd.closest('#notebook-container');\n",
       "if (notebookContainer) {{\n",
       "    x.observe(notebookContainer, {childList: true});\n",
       "}}\n",
       "\n",
       "// Listen for the clearing of the current output cell\n",
       "var outputEl = gd.closest('.output');\n",
       "if (outputEl) {{\n",
       "    x.observe(outputEl, {childList: true});\n",
       "}}\n",
       "\n",
       "                        })\n",
       "                };\n",
       "                });\n",
       "            </script>\n",
       "        </div>"
      ]
     },
     "metadata": {},
     "output_type": "display_data"
    },
    {
     "data": {
      "text/plain": [
       "'death_forcasting.html'"
      ]
     },
     "execution_count": 80,
     "metadata": {},
     "output_type": "execute_result"
    }
   ],
   "source": [
    "fig = plot_plotly(prophetd, deaths_forecast)  \n",
    "annotations = []\n",
    "annotations.append(dict(xref='paper', yref='paper', x=0, y=1.25,\n",
    "                              xanchor='left', yanchor='top',\n",
    "                              text='Predictions of Deaths',\n",
    "                              font=dict(family='Arial', size=22,color='rgb(37,37,37)'),showarrow=False))\n",
    "fig.update_layout(annotations=annotations)\n",
    "fig.show()\n",
    "py.plot(fig, filename='death_forcasting.html')"
   ]
  },
  {
   "cell_type": "code",
   "execution_count": null,
   "metadata": {},
   "outputs": [],
   "source": []
  },
  {
   "cell_type": "markdown",
   "metadata": {},
   "source": [
    "## 5. Model Accuracy."
   ]
  },
  {
   "cell_type": "code",
   "execution_count": 77,
   "metadata": {},
   "outputs": [],
   "source": [
    "#Mean Absolute Percentage Error.\n",
    "def mape(y_true, y_pred): \n",
    "    \"\"\"The mean absolute percentage error (MAPE), \n",
    "    also known as mean absolute percentage deviation (MAPD), \n",
    "    is a measure of prediction accuracy of a forecasting method in statistics\"\"\"\n",
    "    y_true, y_pred = np.array(y_true), np.array(y_pred)\n",
    "    return np.mean(np.abs((y_true - y_pred) / y_true)) * 100"
   ]
  },
  {
   "cell_type": "code",
   "execution_count": 78,
   "metadata": {},
   "outputs": [
    {
     "ename": "NameError",
     "evalue": "name 'df_prophet' is not defined",
     "output_type": "error",
     "traceback": [
      "\u001b[1;31m---------------------------------------------------------------------------\u001b[0m",
      "\u001b[1;31mNameError\u001b[0m                                 Traceback (most recent call last)",
      "\u001b[1;32m<ipython-input-78-258b66b92ee3>\u001b[0m in \u001b[0;36m<module>\u001b[1;34m\u001b[0m\n\u001b[1;32m----> 1\u001b[1;33m \u001b[0my_true_death\u001b[0m \u001b[1;33m=\u001b[0m \u001b[0mdf_prophet\u001b[0m\u001b[1;33m.\u001b[0m\u001b[0my\u001b[0m\u001b[1;33m.\u001b[0m\u001b[0mvalues\u001b[0m\u001b[1;33m\u001b[0m\u001b[1;33m\u001b[0m\u001b[0m\n\u001b[0m\u001b[0;32m      2\u001b[0m \u001b[0my_pred_daily\u001b[0m \u001b[1;33m=\u001b[0m \u001b[0mfcst_daily\u001b[0m\u001b[1;33m.\u001b[0m\u001b[0mloc\u001b[0m\u001b[1;33m[\u001b[0m\u001b[0mfcst_daily\u001b[0m\u001b[1;33m[\u001b[0m\u001b[1;34m'ds'\u001b[0m\u001b[1;33m]\u001b[0m \u001b[1;33m<=\u001b[0m \u001b[0mmax_date\u001b[0m\u001b[1;33m]\u001b[0m\u001b[1;33m.\u001b[0m\u001b[0myhat\u001b[0m\u001b[1;33m.\u001b[0m\u001b[0mvalues\u001b[0m\u001b[1;33m\u001b[0m\u001b[1;33m\u001b[0m\u001b[0m\n\u001b[0;32m      3\u001b[0m \u001b[0my_pred_no_daily\u001b[0m \u001b[1;33m=\u001b[0m \u001b[0mfcst_no_daily\u001b[0m\u001b[1;33m.\u001b[0m\u001b[0mloc\u001b[0m\u001b[1;33m[\u001b[0m\u001b[0mfcst_no_daily\u001b[0m\u001b[1;33m[\u001b[0m\u001b[1;34m'ds'\u001b[0m\u001b[1;33m]\u001b[0m \u001b[1;33m<=\u001b[0m \u001b[0mmax_date\u001b[0m\u001b[1;33m]\u001b[0m\u001b[1;33m.\u001b[0m\u001b[0myhat\u001b[0m\u001b[1;33m.\u001b[0m\u001b[0mvalues\u001b[0m\u001b[1;33m\u001b[0m\u001b[1;33m\u001b[0m\u001b[0m\n",
      "\u001b[1;31mNameError\u001b[0m: name 'df_prophet' is not defined"
     ]
    }
   ],
   "source": [
    "y_true_death = df_prophet.y.values\n",
    "y_pred_daily = fcst_daily.loc[fcst_daily['ds'] <= max_date].yhat.values\n",
    "y_pred_no_daily = fcst_no_daily.loc[fcst_no_daily['ds'] <= max_date].yhat.values"
   ]
  }
 ],
 "metadata": {
  "kernelspec": {
   "display_name": "Python 3",
   "language": "python",
   "name": "python3"
  },
  "language_info": {
   "codemirror_mode": {
    "name": "ipython",
    "version": 3
   },
   "file_extension": ".py",
   "mimetype": "text/x-python",
   "name": "python",
   "nbconvert_exporter": "python",
   "pygments_lexer": "ipython3",
   "version": "3.7.4"
  }
 },
 "nbformat": 4,
 "nbformat_minor": 2
}
