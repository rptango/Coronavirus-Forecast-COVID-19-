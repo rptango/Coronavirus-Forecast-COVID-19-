{
 "cells": [
  {
   "cell_type": "markdown",
   "metadata": {},
   "source": [
    "<img src=\"./dataset/rptango_logo1.png\" width=\"240\" height=\"240\" align=\"left\"/>"
   ]
  },
  {
   "cell_type": "markdown",
   "metadata": {},
   "source": [
    "# Coronavirus COVID-19 Forecast\n",
    "\n",
    "***\n",
    "This Notebook is an attempt to forecast nCOV-19 casualties and confirmed cases using Facebook prophet library.\n",
    "***"
   ]
  },
  {
   "cell_type": "code",
   "execution_count": 2,
   "metadata": {},
   "outputs": [
    {
     "data": {
      "text/html": [
       "        <script type=\"text/javascript\">\n",
       "        window.PlotlyConfig = {MathJaxConfig: 'local'};\n",
       "        if (window.MathJax) {MathJax.Hub.Config({SVG: {font: \"STIX-Web\"}});}\n",
       "        if (typeof require !== 'undefined') {\n",
       "        require.undef(\"plotly\");\n",
       "        requirejs.config({\n",
       "            paths: {\n",
       "                'plotly': ['https://cdn.plot.ly/plotly-latest.min']\n",
       "            }\n",
       "        });\n",
       "        require(['plotly'], function(Plotly) {\n",
       "            window._Plotly = Plotly;\n",
       "        });\n",
       "        }\n",
       "        </script>\n",
       "        "
      ]
     },
     "metadata": {},
     "output_type": "display_data"
    }
   ],
   "source": [
    "import numpy as np\n",
    "import pandas as pd \n",
    "import matplotlib.pyplot as plt\n",
    "import plotly.graph_objects as go \n",
    "import seaborn as sns\n",
    "import plotly\n",
    "import plotly.express as px\n",
    "from fbprophet.plot import plot_plotly\n",
    "from fbprophet import Prophet\n",
    "from plotly.offline import download_plotlyjs, init_notebook_mode, plot, iplot, plot_mpl\n",
    "import plotly.offline as py\n",
    "init_notebook_mode(connected=True)"
   ]
  },
  {
   "cell_type": "markdown",
   "metadata": {},
   "source": [
    "## 1. Data Exploration/Preparation"
   ]
  },
  {
   "cell_type": "code",
   "execution_count": 3,
   "metadata": {},
   "outputs": [
    {
     "data": {
      "text/html": [
       "<div>\n",
       "<style scoped>\n",
       "    .dataframe tbody tr th:only-of-type {\n",
       "        vertical-align: middle;\n",
       "    }\n",
       "\n",
       "    .dataframe tbody tr th {\n",
       "        vertical-align: top;\n",
       "    }\n",
       "\n",
       "    .dataframe thead th {\n",
       "        text-align: right;\n",
       "    }\n",
       "</style>\n",
       "<table border=\"1\" class=\"dataframe\">\n",
       "  <thead>\n",
       "    <tr style=\"text-align: right;\">\n",
       "      <th></th>\n",
       "      <th>Sno</th>\n",
       "      <th>Date</th>\n",
       "      <th>Province/State</th>\n",
       "      <th>Country</th>\n",
       "      <th>Last Update</th>\n",
       "      <th>Confirmed</th>\n",
       "      <th>Deaths</th>\n",
       "      <th>Recovered</th>\n",
       "    </tr>\n",
       "  </thead>\n",
       "  <tbody>\n",
       "    <tr>\n",
       "      <th>1564</th>\n",
       "      <td>1565</td>\n",
       "      <td>02/15/2020 22:00:00</td>\n",
       "      <td>Madison, WI</td>\n",
       "      <td>US</td>\n",
       "      <td>2020-02-05T21:53:02</td>\n",
       "      <td>1.0</td>\n",
       "      <td>0.0</td>\n",
       "      <td>0.0</td>\n",
       "    </tr>\n",
       "    <tr>\n",
       "      <th>1565</th>\n",
       "      <td>1566</td>\n",
       "      <td>02/15/2020 22:00:00</td>\n",
       "      <td>Orange, CA</td>\n",
       "      <td>US</td>\n",
       "      <td>2020-02-01T19:53:03</td>\n",
       "      <td>1.0</td>\n",
       "      <td>0.0</td>\n",
       "      <td>0.0</td>\n",
       "    </tr>\n",
       "    <tr>\n",
       "      <th>1566</th>\n",
       "      <td>1567</td>\n",
       "      <td>02/15/2020 22:00:00</td>\n",
       "      <td>San Antonio, TX</td>\n",
       "      <td>US</td>\n",
       "      <td>2020-02-13T18:53:02</td>\n",
       "      <td>1.0</td>\n",
       "      <td>0.0</td>\n",
       "      <td>0.0</td>\n",
       "    </tr>\n",
       "    <tr>\n",
       "      <th>1567</th>\n",
       "      <td>1568</td>\n",
       "      <td>02/15/2020 22:00:00</td>\n",
       "      <td>Seattle, WA</td>\n",
       "      <td>US</td>\n",
       "      <td>2020-02-09T07:03:04</td>\n",
       "      <td>1.0</td>\n",
       "      <td>0.0</td>\n",
       "      <td>1.0</td>\n",
       "    </tr>\n",
       "    <tr>\n",
       "      <th>1568</th>\n",
       "      <td>1569</td>\n",
       "      <td>02/15/2020 22:00:00</td>\n",
       "      <td>Tempe, AZ</td>\n",
       "      <td>US</td>\n",
       "      <td>2020-02-01T19:43:03</td>\n",
       "      <td>1.0</td>\n",
       "      <td>0.0</td>\n",
       "      <td>0.0</td>\n",
       "    </tr>\n",
       "  </tbody>\n",
       "</table>\n",
       "</div>"
      ],
      "text/plain": [
       "       Sno                 Date   Province/State Country          Last Update  \\\n",
       "1564  1565  02/15/2020 22:00:00      Madison, WI      US  2020-02-05T21:53:02   \n",
       "1565  1566  02/15/2020 22:00:00       Orange, CA      US  2020-02-01T19:53:03   \n",
       "1566  1567  02/15/2020 22:00:00  San Antonio, TX      US  2020-02-13T18:53:02   \n",
       "1567  1568  02/15/2020 22:00:00      Seattle, WA      US  2020-02-09T07:03:04   \n",
       "1568  1569  02/15/2020 22:00:00        Tempe, AZ      US  2020-02-01T19:43:03   \n",
       "\n",
       "      Confirmed  Deaths  Recovered  \n",
       "1564        1.0     0.0        0.0  \n",
       "1565        1.0     0.0        0.0  \n",
       "1566        1.0     0.0        0.0  \n",
       "1567        1.0     0.0        1.0  \n",
       "1568        1.0     0.0        0.0  "
      ]
     },
     "execution_count": 3,
     "metadata": {},
     "output_type": "execute_result"
    }
   ],
   "source": [
    "dataset = pd.read_csv('./dataset/2019_nCoV_data.csv')\n",
    "dataset.tail()"
   ]
  },
  {
   "cell_type": "code",
   "execution_count": 4,
   "metadata": {},
   "outputs": [
    {
     "data": {
      "text/plain": [
       "Sno                 0\n",
       "Date                0\n",
       "Province/State    418\n",
       "Country             0\n",
       "Last Update         0\n",
       "Confirmed           0\n",
       "Deaths              0\n",
       "Recovered           0\n",
       "dtype: int64"
      ]
     },
     "execution_count": 4,
     "metadata": {},
     "output_type": "execute_result"
    }
   ],
   "source": [
    "dataset.isnull().sum()"
   ]
  },
  {
   "cell_type": "code",
   "execution_count": 5,
   "metadata": {},
   "outputs": [
    {
     "name": "stdout",
     "output_type": "stream",
     "text": [
      "# of rows in the dataset: 1569\n",
      "# of Columns in the dataset: 8\n"
     ]
    }
   ],
   "source": [
    "print(\"# of rows in the dataset: {}\".format(dataset.shape[0]))\n",
    "print(\"# of Columns in the dataset: {}\".format(dataset.shape[1]))"
   ]
  },
  {
   "cell_type": "markdown",
   "metadata": {},
   "source": [
    "## 2. Training Dataset Separation"
   ]
  },
  {
   "cell_type": "code",
   "execution_count": 6,
   "metadata": {},
   "outputs": [],
   "source": [
    "confirmed_training_dataset = pd.DataFrame(dataset.groupby('Date')['Confirmed'].sum().reset_index()).rename(columns={'Date': 'ds', 'Confirmed': 'y'})\n",
    "death_training_dataset = pd.DataFrame(dataset.groupby('Date')['Deaths'].sum().reset_index()).rename(columns={'Date': 'ds', 'Deaths': 'y'})"
   ]
  },
  {
   "cell_type": "markdown",
   "metadata": {},
   "source": [
    "## 3. Model/Prophet  setup"
   ]
  },
  {
   "cell_type": "code",
   "execution_count": 7,
   "metadata": {},
   "outputs": [
    {
     "name": "stderr",
     "output_type": "stream",
     "text": [
      "INFO:fbprophet:Disabling yearly seasonality. Run prophet with yearly_seasonality=True to override this.\n",
      "INFO:fbprophet:n_changepoints greater than number of observations.Using 19.\n",
      "C:\\Users\\roype\\Anaconda3\\envs\\stan_env\\lib\\site-packages\\pystan\\misc.py:399: FutureWarning:\n",
      "\n",
      "Conversion of the second argument of issubdtype from `float` to `np.floating` is deprecated. In future, it will be treated as `np.float64 == np.dtype(float).type`.\n",
      "\n"
     ]
    }
   ],
   "source": [
    "# Prophet Model for Confirmed Cases\n",
    "prophetc = Prophet()\n",
    "prophetc.fit(confirmed_training_dataset)\n",
    "futurec = prophetc.make_future_dataframe(periods=7)\n",
    "confirmed_forecast = prophetc.predict(futurec)\n",
    "\n",
    "# Prophet Model for Death Cases\n",
    "prophetd = Prophet(\n",
    "    changepoint_range=0.90,\n",
    "    changepoint_prior_scale=20,\n",
    "    n_changepoints=17,\n",
    "    yearly_seasonality=False,\n",
    "    weekly_seasonality = False,\n",
    "    daily_seasonality = False,\n",
    "    seasonality_mode = 'additive')\n",
    "prophetd.fit(death_training_dataset)\n",
    "futured = prophetd.make_future_dataframe(periods=7)\n",
    "deaths_forecast = prophetd.predict(futured)"
   ]
  },
  {
   "cell_type": "markdown",
   "metadata": {},
   "source": [
    "## 4. Confirmed & Death Cases Visualisation"
   ]
  },
  {
   "cell_type": "code",
   "execution_count": 12,
   "metadata": {},
   "outputs": [
    {
     "data": {
      "application/vnd.plotly.v1+json": {
       "config": {
        "plotlyServerURL": "https://plot.ly"
       },
       "data": [
        {
         "marker": {
          "color": "black",
          "size": 4
         },
         "mode": "markers",
         "name": "Actual",
         "type": "scatter",
         "x": [
          "2020-01-22T12:00:00",
          "2020-01-23T12:00:00",
          "2020-01-24T12:00:00",
          "2020-01-25T22:00:00",
          "2020-01-26T23:00:00",
          "2020-01-27T20:30:00",
          "2020-01-28T23:00:00",
          "2020-01-29T21:00:00",
          "2020-01-30T21:30:00",
          "2020-01-31T19:00:00",
          "2020-02-01T23:00:00",
          "2020-02-02T21:00:00",
          "2020-02-03T21:40:00",
          "2020-02-04T22:00:00",
          "2020-02-05T12:20:00",
          "2020-02-06T20:05:00",
          "2020-02-07T20:24:00",
          "2020-02-08T23:04:00",
          "2020-02-09T23:20:00",
          "2020-02-10T19:30:00",
          "2020-02-11T20:44:00",
          "2020-02-12T22:00:00",
          "2020-02-13T21:15:00",
          "2020-02-14T22:00:00",
          "2020-02-15T22:00:00"
         ],
         "y": [
          555,
          653,
          941,
          2019,
          2794,
          4473,
          6057,
          7783,
          9776,
          11374,
          14549,
          17295,
          20588,
          24503,
          24630,
          30806,
          31532,
          37549,
          40536,
          42767,
          45117,
          60328,
          64422,
          66887,
          69032
         ]
        },
        {
         "hoverinfo": "skip",
         "line": {
          "width": 0
         },
         "mode": "lines",
         "type": "scatter",
         "x": [
          "2020-01-22T12:00:00",
          "2020-01-23T12:00:00",
          "2020-01-24T12:00:00",
          "2020-01-25T22:00:00",
          "2020-01-26T23:00:00",
          "2020-01-27T20:30:00",
          "2020-01-28T23:00:00",
          "2020-01-29T21:00:00",
          "2020-01-30T21:30:00",
          "2020-01-31T19:00:00",
          "2020-02-01T23:00:00",
          "2020-02-02T21:00:00",
          "2020-02-03T21:40:00",
          "2020-02-04T22:00:00",
          "2020-02-05T12:20:00",
          "2020-02-06T20:05:00",
          "2020-02-07T20:24:00",
          "2020-02-08T23:04:00",
          "2020-02-09T23:20:00",
          "2020-02-10T19:30:00",
          "2020-02-11T20:44:00",
          "2020-02-12T22:00:00",
          "2020-02-13T21:15:00",
          "2020-02-14T22:00:00",
          "2020-02-15T22:00:00",
          "2020-02-16T22:00:00",
          "2020-02-17T22:00:00",
          "2020-02-18T22:00:00",
          "2020-02-19T22:00:00",
          "2020-02-20T22:00:00",
          "2020-02-21T22:00:00",
          "2020-02-22T22:00:00"
         ],
         "y": [
          -3995.780581620202,
          -70.39959901643881,
          228.7559540662061,
          -1257.094621281066,
          1610.7843874200312,
          -159.7850520370244,
          2966.4506316649454,
          7308.310023143398,
          10856.604655580417,
          8966.373805416952,
          12628.317322458226,
          15397.237148532906,
          19499.688172767485,
          22646.521266292995,
          22794.540086071152,
          27573.097187568772,
          30599.975263711192,
          36479.50412373093,
          38193.21315611295,
          42161.00074975363,
          45532.86055451475,
          58485.15752938518,
          58639.94804906102,
          64026.586361485766,
          66946.03297953779,
          73147.05529059462,
          76221.57141214857,
          78078.77167607282,
          86244.64936521374,
          89084.56016496987,
          91574.53516704026,
          94198.15263580222
         ]
        },
        {
         "fill": "tonexty",
         "fillcolor": "rgba(0, 114, 178, 0.2)",
         "line": {
          "color": "#0072B2",
          "width": 2
         },
         "mode": "lines",
         "name": "Predicted",
         "type": "scatter",
         "x": [
          "2020-01-22T12:00:00",
          "2020-01-23T12:00:00",
          "2020-01-24T12:00:00",
          "2020-01-25T22:00:00",
          "2020-01-26T23:00:00",
          "2020-01-27T20:30:00",
          "2020-01-28T23:00:00",
          "2020-01-29T21:00:00",
          "2020-01-30T21:30:00",
          "2020-01-31T19:00:00",
          "2020-02-01T23:00:00",
          "2020-02-02T21:00:00",
          "2020-02-03T21:40:00",
          "2020-02-04T22:00:00",
          "2020-02-05T12:20:00",
          "2020-02-06T20:05:00",
          "2020-02-07T20:24:00",
          "2020-02-08T23:04:00",
          "2020-02-09T23:20:00",
          "2020-02-10T19:30:00",
          "2020-02-11T20:44:00",
          "2020-02-12T22:00:00",
          "2020-02-13T21:15:00",
          "2020-02-14T22:00:00",
          "2020-02-15T22:00:00",
          "2020-02-16T22:00:00",
          "2020-02-17T22:00:00",
          "2020-02-18T22:00:00",
          "2020-02-19T22:00:00",
          "2020-02-20T22:00:00",
          "2020-02-21T22:00:00",
          "2020-02-22T22:00:00"
         ],
         "y": [
          -1978.5182744486556,
          1959.599558986789,
          2157.6367651397813,
          759.869934826238,
          3517.07328471027,
          1608.410227964836,
          5006.381517567228,
          9404.772647652615,
          12710.924982465862,
          10912.611849415145,
          14769.730791859562,
          17322.7086041905,
          21451.626046730926,
          24508.302565508136,
          24640.597491346143,
          29440.273834861542,
          32553.41713072016,
          38452.00675202462,
          40098.92805429804,
          44185.23958149851,
          47387.47643929394,
          60532.06786883758,
          60560.438086914284,
          66046.0341206623,
          68958.38744862542,
          75235.95325231226,
          78291.3566133296,
          80119.62866287962,
          88344.01875701442,
          91288.01713964305,
          93857.9849994012,
          96770.3383367897
         ]
        },
        {
         "fill": "tonexty",
         "fillcolor": "rgba(0, 114, 178, 0.2)",
         "hoverinfo": "skip",
         "line": {
          "width": 0
         },
         "mode": "lines",
         "type": "scatter",
         "x": [
          "2020-01-22T12:00:00",
          "2020-01-23T12:00:00",
          "2020-01-24T12:00:00",
          "2020-01-25T22:00:00",
          "2020-01-26T23:00:00",
          "2020-01-27T20:30:00",
          "2020-01-28T23:00:00",
          "2020-01-29T21:00:00",
          "2020-01-30T21:30:00",
          "2020-01-31T19:00:00",
          "2020-02-01T23:00:00",
          "2020-02-02T21:00:00",
          "2020-02-03T21:40:00",
          "2020-02-04T22:00:00",
          "2020-02-05T12:20:00",
          "2020-02-06T20:05:00",
          "2020-02-07T20:24:00",
          "2020-02-08T23:04:00",
          "2020-02-09T23:20:00",
          "2020-02-10T19:30:00",
          "2020-02-11T20:44:00",
          "2020-02-12T22:00:00",
          "2020-02-13T21:15:00",
          "2020-02-14T22:00:00",
          "2020-02-15T22:00:00",
          "2020-02-16T22:00:00",
          "2020-02-17T22:00:00",
          "2020-02-18T22:00:00",
          "2020-02-19T22:00:00",
          "2020-02-20T22:00:00",
          "2020-02-21T22:00:00",
          "2020-02-22T22:00:00"
         ],
         "y": [
          27.15815976505685,
          3945.944822686106,
          4196.213612568157,
          2607.260039712422,
          5592.540280980683,
          3602.9043802181873,
          6935.102358626189,
          11299.468897790583,
          14763.764273788252,
          12896.57060509074,
          16660.36260940756,
          19277.20083272488,
          23362.608839128305,
          26395.681292971294,
          26755.15163962888,
          31549.649127346176,
          34607.91592719544,
          40381.92712218436,
          42125.18757564627,
          46225.84336169544,
          49318.50590687786,
          62476.86657400291,
          62409.0572915742,
          68110.73308958621,
          70933.88564437356,
          77141.18315008131,
          80301.62803471516,
          82161.07193732132,
          90335.67370905408,
          93395.19933895998,
          96248.04482041192,
          99298.8826006003
         ]
        }
       ],
       "layout": {
        "annotations": [
         {
          "font": {
           "color": "rgb(37,37,37)",
           "family": "Arial",
           "size": 22
          },
          "showarrow": false,
          "text": "Forecast Confirmed Cases",
          "x": 0,
          "xanchor": "left",
          "xref": "paper",
          "y": 1.15,
          "yanchor": "bottom",
          "yref": "paper"
         }
        ],
        "height": 600,
        "showlegend": false,
        "template": {
         "data": {
          "bar": [
           {
            "error_x": {
             "color": "#2a3f5f"
            },
            "error_y": {
             "color": "#2a3f5f"
            },
            "marker": {
             "line": {
              "color": "#E5ECF6",
              "width": 0.5
             }
            },
            "type": "bar"
           }
          ],
          "barpolar": [
           {
            "marker": {
             "line": {
              "color": "#E5ECF6",
              "width": 0.5
             }
            },
            "type": "barpolar"
           }
          ],
          "carpet": [
           {
            "aaxis": {
             "endlinecolor": "#2a3f5f",
             "gridcolor": "white",
             "linecolor": "white",
             "minorgridcolor": "white",
             "startlinecolor": "#2a3f5f"
            },
            "baxis": {
             "endlinecolor": "#2a3f5f",
             "gridcolor": "white",
             "linecolor": "white",
             "minorgridcolor": "white",
             "startlinecolor": "#2a3f5f"
            },
            "type": "carpet"
           }
          ],
          "choropleth": [
           {
            "colorbar": {
             "outlinewidth": 0,
             "ticks": ""
            },
            "type": "choropleth"
           }
          ],
          "contour": [
           {
            "colorbar": {
             "outlinewidth": 0,
             "ticks": ""
            },
            "colorscale": [
             [
              0,
              "#0d0887"
             ],
             [
              0.1111111111111111,
              "#46039f"
             ],
             [
              0.2222222222222222,
              "#7201a8"
             ],
             [
              0.3333333333333333,
              "#9c179e"
             ],
             [
              0.4444444444444444,
              "#bd3786"
             ],
             [
              0.5555555555555556,
              "#d8576b"
             ],
             [
              0.6666666666666666,
              "#ed7953"
             ],
             [
              0.7777777777777778,
              "#fb9f3a"
             ],
             [
              0.8888888888888888,
              "#fdca26"
             ],
             [
              1,
              "#f0f921"
             ]
            ],
            "type": "contour"
           }
          ],
          "contourcarpet": [
           {
            "colorbar": {
             "outlinewidth": 0,
             "ticks": ""
            },
            "type": "contourcarpet"
           }
          ],
          "heatmap": [
           {
            "colorbar": {
             "outlinewidth": 0,
             "ticks": ""
            },
            "colorscale": [
             [
              0,
              "#0d0887"
             ],
             [
              0.1111111111111111,
              "#46039f"
             ],
             [
              0.2222222222222222,
              "#7201a8"
             ],
             [
              0.3333333333333333,
              "#9c179e"
             ],
             [
              0.4444444444444444,
              "#bd3786"
             ],
             [
              0.5555555555555556,
              "#d8576b"
             ],
             [
              0.6666666666666666,
              "#ed7953"
             ],
             [
              0.7777777777777778,
              "#fb9f3a"
             ],
             [
              0.8888888888888888,
              "#fdca26"
             ],
             [
              1,
              "#f0f921"
             ]
            ],
            "type": "heatmap"
           }
          ],
          "heatmapgl": [
           {
            "colorbar": {
             "outlinewidth": 0,
             "ticks": ""
            },
            "colorscale": [
             [
              0,
              "#0d0887"
             ],
             [
              0.1111111111111111,
              "#46039f"
             ],
             [
              0.2222222222222222,
              "#7201a8"
             ],
             [
              0.3333333333333333,
              "#9c179e"
             ],
             [
              0.4444444444444444,
              "#bd3786"
             ],
             [
              0.5555555555555556,
              "#d8576b"
             ],
             [
              0.6666666666666666,
              "#ed7953"
             ],
             [
              0.7777777777777778,
              "#fb9f3a"
             ],
             [
              0.8888888888888888,
              "#fdca26"
             ],
             [
              1,
              "#f0f921"
             ]
            ],
            "type": "heatmapgl"
           }
          ],
          "histogram": [
           {
            "marker": {
             "colorbar": {
              "outlinewidth": 0,
              "ticks": ""
             }
            },
            "type": "histogram"
           }
          ],
          "histogram2d": [
           {
            "colorbar": {
             "outlinewidth": 0,
             "ticks": ""
            },
            "colorscale": [
             [
              0,
              "#0d0887"
             ],
             [
              0.1111111111111111,
              "#46039f"
             ],
             [
              0.2222222222222222,
              "#7201a8"
             ],
             [
              0.3333333333333333,
              "#9c179e"
             ],
             [
              0.4444444444444444,
              "#bd3786"
             ],
             [
              0.5555555555555556,
              "#d8576b"
             ],
             [
              0.6666666666666666,
              "#ed7953"
             ],
             [
              0.7777777777777778,
              "#fb9f3a"
             ],
             [
              0.8888888888888888,
              "#fdca26"
             ],
             [
              1,
              "#f0f921"
             ]
            ],
            "type": "histogram2d"
           }
          ],
          "histogram2dcontour": [
           {
            "colorbar": {
             "outlinewidth": 0,
             "ticks": ""
            },
            "colorscale": [
             [
              0,
              "#0d0887"
             ],
             [
              0.1111111111111111,
              "#46039f"
             ],
             [
              0.2222222222222222,
              "#7201a8"
             ],
             [
              0.3333333333333333,
              "#9c179e"
             ],
             [
              0.4444444444444444,
              "#bd3786"
             ],
             [
              0.5555555555555556,
              "#d8576b"
             ],
             [
              0.6666666666666666,
              "#ed7953"
             ],
             [
              0.7777777777777778,
              "#fb9f3a"
             ],
             [
              0.8888888888888888,
              "#fdca26"
             ],
             [
              1,
              "#f0f921"
             ]
            ],
            "type": "histogram2dcontour"
           }
          ],
          "mesh3d": [
           {
            "colorbar": {
             "outlinewidth": 0,
             "ticks": ""
            },
            "type": "mesh3d"
           }
          ],
          "parcoords": [
           {
            "line": {
             "colorbar": {
              "outlinewidth": 0,
              "ticks": ""
             }
            },
            "type": "parcoords"
           }
          ],
          "scatter": [
           {
            "marker": {
             "colorbar": {
              "outlinewidth": 0,
              "ticks": ""
             }
            },
            "type": "scatter"
           }
          ],
          "scatter3d": [
           {
            "line": {
             "colorbar": {
              "outlinewidth": 0,
              "ticks": ""
             }
            },
            "marker": {
             "colorbar": {
              "outlinewidth": 0,
              "ticks": ""
             }
            },
            "type": "scatter3d"
           }
          ],
          "scattercarpet": [
           {
            "marker": {
             "colorbar": {
              "outlinewidth": 0,
              "ticks": ""
             }
            },
            "type": "scattercarpet"
           }
          ],
          "scattergeo": [
           {
            "marker": {
             "colorbar": {
              "outlinewidth": 0,
              "ticks": ""
             }
            },
            "type": "scattergeo"
           }
          ],
          "scattergl": [
           {
            "marker": {
             "colorbar": {
              "outlinewidth": 0,
              "ticks": ""
             }
            },
            "type": "scattergl"
           }
          ],
          "scattermapbox": [
           {
            "marker": {
             "colorbar": {
              "outlinewidth": 0,
              "ticks": ""
             }
            },
            "type": "scattermapbox"
           }
          ],
          "scatterpolar": [
           {
            "marker": {
             "colorbar": {
              "outlinewidth": 0,
              "ticks": ""
             }
            },
            "type": "scatterpolar"
           }
          ],
          "scatterpolargl": [
           {
            "marker": {
             "colorbar": {
              "outlinewidth": 0,
              "ticks": ""
             }
            },
            "type": "scatterpolargl"
           }
          ],
          "scatterternary": [
           {
            "marker": {
             "colorbar": {
              "outlinewidth": 0,
              "ticks": ""
             }
            },
            "type": "scatterternary"
           }
          ],
          "surface": [
           {
            "colorbar": {
             "outlinewidth": 0,
             "ticks": ""
            },
            "colorscale": [
             [
              0,
              "#0d0887"
             ],
             [
              0.1111111111111111,
              "#46039f"
             ],
             [
              0.2222222222222222,
              "#7201a8"
             ],
             [
              0.3333333333333333,
              "#9c179e"
             ],
             [
              0.4444444444444444,
              "#bd3786"
             ],
             [
              0.5555555555555556,
              "#d8576b"
             ],
             [
              0.6666666666666666,
              "#ed7953"
             ],
             [
              0.7777777777777778,
              "#fb9f3a"
             ],
             [
              0.8888888888888888,
              "#fdca26"
             ],
             [
              1,
              "#f0f921"
             ]
            ],
            "type": "surface"
           }
          ],
          "table": [
           {
            "cells": {
             "fill": {
              "color": "#EBF0F8"
             },
             "line": {
              "color": "white"
             }
            },
            "header": {
             "fill": {
              "color": "#C8D4E3"
             },
             "line": {
              "color": "white"
             }
            },
            "type": "table"
           }
          ]
         },
         "layout": {
          "annotationdefaults": {
           "arrowcolor": "#2a3f5f",
           "arrowhead": 0,
           "arrowwidth": 1
          },
          "colorscale": {
           "diverging": [
            [
             0,
             "#8e0152"
            ],
            [
             0.1,
             "#c51b7d"
            ],
            [
             0.2,
             "#de77ae"
            ],
            [
             0.3,
             "#f1b6da"
            ],
            [
             0.4,
             "#fde0ef"
            ],
            [
             0.5,
             "#f7f7f7"
            ],
            [
             0.6,
             "#e6f5d0"
            ],
            [
             0.7,
             "#b8e186"
            ],
            [
             0.8,
             "#7fbc41"
            ],
            [
             0.9,
             "#4d9221"
            ],
            [
             1,
             "#276419"
            ]
           ],
           "sequential": [
            [
             0,
             "#0d0887"
            ],
            [
             0.1111111111111111,
             "#46039f"
            ],
            [
             0.2222222222222222,
             "#7201a8"
            ],
            [
             0.3333333333333333,
             "#9c179e"
            ],
            [
             0.4444444444444444,
             "#bd3786"
            ],
            [
             0.5555555555555556,
             "#d8576b"
            ],
            [
             0.6666666666666666,
             "#ed7953"
            ],
            [
             0.7777777777777778,
             "#fb9f3a"
            ],
            [
             0.8888888888888888,
             "#fdca26"
            ],
            [
             1,
             "#f0f921"
            ]
           ],
           "sequentialminus": [
            [
             0,
             "#0d0887"
            ],
            [
             0.1111111111111111,
             "#46039f"
            ],
            [
             0.2222222222222222,
             "#7201a8"
            ],
            [
             0.3333333333333333,
             "#9c179e"
            ],
            [
             0.4444444444444444,
             "#bd3786"
            ],
            [
             0.5555555555555556,
             "#d8576b"
            ],
            [
             0.6666666666666666,
             "#ed7953"
            ],
            [
             0.7777777777777778,
             "#fb9f3a"
            ],
            [
             0.8888888888888888,
             "#fdca26"
            ],
            [
             1,
             "#f0f921"
            ]
           ]
          },
          "colorway": [
           "#636efa",
           "#EF553B",
           "#00cc96",
           "#ab63fa",
           "#FFA15A",
           "#19d3f3",
           "#FF6692",
           "#B6E880",
           "#FF97FF",
           "#FECB52"
          ],
          "font": {
           "color": "#2a3f5f"
          },
          "geo": {
           "bgcolor": "white",
           "lakecolor": "white",
           "landcolor": "#E5ECF6",
           "showlakes": true,
           "showland": true,
           "subunitcolor": "white"
          },
          "hoverlabel": {
           "align": "left"
          },
          "hovermode": "closest",
          "mapbox": {
           "style": "light"
          },
          "paper_bgcolor": "white",
          "plot_bgcolor": "#E5ECF6",
          "polar": {
           "angularaxis": {
            "gridcolor": "white",
            "linecolor": "white",
            "ticks": ""
           },
           "bgcolor": "#E5ECF6",
           "radialaxis": {
            "gridcolor": "white",
            "linecolor": "white",
            "ticks": ""
           }
          },
          "scene": {
           "xaxis": {
            "backgroundcolor": "#E5ECF6",
            "gridcolor": "white",
            "gridwidth": 2,
            "linecolor": "white",
            "showbackground": true,
            "ticks": "",
            "zerolinecolor": "white"
           },
           "yaxis": {
            "backgroundcolor": "#E5ECF6",
            "gridcolor": "white",
            "gridwidth": 2,
            "linecolor": "white",
            "showbackground": true,
            "ticks": "",
            "zerolinecolor": "white"
           },
           "zaxis": {
            "backgroundcolor": "#E5ECF6",
            "gridcolor": "white",
            "gridwidth": 2,
            "linecolor": "white",
            "showbackground": true,
            "ticks": "",
            "zerolinecolor": "white"
           }
          },
          "shapedefaults": {
           "line": {
            "color": "#2a3f5f"
           }
          },
          "ternary": {
           "aaxis": {
            "gridcolor": "white",
            "linecolor": "white",
            "ticks": ""
           },
           "baxis": {
            "gridcolor": "white",
            "linecolor": "white",
            "ticks": ""
           },
           "bgcolor": "#E5ECF6",
           "caxis": {
            "gridcolor": "white",
            "linecolor": "white",
            "ticks": ""
           }
          },
          "title": {
           "x": 0.05
          },
          "xaxis": {
           "automargin": true,
           "gridcolor": "white",
           "linecolor": "white",
           "ticks": "",
           "zerolinecolor": "white",
           "zerolinewidth": 2
          },
          "yaxis": {
           "automargin": true,
           "gridcolor": "white",
           "linecolor": "white",
           "ticks": "",
           "zerolinecolor": "white",
           "zerolinewidth": 2
          }
         }
        },
        "width": 900,
        "xaxis": {
         "rangeselector": {
          "buttons": [
           {
            "count": 7,
            "label": "1w",
            "step": "day",
            "stepmode": "backward"
           },
           {
            "count": 1,
            "label": "1m",
            "step": "month",
            "stepmode": "backward"
           },
           {
            "count": 6,
            "label": "6m",
            "step": "month",
            "stepmode": "backward"
           },
           {
            "count": 1,
            "label": "1y",
            "step": "year",
            "stepmode": "backward"
           },
           {
            "step": "all"
           }
          ]
         },
         "rangeslider": {
          "visible": true
         },
         "title": {
          "text": "ds"
         },
         "type": "date"
        },
        "yaxis": {
         "title": {
          "text": "y"
         }
        }
       }
      },
      "text/html": [
       "<div>\n",
       "        \n",
       "        \n",
       "            <div id=\"bb949a8e-033f-4366-b24c-03f637d65406\" class=\"plotly-graph-div\" style=\"height:600px; width:900px;\"></div>\n",
       "            <script type=\"text/javascript\">\n",
       "                require([\"plotly\"], function(Plotly) {\n",
       "                    window.PLOTLYENV=window.PLOTLYENV || {};\n",
       "                    \n",
       "                if (document.getElementById(\"bb949a8e-033f-4366-b24c-03f637d65406\")) {\n",
       "                    Plotly.newPlot(\n",
       "                        'bb949a8e-033f-4366-b24c-03f637d65406',\n",
       "                        [{\"marker\": {\"color\": \"black\", \"size\": 4}, \"mode\": \"markers\", \"name\": \"Actual\", \"type\": \"scatter\", \"x\": [\"2020-01-22T12:00:00\", \"2020-01-23T12:00:00\", \"2020-01-24T12:00:00\", \"2020-01-25T22:00:00\", \"2020-01-26T23:00:00\", \"2020-01-27T20:30:00\", \"2020-01-28T23:00:00\", \"2020-01-29T21:00:00\", \"2020-01-30T21:30:00\", \"2020-01-31T19:00:00\", \"2020-02-01T23:00:00\", \"2020-02-02T21:00:00\", \"2020-02-03T21:40:00\", \"2020-02-04T22:00:00\", \"2020-02-05T12:20:00\", \"2020-02-06T20:05:00\", \"2020-02-07T20:24:00\", \"2020-02-08T23:04:00\", \"2020-02-09T23:20:00\", \"2020-02-10T19:30:00\", \"2020-02-11T20:44:00\", \"2020-02-12T22:00:00\", \"2020-02-13T21:15:00\", \"2020-02-14T22:00:00\", \"2020-02-15T22:00:00\"], \"y\": [555.0, 653.0, 941.0, 2019.0, 2794.0, 4473.0, 6057.0, 7783.0, 9776.0, 11374.0, 14549.0, 17295.0, 20588.0, 24503.0, 24630.0, 30806.0, 31532.0, 37549.0, 40536.0, 42767.0, 45117.0, 60328.0, 64422.0, 66887.0, 69032.0]}, {\"hoverinfo\": \"skip\", \"line\": {\"width\": 0}, \"mode\": \"lines\", \"type\": \"scatter\", \"x\": [\"2020-01-22T12:00:00\", \"2020-01-23T12:00:00\", \"2020-01-24T12:00:00\", \"2020-01-25T22:00:00\", \"2020-01-26T23:00:00\", \"2020-01-27T20:30:00\", \"2020-01-28T23:00:00\", \"2020-01-29T21:00:00\", \"2020-01-30T21:30:00\", \"2020-01-31T19:00:00\", \"2020-02-01T23:00:00\", \"2020-02-02T21:00:00\", \"2020-02-03T21:40:00\", \"2020-02-04T22:00:00\", \"2020-02-05T12:20:00\", \"2020-02-06T20:05:00\", \"2020-02-07T20:24:00\", \"2020-02-08T23:04:00\", \"2020-02-09T23:20:00\", \"2020-02-10T19:30:00\", \"2020-02-11T20:44:00\", \"2020-02-12T22:00:00\", \"2020-02-13T21:15:00\", \"2020-02-14T22:00:00\", \"2020-02-15T22:00:00\", \"2020-02-16T22:00:00\", \"2020-02-17T22:00:00\", \"2020-02-18T22:00:00\", \"2020-02-19T22:00:00\", \"2020-02-20T22:00:00\", \"2020-02-21T22:00:00\", \"2020-02-22T22:00:00\"], \"y\": [-3995.780581620202, -70.39959901643881, 228.7559540662061, -1257.094621281066, 1610.7843874200312, -159.7850520370244, 2966.4506316649454, 7308.310023143398, 10856.604655580417, 8966.373805416952, 12628.317322458226, 15397.237148532906, 19499.688172767485, 22646.521266292995, 22794.540086071152, 27573.097187568772, 30599.975263711192, 36479.50412373093, 38193.21315611295, 42161.00074975363, 45532.86055451475, 58485.15752938518, 58639.94804906102, 64026.586361485766, 66946.03297953779, 73147.05529059462, 76221.57141214857, 78078.77167607282, 86244.64936521374, 89084.56016496987, 91574.53516704026, 94198.15263580222]}, {\"fill\": \"tonexty\", \"fillcolor\": \"rgba(0, 114, 178, 0.2)\", \"line\": {\"color\": \"#0072B2\", \"width\": 2}, \"mode\": \"lines\", \"name\": \"Predicted\", \"type\": \"scatter\", \"x\": [\"2020-01-22T12:00:00\", \"2020-01-23T12:00:00\", \"2020-01-24T12:00:00\", \"2020-01-25T22:00:00\", \"2020-01-26T23:00:00\", \"2020-01-27T20:30:00\", \"2020-01-28T23:00:00\", \"2020-01-29T21:00:00\", \"2020-01-30T21:30:00\", \"2020-01-31T19:00:00\", \"2020-02-01T23:00:00\", \"2020-02-02T21:00:00\", \"2020-02-03T21:40:00\", \"2020-02-04T22:00:00\", \"2020-02-05T12:20:00\", \"2020-02-06T20:05:00\", \"2020-02-07T20:24:00\", \"2020-02-08T23:04:00\", \"2020-02-09T23:20:00\", \"2020-02-10T19:30:00\", \"2020-02-11T20:44:00\", \"2020-02-12T22:00:00\", \"2020-02-13T21:15:00\", \"2020-02-14T22:00:00\", \"2020-02-15T22:00:00\", \"2020-02-16T22:00:00\", \"2020-02-17T22:00:00\", \"2020-02-18T22:00:00\", \"2020-02-19T22:00:00\", \"2020-02-20T22:00:00\", \"2020-02-21T22:00:00\", \"2020-02-22T22:00:00\"], \"y\": [-1978.5182744486556, 1959.599558986789, 2157.6367651397813, 759.869934826238, 3517.07328471027, 1608.410227964836, 5006.381517567228, 9404.772647652615, 12710.924982465862, 10912.611849415145, 14769.730791859562, 17322.7086041905, 21451.626046730926, 24508.302565508136, 24640.597491346143, 29440.273834861542, 32553.41713072016, 38452.00675202462, 40098.92805429804, 44185.23958149851, 47387.47643929394, 60532.06786883758, 60560.438086914284, 66046.0341206623, 68958.38744862542, 75235.95325231226, 78291.3566133296, 80119.62866287962, 88344.01875701442, 91288.01713964305, 93857.9849994012, 96770.3383367897]}, {\"fill\": \"tonexty\", \"fillcolor\": \"rgba(0, 114, 178, 0.2)\", \"hoverinfo\": \"skip\", \"line\": {\"width\": 0}, \"mode\": \"lines\", \"type\": \"scatter\", \"x\": [\"2020-01-22T12:00:00\", \"2020-01-23T12:00:00\", \"2020-01-24T12:00:00\", \"2020-01-25T22:00:00\", \"2020-01-26T23:00:00\", \"2020-01-27T20:30:00\", \"2020-01-28T23:00:00\", \"2020-01-29T21:00:00\", \"2020-01-30T21:30:00\", \"2020-01-31T19:00:00\", \"2020-02-01T23:00:00\", \"2020-02-02T21:00:00\", \"2020-02-03T21:40:00\", \"2020-02-04T22:00:00\", \"2020-02-05T12:20:00\", \"2020-02-06T20:05:00\", \"2020-02-07T20:24:00\", \"2020-02-08T23:04:00\", \"2020-02-09T23:20:00\", \"2020-02-10T19:30:00\", \"2020-02-11T20:44:00\", \"2020-02-12T22:00:00\", \"2020-02-13T21:15:00\", \"2020-02-14T22:00:00\", \"2020-02-15T22:00:00\", \"2020-02-16T22:00:00\", \"2020-02-17T22:00:00\", \"2020-02-18T22:00:00\", \"2020-02-19T22:00:00\", \"2020-02-20T22:00:00\", \"2020-02-21T22:00:00\", \"2020-02-22T22:00:00\"], \"y\": [27.15815976505685, 3945.944822686106, 4196.213612568157, 2607.260039712422, 5592.540280980683, 3602.9043802181873, 6935.102358626189, 11299.468897790583, 14763.764273788252, 12896.57060509074, 16660.36260940756, 19277.20083272488, 23362.608839128305, 26395.681292971294, 26755.15163962888, 31549.649127346176, 34607.91592719544, 40381.92712218436, 42125.18757564627, 46225.84336169544, 49318.50590687786, 62476.86657400291, 62409.0572915742, 68110.73308958621, 70933.88564437356, 77141.18315008131, 80301.62803471516, 82161.07193732132, 90335.67370905408, 93395.19933895998, 96248.04482041192, 99298.8826006003]}],\n",
       "                        {\"annotations\": [{\"font\": {\"color\": \"rgb(37,37,37)\", \"family\": \"Arial\", \"size\": 22}, \"showarrow\": false, \"text\": \"Forecast Confirmed Cases\", \"x\": 0, \"xanchor\": \"left\", \"xref\": \"paper\", \"y\": 1.15, \"yanchor\": \"bottom\", \"yref\": \"paper\"}], \"height\": 600, \"showlegend\": false, \"template\": {\"data\": {\"bar\": [{\"error_x\": {\"color\": \"#2a3f5f\"}, \"error_y\": {\"color\": \"#2a3f5f\"}, \"marker\": {\"line\": {\"color\": \"#E5ECF6\", \"width\": 0.5}}, \"type\": \"bar\"}], \"barpolar\": [{\"marker\": {\"line\": {\"color\": \"#E5ECF6\", \"width\": 0.5}}, \"type\": \"barpolar\"}], \"carpet\": [{\"aaxis\": {\"endlinecolor\": \"#2a3f5f\", \"gridcolor\": \"white\", \"linecolor\": \"white\", \"minorgridcolor\": \"white\", \"startlinecolor\": \"#2a3f5f\"}, \"baxis\": {\"endlinecolor\": \"#2a3f5f\", \"gridcolor\": \"white\", \"linecolor\": \"white\", \"minorgridcolor\": \"white\", \"startlinecolor\": \"#2a3f5f\"}, \"type\": \"carpet\"}], \"choropleth\": [{\"colorbar\": {\"outlinewidth\": 0, \"ticks\": \"\"}, \"type\": \"choropleth\"}], \"contour\": [{\"colorbar\": {\"outlinewidth\": 0, \"ticks\": \"\"}, \"colorscale\": [[0.0, \"#0d0887\"], [0.1111111111111111, \"#46039f\"], [0.2222222222222222, \"#7201a8\"], [0.3333333333333333, \"#9c179e\"], [0.4444444444444444, \"#bd3786\"], [0.5555555555555556, \"#d8576b\"], [0.6666666666666666, \"#ed7953\"], [0.7777777777777778, \"#fb9f3a\"], [0.8888888888888888, \"#fdca26\"], [1.0, \"#f0f921\"]], \"type\": \"contour\"}], \"contourcarpet\": [{\"colorbar\": {\"outlinewidth\": 0, \"ticks\": \"\"}, \"type\": \"contourcarpet\"}], \"heatmap\": [{\"colorbar\": {\"outlinewidth\": 0, \"ticks\": \"\"}, \"colorscale\": [[0.0, \"#0d0887\"], [0.1111111111111111, \"#46039f\"], [0.2222222222222222, \"#7201a8\"], [0.3333333333333333, \"#9c179e\"], [0.4444444444444444, \"#bd3786\"], [0.5555555555555556, \"#d8576b\"], [0.6666666666666666, \"#ed7953\"], [0.7777777777777778, \"#fb9f3a\"], [0.8888888888888888, \"#fdca26\"], [1.0, \"#f0f921\"]], \"type\": \"heatmap\"}], \"heatmapgl\": [{\"colorbar\": {\"outlinewidth\": 0, \"ticks\": \"\"}, \"colorscale\": [[0.0, \"#0d0887\"], [0.1111111111111111, \"#46039f\"], [0.2222222222222222, \"#7201a8\"], [0.3333333333333333, \"#9c179e\"], [0.4444444444444444, \"#bd3786\"], [0.5555555555555556, \"#d8576b\"], [0.6666666666666666, \"#ed7953\"], [0.7777777777777778, \"#fb9f3a\"], [0.8888888888888888, \"#fdca26\"], [1.0, \"#f0f921\"]], \"type\": \"heatmapgl\"}], \"histogram\": [{\"marker\": {\"colorbar\": {\"outlinewidth\": 0, \"ticks\": \"\"}}, \"type\": \"histogram\"}], \"histogram2d\": [{\"colorbar\": {\"outlinewidth\": 0, \"ticks\": \"\"}, \"colorscale\": [[0.0, \"#0d0887\"], [0.1111111111111111, \"#46039f\"], [0.2222222222222222, \"#7201a8\"], [0.3333333333333333, \"#9c179e\"], [0.4444444444444444, \"#bd3786\"], [0.5555555555555556, \"#d8576b\"], [0.6666666666666666, \"#ed7953\"], [0.7777777777777778, \"#fb9f3a\"], [0.8888888888888888, \"#fdca26\"], [1.0, \"#f0f921\"]], \"type\": \"histogram2d\"}], \"histogram2dcontour\": [{\"colorbar\": {\"outlinewidth\": 0, \"ticks\": \"\"}, \"colorscale\": [[0.0, \"#0d0887\"], [0.1111111111111111, \"#46039f\"], [0.2222222222222222, \"#7201a8\"], [0.3333333333333333, \"#9c179e\"], [0.4444444444444444, \"#bd3786\"], [0.5555555555555556, \"#d8576b\"], [0.6666666666666666, \"#ed7953\"], [0.7777777777777778, \"#fb9f3a\"], [0.8888888888888888, \"#fdca26\"], [1.0, \"#f0f921\"]], \"type\": \"histogram2dcontour\"}], \"mesh3d\": [{\"colorbar\": {\"outlinewidth\": 0, \"ticks\": \"\"}, \"type\": \"mesh3d\"}], \"parcoords\": [{\"line\": {\"colorbar\": {\"outlinewidth\": 0, \"ticks\": \"\"}}, \"type\": \"parcoords\"}], \"scatter\": [{\"marker\": {\"colorbar\": {\"outlinewidth\": 0, \"ticks\": \"\"}}, \"type\": \"scatter\"}], \"scatter3d\": [{\"line\": {\"colorbar\": {\"outlinewidth\": 0, \"ticks\": \"\"}}, \"marker\": {\"colorbar\": {\"outlinewidth\": 0, \"ticks\": \"\"}}, \"type\": \"scatter3d\"}], \"scattercarpet\": [{\"marker\": {\"colorbar\": {\"outlinewidth\": 0, \"ticks\": \"\"}}, \"type\": \"scattercarpet\"}], \"scattergeo\": [{\"marker\": {\"colorbar\": {\"outlinewidth\": 0, \"ticks\": \"\"}}, \"type\": \"scattergeo\"}], \"scattergl\": [{\"marker\": {\"colorbar\": {\"outlinewidth\": 0, \"ticks\": \"\"}}, \"type\": \"scattergl\"}], \"scattermapbox\": [{\"marker\": {\"colorbar\": {\"outlinewidth\": 0, \"ticks\": \"\"}}, \"type\": \"scattermapbox\"}], \"scatterpolar\": [{\"marker\": {\"colorbar\": {\"outlinewidth\": 0, \"ticks\": \"\"}}, \"type\": \"scatterpolar\"}], \"scatterpolargl\": [{\"marker\": {\"colorbar\": {\"outlinewidth\": 0, \"ticks\": \"\"}}, \"type\": \"scatterpolargl\"}], \"scatterternary\": [{\"marker\": {\"colorbar\": {\"outlinewidth\": 0, \"ticks\": \"\"}}, \"type\": \"scatterternary\"}], \"surface\": [{\"colorbar\": {\"outlinewidth\": 0, \"ticks\": \"\"}, \"colorscale\": [[0.0, \"#0d0887\"], [0.1111111111111111, \"#46039f\"], [0.2222222222222222, \"#7201a8\"], [0.3333333333333333, \"#9c179e\"], [0.4444444444444444, \"#bd3786\"], [0.5555555555555556, \"#d8576b\"], [0.6666666666666666, \"#ed7953\"], [0.7777777777777778, \"#fb9f3a\"], [0.8888888888888888, \"#fdca26\"], [1.0, \"#f0f921\"]], \"type\": \"surface\"}], \"table\": [{\"cells\": {\"fill\": {\"color\": \"#EBF0F8\"}, \"line\": {\"color\": \"white\"}}, \"header\": {\"fill\": {\"color\": \"#C8D4E3\"}, \"line\": {\"color\": \"white\"}}, \"type\": \"table\"}]}, \"layout\": {\"annotationdefaults\": {\"arrowcolor\": \"#2a3f5f\", \"arrowhead\": 0, \"arrowwidth\": 1}, \"colorscale\": {\"diverging\": [[0, \"#8e0152\"], [0.1, \"#c51b7d\"], [0.2, \"#de77ae\"], [0.3, \"#f1b6da\"], [0.4, \"#fde0ef\"], [0.5, \"#f7f7f7\"], [0.6, \"#e6f5d0\"], [0.7, \"#b8e186\"], [0.8, \"#7fbc41\"], [0.9, \"#4d9221\"], [1, \"#276419\"]], \"sequential\": [[0.0, \"#0d0887\"], [0.1111111111111111, \"#46039f\"], [0.2222222222222222, \"#7201a8\"], [0.3333333333333333, \"#9c179e\"], [0.4444444444444444, \"#bd3786\"], [0.5555555555555556, \"#d8576b\"], [0.6666666666666666, \"#ed7953\"], [0.7777777777777778, \"#fb9f3a\"], [0.8888888888888888, \"#fdca26\"], [1.0, \"#f0f921\"]], \"sequentialminus\": [[0.0, \"#0d0887\"], [0.1111111111111111, \"#46039f\"], [0.2222222222222222, \"#7201a8\"], [0.3333333333333333, \"#9c179e\"], [0.4444444444444444, \"#bd3786\"], [0.5555555555555556, \"#d8576b\"], [0.6666666666666666, \"#ed7953\"], [0.7777777777777778, \"#fb9f3a\"], [0.8888888888888888, \"#fdca26\"], [1.0, \"#f0f921\"]]}, \"colorway\": [\"#636efa\", \"#EF553B\", \"#00cc96\", \"#ab63fa\", \"#FFA15A\", \"#19d3f3\", \"#FF6692\", \"#B6E880\", \"#FF97FF\", \"#FECB52\"], \"font\": {\"color\": \"#2a3f5f\"}, \"geo\": {\"bgcolor\": \"white\", \"lakecolor\": \"white\", \"landcolor\": \"#E5ECF6\", \"showlakes\": true, \"showland\": true, \"subunitcolor\": \"white\"}, \"hoverlabel\": {\"align\": \"left\"}, \"hovermode\": \"closest\", \"mapbox\": {\"style\": \"light\"}, \"paper_bgcolor\": \"white\", \"plot_bgcolor\": \"#E5ECF6\", \"polar\": {\"angularaxis\": {\"gridcolor\": \"white\", \"linecolor\": \"white\", \"ticks\": \"\"}, \"bgcolor\": \"#E5ECF6\", \"radialaxis\": {\"gridcolor\": \"white\", \"linecolor\": \"white\", \"ticks\": \"\"}}, \"scene\": {\"xaxis\": {\"backgroundcolor\": \"#E5ECF6\", \"gridcolor\": \"white\", \"gridwidth\": 2, \"linecolor\": \"white\", \"showbackground\": true, \"ticks\": \"\", \"zerolinecolor\": \"white\"}, \"yaxis\": {\"backgroundcolor\": \"#E5ECF6\", \"gridcolor\": \"white\", \"gridwidth\": 2, \"linecolor\": \"white\", \"showbackground\": true, \"ticks\": \"\", \"zerolinecolor\": \"white\"}, \"zaxis\": {\"backgroundcolor\": \"#E5ECF6\", \"gridcolor\": \"white\", \"gridwidth\": 2, \"linecolor\": \"white\", \"showbackground\": true, \"ticks\": \"\", \"zerolinecolor\": \"white\"}}, \"shapedefaults\": {\"line\": {\"color\": \"#2a3f5f\"}}, \"ternary\": {\"aaxis\": {\"gridcolor\": \"white\", \"linecolor\": \"white\", \"ticks\": \"\"}, \"baxis\": {\"gridcolor\": \"white\", \"linecolor\": \"white\", \"ticks\": \"\"}, \"bgcolor\": \"#E5ECF6\", \"caxis\": {\"gridcolor\": \"white\", \"linecolor\": \"white\", \"ticks\": \"\"}}, \"title\": {\"x\": 0.05}, \"xaxis\": {\"automargin\": true, \"gridcolor\": \"white\", \"linecolor\": \"white\", \"ticks\": \"\", \"zerolinecolor\": \"white\", \"zerolinewidth\": 2}, \"yaxis\": {\"automargin\": true, \"gridcolor\": \"white\", \"linecolor\": \"white\", \"ticks\": \"\", \"zerolinecolor\": \"white\", \"zerolinewidth\": 2}}}, \"width\": 900, \"xaxis\": {\"rangeselector\": {\"buttons\": [{\"count\": 7, \"label\": \"1w\", \"step\": \"day\", \"stepmode\": \"backward\"}, {\"count\": 1, \"label\": \"1m\", \"step\": \"month\", \"stepmode\": \"backward\"}, {\"count\": 6, \"label\": \"6m\", \"step\": \"month\", \"stepmode\": \"backward\"}, {\"count\": 1, \"label\": \"1y\", \"step\": \"year\", \"stepmode\": \"backward\"}, {\"step\": \"all\"}]}, \"rangeslider\": {\"visible\": true}, \"title\": {\"text\": \"ds\"}, \"type\": \"date\"}, \"yaxis\": {\"title\": {\"text\": \"y\"}}},\n",
       "                        {\"responsive\": true}\n",
       "                    ).then(function(){\n",
       "                            \n",
       "var gd = document.getElementById('bb949a8e-033f-4366-b24c-03f637d65406');\n",
       "var x = new MutationObserver(function (mutations, observer) {{\n",
       "        var display = window.getComputedStyle(gd).display;\n",
       "        if (!display || display === 'none') {{\n",
       "            console.log([gd, 'removed!']);\n",
       "            Plotly.purge(gd);\n",
       "            observer.disconnect();\n",
       "        }}\n",
       "}});\n",
       "\n",
       "// Listen for the removal of the full notebook cells\n",
       "var notebookContainer = gd.closest('#notebook-container');\n",
       "if (notebookContainer) {{\n",
       "    x.observe(notebookContainer, {childList: true});\n",
       "}}\n",
       "\n",
       "// Listen for the clearing of the current output cell\n",
       "var outputEl = gd.closest('.output');\n",
       "if (outputEl) {{\n",
       "    x.observe(outputEl, {childList: true});\n",
       "}}\n",
       "\n",
       "                        })\n",
       "                };\n",
       "                });\n",
       "            </script>\n",
       "        </div>"
      ]
     },
     "metadata": {},
     "output_type": "display_data"
    },
    {
     "data": {
      "text/plain": [
       "'nCov_ConfirmedCases.html'"
      ]
     },
     "execution_count": 12,
     "metadata": {},
     "output_type": "execute_result"
    }
   ],
   "source": [
    "fig = plot_plotly(prophetc, confirmed_forecast)  \n",
    "annotations = []\n",
    "annotations.append(dict(xref='paper', yref='paper', x=0, y=1.15,\n",
    "                              xanchor='left', yanchor='bottom',\n",
    "                              text='Forecast Confirmed Cases',\n",
    "                              font=dict(family='Arial', size=22,color='rgb(37,37,37)'),showarrow=False))\n",
    "fig.update_layout(annotations=annotations)\n",
    "fig.show()\n",
    "py.plot(fig, filename='nCov_ConfirmedCases.html')"
   ]
  },
  {
   "cell_type": "markdown",
   "metadata": {},
   "source": [
    "# Forecast-Deaths"
   ]
  },
  {
   "cell_type": "code",
   "execution_count": 11,
   "metadata": {},
   "outputs": [
    {
     "data": {
      "application/vnd.plotly.v1+json": {
       "config": {
        "plotlyServerURL": "https://plot.ly"
       },
       "data": [
        {
         "marker": {
          "color": "black",
          "size": 4
         },
         "mode": "markers",
         "name": "Actual",
         "type": "scatter",
         "x": [
          "2020-01-22T12:00:00",
          "2020-01-23T12:00:00",
          "2020-01-24T12:00:00",
          "2020-01-25T22:00:00",
          "2020-01-26T23:00:00",
          "2020-01-27T20:30:00",
          "2020-01-28T23:00:00",
          "2020-01-29T21:00:00",
          "2020-01-30T21:30:00",
          "2020-01-31T19:00:00",
          "2020-02-01T23:00:00",
          "2020-02-02T21:00:00",
          "2020-02-03T21:40:00",
          "2020-02-04T22:00:00",
          "2020-02-05T12:20:00",
          "2020-02-06T20:05:00",
          "2020-02-07T20:24:00",
          "2020-02-08T23:04:00",
          "2020-02-09T23:20:00",
          "2020-02-10T19:30:00",
          "2020-02-11T20:44:00",
          "2020-02-12T22:00:00",
          "2020-02-13T21:15:00",
          "2020-02-14T22:00:00",
          "2020-02-15T22:00:00"
         ],
         "y": [
          0,
          18,
          26,
          56,
          80,
          107,
          132,
          170,
          213,
          259,
          305,
          362,
          426,
          492,
          494,
          634,
          638,
          813,
          910,
          1013,
          1115,
          1368,
          1491,
          1523,
          1666
         ]
        },
        {
         "hoverinfo": "skip",
         "line": {
          "width": 0
         },
         "mode": "lines",
         "type": "scatter",
         "x": [
          "2020-01-22T12:00:00",
          "2020-01-23T12:00:00",
          "2020-01-24T12:00:00",
          "2020-01-25T22:00:00",
          "2020-01-26T23:00:00",
          "2020-01-27T20:30:00",
          "2020-01-28T23:00:00",
          "2020-01-29T21:00:00",
          "2020-01-30T21:30:00",
          "2020-01-31T19:00:00",
          "2020-02-01T23:00:00",
          "2020-02-02T21:00:00",
          "2020-02-03T21:40:00",
          "2020-02-04T22:00:00",
          "2020-02-05T12:20:00",
          "2020-02-06T20:05:00",
          "2020-02-07T20:24:00",
          "2020-02-08T23:04:00",
          "2020-02-09T23:20:00",
          "2020-02-10T19:30:00",
          "2020-02-11T20:44:00",
          "2020-02-12T22:00:00",
          "2020-02-13T21:15:00",
          "2020-02-14T22:00:00",
          "2020-02-15T22:00:00",
          "2020-02-16T22:00:00",
          "2020-02-17T22:00:00",
          "2020-02-18T22:00:00",
          "2020-02-19T22:00:00",
          "2020-02-20T22:00:00",
          "2020-02-21T22:00:00",
          "2020-02-22T22:00:00"
         ],
         "y": [
          -13.032411275404913,
          3.0755270949635483,
          12.215297467433526,
          42.83665848731612,
          66.39800620211966,
          93.06082487029641,
          119.24043670568848,
          155.57543028064845,
          202.66481176311115,
          243.30071731998328,
          291.93956489670694,
          349.09060551426205,
          417.63711891333696,
          462.48406228202265,
          490.5382514001948,
          621.0902763245119,
          624.3289002952399,
          795.8246425983839,
          904.0202343215661,
          995.9566349191168,
          1103.2015418495464,
          1362.0606852180777,
          1449.325233714217,
          1546.137605192832,
          1637.6556410076535,
          1712.7774542404084,
          1740.1881076388313,
          1740.2810786632635,
          1729.1936658014877,
          1703.1714812778212,
          1662.4496356578327,
          1591.8981775895677
         ]
        },
        {
         "fill": "tonexty",
         "fillcolor": "rgba(0, 114, 178, 0.2)",
         "line": {
          "color": "#0072B2",
          "width": 2
         },
         "mode": "lines",
         "name": "Predicted",
         "type": "scatter",
         "x": [
          "2020-01-22T12:00:00",
          "2020-01-23T12:00:00",
          "2020-01-24T12:00:00",
          "2020-01-25T22:00:00",
          "2020-01-26T23:00:00",
          "2020-01-27T20:30:00",
          "2020-01-28T23:00:00",
          "2020-01-29T21:00:00",
          "2020-01-30T21:30:00",
          "2020-01-31T19:00:00",
          "2020-02-01T23:00:00",
          "2020-02-02T21:00:00",
          "2020-02-03T21:40:00",
          "2020-02-04T22:00:00",
          "2020-02-05T12:20:00",
          "2020-02-06T20:05:00",
          "2020-02-07T20:24:00",
          "2020-02-08T23:04:00",
          "2020-02-09T23:20:00",
          "2020-02-10T19:30:00",
          "2020-02-11T20:44:00",
          "2020-02-12T22:00:00",
          "2020-02-13T21:15:00",
          "2020-02-14T22:00:00",
          "2020-02-15T22:00:00",
          "2020-02-16T22:00:00",
          "2020-02-17T22:00:00",
          "2020-02-18T22:00:00",
          "2020-02-19T22:00:00",
          "2020-02-20T22:00:00",
          "2020-02-21T22:00:00",
          "2020-02-22T22:00:00"
         ],
         "y": [
          0.0975275804356118,
          17.74085369004866,
          25.799687458716274,
          56.854106057826215,
          79.68823738070118,
          106.67315092532026,
          132.146372259416,
          168.7395399250905,
          215.87781339974833,
          257.2440533877134,
          305.1387228458166,
          362.1573857965549,
          431.34137747351025,
          476.8952131817971,
          503.728294489418,
          633.7182270047213,
          638.3050023465646,
          809.2105596987409,
          918.0287317868934,
          1008.4614160085039,
          1115.3073848110669,
          1374.3768241271987,
          1463.6988958966913,
          1558.783681973892,
          1650.9871108972388,
          1743.190539820585,
          1835.3939687439322,
          1927.5973976672788,
          2019.800826590625,
          2112.004255513971,
          2204.207684437318,
          2296.411113360665
         ]
        },
        {
         "fill": "tonexty",
         "fillcolor": "rgba(0, 114, 178, 0.2)",
         "hoverinfo": "skip",
         "line": {
          "width": 0
         },
         "mode": "lines",
         "type": "scatter",
         "x": [
          "2020-01-22T12:00:00",
          "2020-01-23T12:00:00",
          "2020-01-24T12:00:00",
          "2020-01-25T22:00:00",
          "2020-01-26T23:00:00",
          "2020-01-27T20:30:00",
          "2020-01-28T23:00:00",
          "2020-01-29T21:00:00",
          "2020-01-30T21:30:00",
          "2020-01-31T19:00:00",
          "2020-02-01T23:00:00",
          "2020-02-02T21:00:00",
          "2020-02-03T21:40:00",
          "2020-02-04T22:00:00",
          "2020-02-05T12:20:00",
          "2020-02-06T20:05:00",
          "2020-02-07T20:24:00",
          "2020-02-08T23:04:00",
          "2020-02-09T23:20:00",
          "2020-02-10T19:30:00",
          "2020-02-11T20:44:00",
          "2020-02-12T22:00:00",
          "2020-02-13T21:15:00",
          "2020-02-14T22:00:00",
          "2020-02-15T22:00:00",
          "2020-02-16T22:00:00",
          "2020-02-17T22:00:00",
          "2020-02-18T22:00:00",
          "2020-02-19T22:00:00",
          "2020-02-20T22:00:00",
          "2020-02-21T22:00:00",
          "2020-02-22T22:00:00"
         ],
         "y": [
          12.85818192345585,
          30.374167718356123,
          39.68885346474314,
          69.00858787100482,
          93.69590895577227,
          120.36677789156298,
          146.05707923796265,
          181.9751856639845,
          229.55981994870797,
          270.00318186748615,
          318.43342467922105,
          375.29878526439427,
          444.89999936233795,
          490.6516822721082,
          517.3377766790892,
          647.5211757336962,
          651.3985886469034,
          823.2931301384558,
          931.6241329874549,
          1022.1401045753432,
          1129.947469911237,
          1387.5016015567303,
          1476.887245765851,
          1572.4759763316072,
          1663.664384000531,
          1768.5121144302707,
          1920.9942773884015,
          2090.5417042033064,
          2290.8821032003907,
          2501.1270982829174,
          2739.8567987382494,
          2981.3308727495064
         ]
        }
       ],
       "layout": {
        "annotations": [
         {
          "font": {
           "color": "rgb(37,37,37)",
           "family": "Arial",
           "size": 22
          },
          "showarrow": false,
          "text": "Forecast - Deaths -",
          "x": 0,
          "xanchor": "left",
          "xref": "paper",
          "y": 1.25,
          "yanchor": "top",
          "yref": "paper"
         }
        ],
        "height": 600,
        "showlegend": false,
        "template": {
         "data": {
          "bar": [
           {
            "error_x": {
             "color": "#2a3f5f"
            },
            "error_y": {
             "color": "#2a3f5f"
            },
            "marker": {
             "line": {
              "color": "#E5ECF6",
              "width": 0.5
             }
            },
            "type": "bar"
           }
          ],
          "barpolar": [
           {
            "marker": {
             "line": {
              "color": "#E5ECF6",
              "width": 0.5
             }
            },
            "type": "barpolar"
           }
          ],
          "carpet": [
           {
            "aaxis": {
             "endlinecolor": "#2a3f5f",
             "gridcolor": "white",
             "linecolor": "white",
             "minorgridcolor": "white",
             "startlinecolor": "#2a3f5f"
            },
            "baxis": {
             "endlinecolor": "#2a3f5f",
             "gridcolor": "white",
             "linecolor": "white",
             "minorgridcolor": "white",
             "startlinecolor": "#2a3f5f"
            },
            "type": "carpet"
           }
          ],
          "choropleth": [
           {
            "colorbar": {
             "outlinewidth": 0,
             "ticks": ""
            },
            "type": "choropleth"
           }
          ],
          "contour": [
           {
            "colorbar": {
             "outlinewidth": 0,
             "ticks": ""
            },
            "colorscale": [
             [
              0,
              "#0d0887"
             ],
             [
              0.1111111111111111,
              "#46039f"
             ],
             [
              0.2222222222222222,
              "#7201a8"
             ],
             [
              0.3333333333333333,
              "#9c179e"
             ],
             [
              0.4444444444444444,
              "#bd3786"
             ],
             [
              0.5555555555555556,
              "#d8576b"
             ],
             [
              0.6666666666666666,
              "#ed7953"
             ],
             [
              0.7777777777777778,
              "#fb9f3a"
             ],
             [
              0.8888888888888888,
              "#fdca26"
             ],
             [
              1,
              "#f0f921"
             ]
            ],
            "type": "contour"
           }
          ],
          "contourcarpet": [
           {
            "colorbar": {
             "outlinewidth": 0,
             "ticks": ""
            },
            "type": "contourcarpet"
           }
          ],
          "heatmap": [
           {
            "colorbar": {
             "outlinewidth": 0,
             "ticks": ""
            },
            "colorscale": [
             [
              0,
              "#0d0887"
             ],
             [
              0.1111111111111111,
              "#46039f"
             ],
             [
              0.2222222222222222,
              "#7201a8"
             ],
             [
              0.3333333333333333,
              "#9c179e"
             ],
             [
              0.4444444444444444,
              "#bd3786"
             ],
             [
              0.5555555555555556,
              "#d8576b"
             ],
             [
              0.6666666666666666,
              "#ed7953"
             ],
             [
              0.7777777777777778,
              "#fb9f3a"
             ],
             [
              0.8888888888888888,
              "#fdca26"
             ],
             [
              1,
              "#f0f921"
             ]
            ],
            "type": "heatmap"
           }
          ],
          "heatmapgl": [
           {
            "colorbar": {
             "outlinewidth": 0,
             "ticks": ""
            },
            "colorscale": [
             [
              0,
              "#0d0887"
             ],
             [
              0.1111111111111111,
              "#46039f"
             ],
             [
              0.2222222222222222,
              "#7201a8"
             ],
             [
              0.3333333333333333,
              "#9c179e"
             ],
             [
              0.4444444444444444,
              "#bd3786"
             ],
             [
              0.5555555555555556,
              "#d8576b"
             ],
             [
              0.6666666666666666,
              "#ed7953"
             ],
             [
              0.7777777777777778,
              "#fb9f3a"
             ],
             [
              0.8888888888888888,
              "#fdca26"
             ],
             [
              1,
              "#f0f921"
             ]
            ],
            "type": "heatmapgl"
           }
          ],
          "histogram": [
           {
            "marker": {
             "colorbar": {
              "outlinewidth": 0,
              "ticks": ""
             }
            },
            "type": "histogram"
           }
          ],
          "histogram2d": [
           {
            "colorbar": {
             "outlinewidth": 0,
             "ticks": ""
            },
            "colorscale": [
             [
              0,
              "#0d0887"
             ],
             [
              0.1111111111111111,
              "#46039f"
             ],
             [
              0.2222222222222222,
              "#7201a8"
             ],
             [
              0.3333333333333333,
              "#9c179e"
             ],
             [
              0.4444444444444444,
              "#bd3786"
             ],
             [
              0.5555555555555556,
              "#d8576b"
             ],
             [
              0.6666666666666666,
              "#ed7953"
             ],
             [
              0.7777777777777778,
              "#fb9f3a"
             ],
             [
              0.8888888888888888,
              "#fdca26"
             ],
             [
              1,
              "#f0f921"
             ]
            ],
            "type": "histogram2d"
           }
          ],
          "histogram2dcontour": [
           {
            "colorbar": {
             "outlinewidth": 0,
             "ticks": ""
            },
            "colorscale": [
             [
              0,
              "#0d0887"
             ],
             [
              0.1111111111111111,
              "#46039f"
             ],
             [
              0.2222222222222222,
              "#7201a8"
             ],
             [
              0.3333333333333333,
              "#9c179e"
             ],
             [
              0.4444444444444444,
              "#bd3786"
             ],
             [
              0.5555555555555556,
              "#d8576b"
             ],
             [
              0.6666666666666666,
              "#ed7953"
             ],
             [
              0.7777777777777778,
              "#fb9f3a"
             ],
             [
              0.8888888888888888,
              "#fdca26"
             ],
             [
              1,
              "#f0f921"
             ]
            ],
            "type": "histogram2dcontour"
           }
          ],
          "mesh3d": [
           {
            "colorbar": {
             "outlinewidth": 0,
             "ticks": ""
            },
            "type": "mesh3d"
           }
          ],
          "parcoords": [
           {
            "line": {
             "colorbar": {
              "outlinewidth": 0,
              "ticks": ""
             }
            },
            "type": "parcoords"
           }
          ],
          "scatter": [
           {
            "marker": {
             "colorbar": {
              "outlinewidth": 0,
              "ticks": ""
             }
            },
            "type": "scatter"
           }
          ],
          "scatter3d": [
           {
            "line": {
             "colorbar": {
              "outlinewidth": 0,
              "ticks": ""
             }
            },
            "marker": {
             "colorbar": {
              "outlinewidth": 0,
              "ticks": ""
             }
            },
            "type": "scatter3d"
           }
          ],
          "scattercarpet": [
           {
            "marker": {
             "colorbar": {
              "outlinewidth": 0,
              "ticks": ""
             }
            },
            "type": "scattercarpet"
           }
          ],
          "scattergeo": [
           {
            "marker": {
             "colorbar": {
              "outlinewidth": 0,
              "ticks": ""
             }
            },
            "type": "scattergeo"
           }
          ],
          "scattergl": [
           {
            "marker": {
             "colorbar": {
              "outlinewidth": 0,
              "ticks": ""
             }
            },
            "type": "scattergl"
           }
          ],
          "scattermapbox": [
           {
            "marker": {
             "colorbar": {
              "outlinewidth": 0,
              "ticks": ""
             }
            },
            "type": "scattermapbox"
           }
          ],
          "scatterpolar": [
           {
            "marker": {
             "colorbar": {
              "outlinewidth": 0,
              "ticks": ""
             }
            },
            "type": "scatterpolar"
           }
          ],
          "scatterpolargl": [
           {
            "marker": {
             "colorbar": {
              "outlinewidth": 0,
              "ticks": ""
             }
            },
            "type": "scatterpolargl"
           }
          ],
          "scatterternary": [
           {
            "marker": {
             "colorbar": {
              "outlinewidth": 0,
              "ticks": ""
             }
            },
            "type": "scatterternary"
           }
          ],
          "surface": [
           {
            "colorbar": {
             "outlinewidth": 0,
             "ticks": ""
            },
            "colorscale": [
             [
              0,
              "#0d0887"
             ],
             [
              0.1111111111111111,
              "#46039f"
             ],
             [
              0.2222222222222222,
              "#7201a8"
             ],
             [
              0.3333333333333333,
              "#9c179e"
             ],
             [
              0.4444444444444444,
              "#bd3786"
             ],
             [
              0.5555555555555556,
              "#d8576b"
             ],
             [
              0.6666666666666666,
              "#ed7953"
             ],
             [
              0.7777777777777778,
              "#fb9f3a"
             ],
             [
              0.8888888888888888,
              "#fdca26"
             ],
             [
              1,
              "#f0f921"
             ]
            ],
            "type": "surface"
           }
          ],
          "table": [
           {
            "cells": {
             "fill": {
              "color": "#EBF0F8"
             },
             "line": {
              "color": "white"
             }
            },
            "header": {
             "fill": {
              "color": "#C8D4E3"
             },
             "line": {
              "color": "white"
             }
            },
            "type": "table"
           }
          ]
         },
         "layout": {
          "annotationdefaults": {
           "arrowcolor": "#2a3f5f",
           "arrowhead": 0,
           "arrowwidth": 1
          },
          "colorscale": {
           "diverging": [
            [
             0,
             "#8e0152"
            ],
            [
             0.1,
             "#c51b7d"
            ],
            [
             0.2,
             "#de77ae"
            ],
            [
             0.3,
             "#f1b6da"
            ],
            [
             0.4,
             "#fde0ef"
            ],
            [
             0.5,
             "#f7f7f7"
            ],
            [
             0.6,
             "#e6f5d0"
            ],
            [
             0.7,
             "#b8e186"
            ],
            [
             0.8,
             "#7fbc41"
            ],
            [
             0.9,
             "#4d9221"
            ],
            [
             1,
             "#276419"
            ]
           ],
           "sequential": [
            [
             0,
             "#0d0887"
            ],
            [
             0.1111111111111111,
             "#46039f"
            ],
            [
             0.2222222222222222,
             "#7201a8"
            ],
            [
             0.3333333333333333,
             "#9c179e"
            ],
            [
             0.4444444444444444,
             "#bd3786"
            ],
            [
             0.5555555555555556,
             "#d8576b"
            ],
            [
             0.6666666666666666,
             "#ed7953"
            ],
            [
             0.7777777777777778,
             "#fb9f3a"
            ],
            [
             0.8888888888888888,
             "#fdca26"
            ],
            [
             1,
             "#f0f921"
            ]
           ],
           "sequentialminus": [
            [
             0,
             "#0d0887"
            ],
            [
             0.1111111111111111,
             "#46039f"
            ],
            [
             0.2222222222222222,
             "#7201a8"
            ],
            [
             0.3333333333333333,
             "#9c179e"
            ],
            [
             0.4444444444444444,
             "#bd3786"
            ],
            [
             0.5555555555555556,
             "#d8576b"
            ],
            [
             0.6666666666666666,
             "#ed7953"
            ],
            [
             0.7777777777777778,
             "#fb9f3a"
            ],
            [
             0.8888888888888888,
             "#fdca26"
            ],
            [
             1,
             "#f0f921"
            ]
           ]
          },
          "colorway": [
           "#636efa",
           "#EF553B",
           "#00cc96",
           "#ab63fa",
           "#FFA15A",
           "#19d3f3",
           "#FF6692",
           "#B6E880",
           "#FF97FF",
           "#FECB52"
          ],
          "font": {
           "color": "#2a3f5f"
          },
          "geo": {
           "bgcolor": "white",
           "lakecolor": "white",
           "landcolor": "#E5ECF6",
           "showlakes": true,
           "showland": true,
           "subunitcolor": "white"
          },
          "hoverlabel": {
           "align": "left"
          },
          "hovermode": "closest",
          "mapbox": {
           "style": "light"
          },
          "paper_bgcolor": "white",
          "plot_bgcolor": "#E5ECF6",
          "polar": {
           "angularaxis": {
            "gridcolor": "white",
            "linecolor": "white",
            "ticks": ""
           },
           "bgcolor": "#E5ECF6",
           "radialaxis": {
            "gridcolor": "white",
            "linecolor": "white",
            "ticks": ""
           }
          },
          "scene": {
           "xaxis": {
            "backgroundcolor": "#E5ECF6",
            "gridcolor": "white",
            "gridwidth": 2,
            "linecolor": "white",
            "showbackground": true,
            "ticks": "",
            "zerolinecolor": "white"
           },
           "yaxis": {
            "backgroundcolor": "#E5ECF6",
            "gridcolor": "white",
            "gridwidth": 2,
            "linecolor": "white",
            "showbackground": true,
            "ticks": "",
            "zerolinecolor": "white"
           },
           "zaxis": {
            "backgroundcolor": "#E5ECF6",
            "gridcolor": "white",
            "gridwidth": 2,
            "linecolor": "white",
            "showbackground": true,
            "ticks": "",
            "zerolinecolor": "white"
           }
          },
          "shapedefaults": {
           "line": {
            "color": "#2a3f5f"
           }
          },
          "ternary": {
           "aaxis": {
            "gridcolor": "white",
            "linecolor": "white",
            "ticks": ""
           },
           "baxis": {
            "gridcolor": "white",
            "linecolor": "white",
            "ticks": ""
           },
           "bgcolor": "#E5ECF6",
           "caxis": {
            "gridcolor": "white",
            "linecolor": "white",
            "ticks": ""
           }
          },
          "title": {
           "x": 0.05
          },
          "xaxis": {
           "automargin": true,
           "gridcolor": "white",
           "linecolor": "white",
           "ticks": "",
           "zerolinecolor": "white",
           "zerolinewidth": 2
          },
          "yaxis": {
           "automargin": true,
           "gridcolor": "white",
           "linecolor": "white",
           "ticks": "",
           "zerolinecolor": "white",
           "zerolinewidth": 2
          }
         }
        },
        "width": 900,
        "xaxis": {
         "rangeselector": {
          "buttons": [
           {
            "count": 7,
            "label": "1w",
            "step": "day",
            "stepmode": "backward"
           },
           {
            "count": 1,
            "label": "1m",
            "step": "month",
            "stepmode": "backward"
           },
           {
            "count": 6,
            "label": "6m",
            "step": "month",
            "stepmode": "backward"
           },
           {
            "count": 1,
            "label": "1y",
            "step": "year",
            "stepmode": "backward"
           },
           {
            "step": "all"
           }
          ]
         },
         "rangeslider": {
          "visible": true
         },
         "title": {
          "text": "ds"
         },
         "type": "date"
        },
        "yaxis": {
         "title": {
          "text": "y"
         }
        }
       }
      },
      "text/html": [
       "<div>\n",
       "        \n",
       "        \n",
       "            <div id=\"ef34ba79-6639-4c33-b3bf-91252979f8a6\" class=\"plotly-graph-div\" style=\"height:600px; width:900px;\"></div>\n",
       "            <script type=\"text/javascript\">\n",
       "                require([\"plotly\"], function(Plotly) {\n",
       "                    window.PLOTLYENV=window.PLOTLYENV || {};\n",
       "                    \n",
       "                if (document.getElementById(\"ef34ba79-6639-4c33-b3bf-91252979f8a6\")) {\n",
       "                    Plotly.newPlot(\n",
       "                        'ef34ba79-6639-4c33-b3bf-91252979f8a6',\n",
       "                        [{\"marker\": {\"color\": \"black\", \"size\": 4}, \"mode\": \"markers\", \"name\": \"Actual\", \"type\": \"scatter\", \"x\": [\"2020-01-22T12:00:00\", \"2020-01-23T12:00:00\", \"2020-01-24T12:00:00\", \"2020-01-25T22:00:00\", \"2020-01-26T23:00:00\", \"2020-01-27T20:30:00\", \"2020-01-28T23:00:00\", \"2020-01-29T21:00:00\", \"2020-01-30T21:30:00\", \"2020-01-31T19:00:00\", \"2020-02-01T23:00:00\", \"2020-02-02T21:00:00\", \"2020-02-03T21:40:00\", \"2020-02-04T22:00:00\", \"2020-02-05T12:20:00\", \"2020-02-06T20:05:00\", \"2020-02-07T20:24:00\", \"2020-02-08T23:04:00\", \"2020-02-09T23:20:00\", \"2020-02-10T19:30:00\", \"2020-02-11T20:44:00\", \"2020-02-12T22:00:00\", \"2020-02-13T21:15:00\", \"2020-02-14T22:00:00\", \"2020-02-15T22:00:00\"], \"y\": [0.0, 18.0, 26.0, 56.0, 80.0, 107.0, 132.0, 170.0, 213.0, 259.0, 305.0, 362.0, 426.0, 492.0, 494.0, 634.0, 638.0, 813.0, 910.0, 1013.0, 1115.0, 1368.0, 1491.0, 1523.0, 1666.0]}, {\"hoverinfo\": \"skip\", \"line\": {\"width\": 0}, \"mode\": \"lines\", \"type\": \"scatter\", \"x\": [\"2020-01-22T12:00:00\", \"2020-01-23T12:00:00\", \"2020-01-24T12:00:00\", \"2020-01-25T22:00:00\", \"2020-01-26T23:00:00\", \"2020-01-27T20:30:00\", \"2020-01-28T23:00:00\", \"2020-01-29T21:00:00\", \"2020-01-30T21:30:00\", \"2020-01-31T19:00:00\", \"2020-02-01T23:00:00\", \"2020-02-02T21:00:00\", \"2020-02-03T21:40:00\", \"2020-02-04T22:00:00\", \"2020-02-05T12:20:00\", \"2020-02-06T20:05:00\", \"2020-02-07T20:24:00\", \"2020-02-08T23:04:00\", \"2020-02-09T23:20:00\", \"2020-02-10T19:30:00\", \"2020-02-11T20:44:00\", \"2020-02-12T22:00:00\", \"2020-02-13T21:15:00\", \"2020-02-14T22:00:00\", \"2020-02-15T22:00:00\", \"2020-02-16T22:00:00\", \"2020-02-17T22:00:00\", \"2020-02-18T22:00:00\", \"2020-02-19T22:00:00\", \"2020-02-20T22:00:00\", \"2020-02-21T22:00:00\", \"2020-02-22T22:00:00\"], \"y\": [-13.032411275404913, 3.0755270949635483, 12.215297467433526, 42.83665848731612, 66.39800620211966, 93.06082487029641, 119.24043670568848, 155.57543028064845, 202.66481176311115, 243.30071731998328, 291.93956489670694, 349.09060551426205, 417.63711891333696, 462.48406228202265, 490.5382514001948, 621.0902763245119, 624.3289002952399, 795.8246425983839, 904.0202343215661, 995.9566349191168, 1103.2015418495464, 1362.0606852180777, 1449.325233714217, 1546.137605192832, 1637.6556410076535, 1712.7774542404084, 1740.1881076388313, 1740.2810786632635, 1729.1936658014877, 1703.1714812778212, 1662.4496356578327, 1591.8981775895677]}, {\"fill\": \"tonexty\", \"fillcolor\": \"rgba(0, 114, 178, 0.2)\", \"line\": {\"color\": \"#0072B2\", \"width\": 2}, \"mode\": \"lines\", \"name\": \"Predicted\", \"type\": \"scatter\", \"x\": [\"2020-01-22T12:00:00\", \"2020-01-23T12:00:00\", \"2020-01-24T12:00:00\", \"2020-01-25T22:00:00\", \"2020-01-26T23:00:00\", \"2020-01-27T20:30:00\", \"2020-01-28T23:00:00\", \"2020-01-29T21:00:00\", \"2020-01-30T21:30:00\", \"2020-01-31T19:00:00\", \"2020-02-01T23:00:00\", \"2020-02-02T21:00:00\", \"2020-02-03T21:40:00\", \"2020-02-04T22:00:00\", \"2020-02-05T12:20:00\", \"2020-02-06T20:05:00\", \"2020-02-07T20:24:00\", \"2020-02-08T23:04:00\", \"2020-02-09T23:20:00\", \"2020-02-10T19:30:00\", \"2020-02-11T20:44:00\", \"2020-02-12T22:00:00\", \"2020-02-13T21:15:00\", \"2020-02-14T22:00:00\", \"2020-02-15T22:00:00\", \"2020-02-16T22:00:00\", \"2020-02-17T22:00:00\", \"2020-02-18T22:00:00\", \"2020-02-19T22:00:00\", \"2020-02-20T22:00:00\", \"2020-02-21T22:00:00\", \"2020-02-22T22:00:00\"], \"y\": [0.0975275804356118, 17.74085369004866, 25.799687458716274, 56.854106057826215, 79.68823738070118, 106.67315092532026, 132.146372259416, 168.7395399250905, 215.87781339974833, 257.2440533877134, 305.1387228458166, 362.1573857965549, 431.34137747351025, 476.8952131817971, 503.728294489418, 633.7182270047213, 638.3050023465646, 809.2105596987409, 918.0287317868934, 1008.4614160085039, 1115.3073848110669, 1374.3768241271987, 1463.6988958966913, 1558.783681973892, 1650.9871108972388, 1743.190539820585, 1835.3939687439322, 1927.5973976672788, 2019.800826590625, 2112.004255513971, 2204.207684437318, 2296.411113360665]}, {\"fill\": \"tonexty\", \"fillcolor\": \"rgba(0, 114, 178, 0.2)\", \"hoverinfo\": \"skip\", \"line\": {\"width\": 0}, \"mode\": \"lines\", \"type\": \"scatter\", \"x\": [\"2020-01-22T12:00:00\", \"2020-01-23T12:00:00\", \"2020-01-24T12:00:00\", \"2020-01-25T22:00:00\", \"2020-01-26T23:00:00\", \"2020-01-27T20:30:00\", \"2020-01-28T23:00:00\", \"2020-01-29T21:00:00\", \"2020-01-30T21:30:00\", \"2020-01-31T19:00:00\", \"2020-02-01T23:00:00\", \"2020-02-02T21:00:00\", \"2020-02-03T21:40:00\", \"2020-02-04T22:00:00\", \"2020-02-05T12:20:00\", \"2020-02-06T20:05:00\", \"2020-02-07T20:24:00\", \"2020-02-08T23:04:00\", \"2020-02-09T23:20:00\", \"2020-02-10T19:30:00\", \"2020-02-11T20:44:00\", \"2020-02-12T22:00:00\", \"2020-02-13T21:15:00\", \"2020-02-14T22:00:00\", \"2020-02-15T22:00:00\", \"2020-02-16T22:00:00\", \"2020-02-17T22:00:00\", \"2020-02-18T22:00:00\", \"2020-02-19T22:00:00\", \"2020-02-20T22:00:00\", \"2020-02-21T22:00:00\", \"2020-02-22T22:00:00\"], \"y\": [12.85818192345585, 30.374167718356123, 39.68885346474314, 69.00858787100482, 93.69590895577227, 120.36677789156298, 146.05707923796265, 181.9751856639845, 229.55981994870797, 270.00318186748615, 318.43342467922105, 375.29878526439427, 444.89999936233795, 490.6516822721082, 517.3377766790892, 647.5211757336962, 651.3985886469034, 823.2931301384558, 931.6241329874549, 1022.1401045753432, 1129.947469911237, 1387.5016015567303, 1476.887245765851, 1572.4759763316072, 1663.664384000531, 1768.5121144302707, 1920.9942773884015, 2090.5417042033064, 2290.8821032003907, 2501.1270982829174, 2739.8567987382494, 2981.3308727495064]}],\n",
       "                        {\"annotations\": [{\"font\": {\"color\": \"rgb(37,37,37)\", \"family\": \"Arial\", \"size\": 22}, \"showarrow\": false, \"text\": \"Forecast - Deaths -\", \"x\": 0, \"xanchor\": \"left\", \"xref\": \"paper\", \"y\": 1.25, \"yanchor\": \"top\", \"yref\": \"paper\"}], \"height\": 600, \"showlegend\": false, \"template\": {\"data\": {\"bar\": [{\"error_x\": {\"color\": \"#2a3f5f\"}, \"error_y\": {\"color\": \"#2a3f5f\"}, \"marker\": {\"line\": {\"color\": \"#E5ECF6\", \"width\": 0.5}}, \"type\": \"bar\"}], \"barpolar\": [{\"marker\": {\"line\": {\"color\": \"#E5ECF6\", \"width\": 0.5}}, \"type\": \"barpolar\"}], \"carpet\": [{\"aaxis\": {\"endlinecolor\": \"#2a3f5f\", \"gridcolor\": \"white\", \"linecolor\": \"white\", \"minorgridcolor\": \"white\", \"startlinecolor\": \"#2a3f5f\"}, \"baxis\": {\"endlinecolor\": \"#2a3f5f\", \"gridcolor\": \"white\", \"linecolor\": \"white\", \"minorgridcolor\": \"white\", \"startlinecolor\": \"#2a3f5f\"}, \"type\": \"carpet\"}], \"choropleth\": [{\"colorbar\": {\"outlinewidth\": 0, \"ticks\": \"\"}, \"type\": \"choropleth\"}], \"contour\": [{\"colorbar\": {\"outlinewidth\": 0, \"ticks\": \"\"}, \"colorscale\": [[0.0, \"#0d0887\"], [0.1111111111111111, \"#46039f\"], [0.2222222222222222, \"#7201a8\"], [0.3333333333333333, \"#9c179e\"], [0.4444444444444444, \"#bd3786\"], [0.5555555555555556, \"#d8576b\"], [0.6666666666666666, \"#ed7953\"], [0.7777777777777778, \"#fb9f3a\"], [0.8888888888888888, \"#fdca26\"], [1.0, \"#f0f921\"]], \"type\": \"contour\"}], \"contourcarpet\": [{\"colorbar\": {\"outlinewidth\": 0, \"ticks\": \"\"}, \"type\": \"contourcarpet\"}], \"heatmap\": [{\"colorbar\": {\"outlinewidth\": 0, \"ticks\": \"\"}, \"colorscale\": [[0.0, \"#0d0887\"], [0.1111111111111111, \"#46039f\"], [0.2222222222222222, \"#7201a8\"], [0.3333333333333333, \"#9c179e\"], [0.4444444444444444, \"#bd3786\"], [0.5555555555555556, \"#d8576b\"], [0.6666666666666666, \"#ed7953\"], [0.7777777777777778, \"#fb9f3a\"], [0.8888888888888888, \"#fdca26\"], [1.0, \"#f0f921\"]], \"type\": \"heatmap\"}], \"heatmapgl\": [{\"colorbar\": {\"outlinewidth\": 0, \"ticks\": \"\"}, \"colorscale\": [[0.0, \"#0d0887\"], [0.1111111111111111, \"#46039f\"], [0.2222222222222222, \"#7201a8\"], [0.3333333333333333, \"#9c179e\"], [0.4444444444444444, \"#bd3786\"], [0.5555555555555556, \"#d8576b\"], [0.6666666666666666, \"#ed7953\"], [0.7777777777777778, \"#fb9f3a\"], [0.8888888888888888, \"#fdca26\"], [1.0, \"#f0f921\"]], \"type\": \"heatmapgl\"}], \"histogram\": [{\"marker\": {\"colorbar\": {\"outlinewidth\": 0, \"ticks\": \"\"}}, \"type\": \"histogram\"}], \"histogram2d\": [{\"colorbar\": {\"outlinewidth\": 0, \"ticks\": \"\"}, \"colorscale\": [[0.0, \"#0d0887\"], [0.1111111111111111, \"#46039f\"], [0.2222222222222222, \"#7201a8\"], [0.3333333333333333, \"#9c179e\"], [0.4444444444444444, \"#bd3786\"], [0.5555555555555556, \"#d8576b\"], [0.6666666666666666, \"#ed7953\"], [0.7777777777777778, \"#fb9f3a\"], [0.8888888888888888, \"#fdca26\"], [1.0, \"#f0f921\"]], \"type\": \"histogram2d\"}], \"histogram2dcontour\": [{\"colorbar\": {\"outlinewidth\": 0, \"ticks\": \"\"}, \"colorscale\": [[0.0, \"#0d0887\"], [0.1111111111111111, \"#46039f\"], [0.2222222222222222, \"#7201a8\"], [0.3333333333333333, \"#9c179e\"], [0.4444444444444444, \"#bd3786\"], [0.5555555555555556, \"#d8576b\"], [0.6666666666666666, \"#ed7953\"], [0.7777777777777778, \"#fb9f3a\"], [0.8888888888888888, \"#fdca26\"], [1.0, \"#f0f921\"]], \"type\": \"histogram2dcontour\"}], \"mesh3d\": [{\"colorbar\": {\"outlinewidth\": 0, \"ticks\": \"\"}, \"type\": \"mesh3d\"}], \"parcoords\": [{\"line\": {\"colorbar\": {\"outlinewidth\": 0, \"ticks\": \"\"}}, \"type\": \"parcoords\"}], \"scatter\": [{\"marker\": {\"colorbar\": {\"outlinewidth\": 0, \"ticks\": \"\"}}, \"type\": \"scatter\"}], \"scatter3d\": [{\"line\": {\"colorbar\": {\"outlinewidth\": 0, \"ticks\": \"\"}}, \"marker\": {\"colorbar\": {\"outlinewidth\": 0, \"ticks\": \"\"}}, \"type\": \"scatter3d\"}], \"scattercarpet\": [{\"marker\": {\"colorbar\": {\"outlinewidth\": 0, \"ticks\": \"\"}}, \"type\": \"scattercarpet\"}], \"scattergeo\": [{\"marker\": {\"colorbar\": {\"outlinewidth\": 0, \"ticks\": \"\"}}, \"type\": \"scattergeo\"}], \"scattergl\": [{\"marker\": {\"colorbar\": {\"outlinewidth\": 0, \"ticks\": \"\"}}, \"type\": \"scattergl\"}], \"scattermapbox\": [{\"marker\": {\"colorbar\": {\"outlinewidth\": 0, \"ticks\": \"\"}}, \"type\": \"scattermapbox\"}], \"scatterpolar\": [{\"marker\": {\"colorbar\": {\"outlinewidth\": 0, \"ticks\": \"\"}}, \"type\": \"scatterpolar\"}], \"scatterpolargl\": [{\"marker\": {\"colorbar\": {\"outlinewidth\": 0, \"ticks\": \"\"}}, \"type\": \"scatterpolargl\"}], \"scatterternary\": [{\"marker\": {\"colorbar\": {\"outlinewidth\": 0, \"ticks\": \"\"}}, \"type\": \"scatterternary\"}], \"surface\": [{\"colorbar\": {\"outlinewidth\": 0, \"ticks\": \"\"}, \"colorscale\": [[0.0, \"#0d0887\"], [0.1111111111111111, \"#46039f\"], [0.2222222222222222, \"#7201a8\"], [0.3333333333333333, \"#9c179e\"], [0.4444444444444444, \"#bd3786\"], [0.5555555555555556, \"#d8576b\"], [0.6666666666666666, \"#ed7953\"], [0.7777777777777778, \"#fb9f3a\"], [0.8888888888888888, \"#fdca26\"], [1.0, \"#f0f921\"]], \"type\": \"surface\"}], \"table\": [{\"cells\": {\"fill\": {\"color\": \"#EBF0F8\"}, \"line\": {\"color\": \"white\"}}, \"header\": {\"fill\": {\"color\": \"#C8D4E3\"}, \"line\": {\"color\": \"white\"}}, \"type\": \"table\"}]}, \"layout\": {\"annotationdefaults\": {\"arrowcolor\": \"#2a3f5f\", \"arrowhead\": 0, \"arrowwidth\": 1}, \"colorscale\": {\"diverging\": [[0, \"#8e0152\"], [0.1, \"#c51b7d\"], [0.2, \"#de77ae\"], [0.3, \"#f1b6da\"], [0.4, \"#fde0ef\"], [0.5, \"#f7f7f7\"], [0.6, \"#e6f5d0\"], [0.7, \"#b8e186\"], [0.8, \"#7fbc41\"], [0.9, \"#4d9221\"], [1, \"#276419\"]], \"sequential\": [[0.0, \"#0d0887\"], [0.1111111111111111, \"#46039f\"], [0.2222222222222222, \"#7201a8\"], [0.3333333333333333, \"#9c179e\"], [0.4444444444444444, \"#bd3786\"], [0.5555555555555556, \"#d8576b\"], [0.6666666666666666, \"#ed7953\"], [0.7777777777777778, \"#fb9f3a\"], [0.8888888888888888, \"#fdca26\"], [1.0, \"#f0f921\"]], \"sequentialminus\": [[0.0, \"#0d0887\"], [0.1111111111111111, \"#46039f\"], [0.2222222222222222, \"#7201a8\"], [0.3333333333333333, \"#9c179e\"], [0.4444444444444444, \"#bd3786\"], [0.5555555555555556, \"#d8576b\"], [0.6666666666666666, \"#ed7953\"], [0.7777777777777778, \"#fb9f3a\"], [0.8888888888888888, \"#fdca26\"], [1.0, \"#f0f921\"]]}, \"colorway\": [\"#636efa\", \"#EF553B\", \"#00cc96\", \"#ab63fa\", \"#FFA15A\", \"#19d3f3\", \"#FF6692\", \"#B6E880\", \"#FF97FF\", \"#FECB52\"], \"font\": {\"color\": \"#2a3f5f\"}, \"geo\": {\"bgcolor\": \"white\", \"lakecolor\": \"white\", \"landcolor\": \"#E5ECF6\", \"showlakes\": true, \"showland\": true, \"subunitcolor\": \"white\"}, \"hoverlabel\": {\"align\": \"left\"}, \"hovermode\": \"closest\", \"mapbox\": {\"style\": \"light\"}, \"paper_bgcolor\": \"white\", \"plot_bgcolor\": \"#E5ECF6\", \"polar\": {\"angularaxis\": {\"gridcolor\": \"white\", \"linecolor\": \"white\", \"ticks\": \"\"}, \"bgcolor\": \"#E5ECF6\", \"radialaxis\": {\"gridcolor\": \"white\", \"linecolor\": \"white\", \"ticks\": \"\"}}, \"scene\": {\"xaxis\": {\"backgroundcolor\": \"#E5ECF6\", \"gridcolor\": \"white\", \"gridwidth\": 2, \"linecolor\": \"white\", \"showbackground\": true, \"ticks\": \"\", \"zerolinecolor\": \"white\"}, \"yaxis\": {\"backgroundcolor\": \"#E5ECF6\", \"gridcolor\": \"white\", \"gridwidth\": 2, \"linecolor\": \"white\", \"showbackground\": true, \"ticks\": \"\", \"zerolinecolor\": \"white\"}, \"zaxis\": {\"backgroundcolor\": \"#E5ECF6\", \"gridcolor\": \"white\", \"gridwidth\": 2, \"linecolor\": \"white\", \"showbackground\": true, \"ticks\": \"\", \"zerolinecolor\": \"white\"}}, \"shapedefaults\": {\"line\": {\"color\": \"#2a3f5f\"}}, \"ternary\": {\"aaxis\": {\"gridcolor\": \"white\", \"linecolor\": \"white\", \"ticks\": \"\"}, \"baxis\": {\"gridcolor\": \"white\", \"linecolor\": \"white\", \"ticks\": \"\"}, \"bgcolor\": \"#E5ECF6\", \"caxis\": {\"gridcolor\": \"white\", \"linecolor\": \"white\", \"ticks\": \"\"}}, \"title\": {\"x\": 0.05}, \"xaxis\": {\"automargin\": true, \"gridcolor\": \"white\", \"linecolor\": \"white\", \"ticks\": \"\", \"zerolinecolor\": \"white\", \"zerolinewidth\": 2}, \"yaxis\": {\"automargin\": true, \"gridcolor\": \"white\", \"linecolor\": \"white\", \"ticks\": \"\", \"zerolinecolor\": \"white\", \"zerolinewidth\": 2}}}, \"width\": 900, \"xaxis\": {\"rangeselector\": {\"buttons\": [{\"count\": 7, \"label\": \"1w\", \"step\": \"day\", \"stepmode\": \"backward\"}, {\"count\": 1, \"label\": \"1m\", \"step\": \"month\", \"stepmode\": \"backward\"}, {\"count\": 6, \"label\": \"6m\", \"step\": \"month\", \"stepmode\": \"backward\"}, {\"count\": 1, \"label\": \"1y\", \"step\": \"year\", \"stepmode\": \"backward\"}, {\"step\": \"all\"}]}, \"rangeslider\": {\"visible\": true}, \"title\": {\"text\": \"ds\"}, \"type\": \"date\"}, \"yaxis\": {\"title\": {\"text\": \"y\"}}},\n",
       "                        {\"responsive\": true}\n",
       "                    ).then(function(){\n",
       "                            \n",
       "var gd = document.getElementById('ef34ba79-6639-4c33-b3bf-91252979f8a6');\n",
       "var x = new MutationObserver(function (mutations, observer) {{\n",
       "        var display = window.getComputedStyle(gd).display;\n",
       "        if (!display || display === 'none') {{\n",
       "            console.log([gd, 'removed!']);\n",
       "            Plotly.purge(gd);\n",
       "            observer.disconnect();\n",
       "        }}\n",
       "}});\n",
       "\n",
       "// Listen for the removal of the full notebook cells\n",
       "var notebookContainer = gd.closest('#notebook-container');\n",
       "if (notebookContainer) {{\n",
       "    x.observe(notebookContainer, {childList: true});\n",
       "}}\n",
       "\n",
       "// Listen for the clearing of the current output cell\n",
       "var outputEl = gd.closest('.output');\n",
       "if (outputEl) {{\n",
       "    x.observe(outputEl, {childList: true});\n",
       "}}\n",
       "\n",
       "                        })\n",
       "                };\n",
       "                });\n",
       "            </script>\n",
       "        </div>"
      ]
     },
     "metadata": {},
     "output_type": "display_data"
    },
    {
     "data": {
      "text/plain": [
       "'nCov_death_forcast.html'"
      ]
     },
     "execution_count": 11,
     "metadata": {},
     "output_type": "execute_result"
    }
   ],
   "source": [
    "fig = plot_plotly(prophetd, deaths_forecast)  \n",
    "annotations = []\n",
    "annotations.append(dict(xref='paper', yref='paper', x=0, y=1.25,\n",
    "                              xanchor='left', yanchor='top',\n",
    "                              text='Forecast - Deaths -',\n",
    "                              font=dict(family='Arial', size=22,color='rgb(37,37,37)'),showarrow=False))\n",
    "fig.update_layout(annotations=annotations)\n",
    "fig.show()\n",
    "py.plot(fig, filename='nCov_death_forecast.html')"
   ]
  },
  {
   "cell_type": "code",
   "execution_count": null,
   "metadata": {},
   "outputs": [],
   "source": []
  },
  {
   "cell_type": "markdown",
   "metadata": {},
   "source": [
    "## 5. Model Accuracy."
   ]
  },
  {
   "cell_type": "code",
   "execution_count": 77,
   "metadata": {},
   "outputs": [],
   "source": [
    "#Mean Absolute Percentage Error.\n",
    "def mape(y_true, y_pred): \n",
    "    \"\"\"The mean absolute percentage error (MAPE), \n",
    "    also known as mean absolute percentage deviation (MAPD), \n",
    "    is a measure of prediction accuracy of a forecasting method in statistics\"\"\"\n",
    "    y_true, y_pred = np.array(y_true), np.array(y_pred)\n",
    "    return np.mean(np.abs((y_true - y_pred) / y_true)) * 100"
   ]
  },
  {
   "cell_type": "code",
   "execution_count": 78,
   "metadata": {},
   "outputs": [
    {
     "ename": "NameError",
     "evalue": "name 'df_prophet' is not defined",
     "output_type": "error",
     "traceback": [
      "\u001b[1;31m---------------------------------------------------------------------------\u001b[0m",
      "\u001b[1;31mNameError\u001b[0m                                 Traceback (most recent call last)",
      "\u001b[1;32m<ipython-input-78-258b66b92ee3>\u001b[0m in \u001b[0;36m<module>\u001b[1;34m\u001b[0m\n\u001b[1;32m----> 1\u001b[1;33m \u001b[0my_true_death\u001b[0m \u001b[1;33m=\u001b[0m \u001b[0mdf_prophet\u001b[0m\u001b[1;33m.\u001b[0m\u001b[0my\u001b[0m\u001b[1;33m.\u001b[0m\u001b[0mvalues\u001b[0m\u001b[1;33m\u001b[0m\u001b[1;33m\u001b[0m\u001b[0m\n\u001b[0m\u001b[0;32m      2\u001b[0m \u001b[0my_pred_daily\u001b[0m \u001b[1;33m=\u001b[0m \u001b[0mfcst_daily\u001b[0m\u001b[1;33m.\u001b[0m\u001b[0mloc\u001b[0m\u001b[1;33m[\u001b[0m\u001b[0mfcst_daily\u001b[0m\u001b[1;33m[\u001b[0m\u001b[1;34m'ds'\u001b[0m\u001b[1;33m]\u001b[0m \u001b[1;33m<=\u001b[0m \u001b[0mmax_date\u001b[0m\u001b[1;33m]\u001b[0m\u001b[1;33m.\u001b[0m\u001b[0myhat\u001b[0m\u001b[1;33m.\u001b[0m\u001b[0mvalues\u001b[0m\u001b[1;33m\u001b[0m\u001b[1;33m\u001b[0m\u001b[0m\n\u001b[0;32m      3\u001b[0m \u001b[0my_pred_no_daily\u001b[0m \u001b[1;33m=\u001b[0m \u001b[0mfcst_no_daily\u001b[0m\u001b[1;33m.\u001b[0m\u001b[0mloc\u001b[0m\u001b[1;33m[\u001b[0m\u001b[0mfcst_no_daily\u001b[0m\u001b[1;33m[\u001b[0m\u001b[1;34m'ds'\u001b[0m\u001b[1;33m]\u001b[0m \u001b[1;33m<=\u001b[0m \u001b[0mmax_date\u001b[0m\u001b[1;33m]\u001b[0m\u001b[1;33m.\u001b[0m\u001b[0myhat\u001b[0m\u001b[1;33m.\u001b[0m\u001b[0mvalues\u001b[0m\u001b[1;33m\u001b[0m\u001b[1;33m\u001b[0m\u001b[0m\n",
      "\u001b[1;31mNameError\u001b[0m: name 'df_prophet' is not defined"
     ]
    }
   ],
   "source": [
    "y_true_death = df_prophet.y.values\n",
    "y_pred_daily = fcst_daily.loc[fcst_daily['ds'] <= max_date].yhat.values\n",
    "y_pred_no_daily = fcst_no_daily.loc[fcst_no_daily['ds'] <= max_date].yhat.values"
   ]
  }
 ],
 "metadata": {
  "kernelspec": {
   "display_name": "Python 3",
   "language": "python",
   "name": "python3"
  },
  "language_info": {
   "codemirror_mode": {
    "name": "ipython",
    "version": 3
   },
   "file_extension": ".py",
   "mimetype": "text/x-python",
   "name": "python",
   "nbconvert_exporter": "python",
   "pygments_lexer": "ipython3",
   "version": "3.7.4"
  }
 },
 "nbformat": 4,
 "nbformat_minor": 2
}
